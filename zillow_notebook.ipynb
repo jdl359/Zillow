{
 "cells": [
  {
   "cell_type": "markdown",
   "metadata": {},
   "source": [
    "# Zillow Challenge"
   ]
  },
  {
   "cell_type": "markdown",
   "metadata": {},
   "source": [
    "##  Data input"
   ]
  },
  {
   "cell_type": "code",
   "execution_count": 104,
   "metadata": {
    "collapsed": true
   },
   "outputs": [],
   "source": [
    "import os\n",
    "import numpy as np\n",
    "import pandas as pd\n",
    "import matplotlib.pyplot as plt\n",
    "\n",
    "from numpy import seterr,isneginf,array\n",
    "from datetime import datetime\n",
    "from pandas import compat\n",
    "from operator import itemgetter\n",
    "from sklearn import tree\n",
    "from sklearn import metrics\n",
    "from sklearn.preprocessing import scale\n",
    "from sklearn.neighbors import KDTree\n",
    "from sklearn.tree import DecisionTreeRegressor\n",
    "from sklearn.tree import DecisionTreeClassifier\n",
    "from sklearn.tree import export_graphviz\n",
    "from sklearn.linear_model import LogisticRegression\n",
    "from sklearn.svm import SVC\n",
    "from sklearn import metrics\n",
    "from sklearn.model_selection import cross_val_score\n",
    "from sklearn.model_selection import train_test_split\n",
    "from sklearn.model_selection import GridSearchCV\n",
    "from sklearn.model_selection import learning_curve\n",
    "from IPython.display import Image\n",
    "\n",
    "import seaborn as sns\n",
    "\n",
    "%matplotlib inline\n",
    "\n",
    "pd.set_option('display.max_columns', None)\n",
    "pd.set_option('display.max_row', 200)\n",
    "pd.options.display.float_format = '{:20,.2f}'.format\n",
    "compat.PY3 = False\n",
    "\n",
    "def Decision_Tree_Image(decision_tree, feature_names, name=\"temp\"):\n",
    "    \n",
    "    # Etrainport our decision tree to graphviz format\n",
    "    dot_file = tree.export_graphviz(decision_tree, out_file='images/' + name + '.dot', feature_names=feature_names)\n",
    "    \n",
    "    # Call graphviz to make an image file from our decision tree\n",
    "    os.system(\"dot -T png images/\" + name + \".dot -o images/\" + name + \".png\")\n",
    "    \n",
    "    # Return the .png image so we can see it\n",
    "    return Image(filename='images/' + name + '.png')"
   ]
  },
  {
   "cell_type": "code",
   "execution_count": 105,
   "metadata": {
    "collapsed": false
   },
   "outputs": [],
   "source": [
    "train_f = \"train_2016_v2.csv\"\n",
    "train = pd.read_csv(train_f, index_col = 'parcelid', parse_dates=['transactiondate'])\n",
    "train['transactiondate'] = pd.to_datetime(train['transactiondate']).astype(int)\n",
    "\n",
    "properties_f = \"properties_2016.csv\"\n",
    "properties = pd.read_csv(properties_f, index_col = 'parcelid')\n",
    "\n",
    "train_bak = train.join(properties) "
   ]
  },
  {
   "cell_type": "code",
   "execution_count": 106,
   "metadata": {
    "collapsed": false
   },
   "outputs": [],
   "source": [
    "#### TEST MODE  #####\n",
    "def getdata(pcnt): \n",
    "    return train_bak.sample(frac=pcnt)"
   ]
  },
  {
   "cell_type": "markdown",
   "metadata": {},
   "source": [
    "##  Feature creation"
   ]
  },
  {
   "cell_type": "code",
   "execution_count": 107,
   "metadata": {
    "collapsed": true
   },
   "outputs": [],
   "source": [
    "features_base = set()\n",
    "features_created_custom = set()\n",
    "features_created_null = set()"
   ]
  },
  {
   "cell_type": "code",
   "execution_count": 108,
   "metadata": {
    "collapsed": true
   },
   "outputs": [],
   "source": [
    "#################\n",
    "#  _isnull\n",
    "#################\n",
    "def add_isnull(dfs,feature):\n",
    "    featurename = feature+\"_isnull\"\n",
    "    features_created_null.add(featurename)\n",
    "    dfs[0][featurename] = dfs[0][feature].isnull()"
   ]
  },
  {
   "cell_type": "code",
   "execution_count": 109,
   "metadata": {
    "collapsed": false
   },
   "outputs": [],
   "source": [
    "#################\n",
    "#  taxrate\n",
    "#################\n",
    "def add_taxrate(dfs):\n",
    "    features_created_custom.add('taxrate')\n",
    "    dfs[0]['taxrate'] = np.divide(dfs[0]['taxamount'],dfs[0]['taxvaluedollarcnt'])"
   ]
  },
  {
   "cell_type": "code",
   "execution_count": 110,
   "metadata": {
    "collapsed": false
   },
   "outputs": [],
   "source": [
    "#################\n",
    "#  roomcntdiff\n",
    "#################\n",
    "def add_roomcntdiff(dfs):\n",
    "    features_created_custom.add('roomcntdiff')\n",
    "    dfs[0]['roomcntdiff'] = np.where(dfs[0]['roomcnt']==0, \n",
    "                                    np.negative(dfs[0]['bedroomcnt'].add(dfs[0]['bathroomcnt'])),\n",
    "                                    dfs[0]['roomcnt']\n",
    "                            )"
   ]
  },
  {
   "cell_type": "code",
   "execution_count": 111,
   "metadata": {
    "collapsed": true
   },
   "outputs": [],
   "source": [
    "#################\n",
    "# add_transactioncnt\n",
    "#################\n",
    "\n",
    "def add_transactioncnt(dfs):\n",
    "    features_created_custom.add('transactioncnt')\n",
    "    n1 = 200  # square ft bucketing\n",
    "    monthlag = 3\n",
    "    cols = ['transactionmonth', 'regionidzip', 'calculatedbathnbr']\n",
    "\n",
    "    dfs[0] = dfs[0].drop(['transactioncnt'], errors='ignore', axis=1)\n",
    "\n",
    "    dfs[0]['transactionmonth']    = pd.to_datetime(dfs[0]['transactiondate']).dt.month\n",
    "    dfs[0]['transactionmonthlag'] = np.subtract(dfs[0]['transactionmonth'],monthlag)    \n",
    "    dfs[0]['calculatedfinishedsquarefeet_t'] = np.ceil(np.divide(dfs[0]['calculatedfinishedsquarefeet'], n1))\n",
    "\n",
    "    sumdf = pd.DataFrame({'transactioncnt' : dfs[0].groupby([\n",
    "                    'transactionmonth' \n",
    "                    ,'regionidzip' \n",
    "                    ,'roomcnt'\n",
    "                    ,'calculatedfinishedsquarefeet_t'\n",
    "                ]).size()}).reset_index()\n",
    "    sumdf.rename(columns={'transactionmonth': 'transactionmonthlag'}, inplace=True)\n",
    "    dfs[0] = pd.merge(dfs[0], sumdf, on=['transactionmonthlag' \n",
    "                                ,'regionidzip' \n",
    "                                ,'roomcnt'\n",
    "                                 ,'calculatedfinishedsquarefeet_t'\n",
    "                                ], how='left')    \n",
    "    dfs[0] = dfs[0][dfs[0]['transactionmonthlag']>0]  # Drop sales done in earlier than monthlag months\n",
    "    dfs[0] = dfs[0].drop(['transactionmonth','transactionmonthlag','calculatedfinishedsquarefeet_t'], axis=1)"
   ]
  },
  {
   "cell_type": "code",
   "execution_count": 112,
   "metadata": {
    "collapsed": true
   },
   "outputs": [],
   "source": [
    "#################\n",
    "#  distanceavg\n",
    "#################\n",
    "def add_distanceavg(dfs):  \n",
    "    # Convert to miles, 1 degree = 69 miles\n",
    "    #df['latitudemi']  = df['latitude']* 5280 * 69/1e6\n",
    "    #df['longitudemi'] *= df['longitude'] * 5280* 69/1e6\n",
    "\n",
    "    features_created_custom.add('distanceavg')\n",
    "\n",
    "    n1 = 500  # square ft   # TODO: exponentiate as it grows bigger\n",
    "    n2 = 20000 # lot size\n",
    "    dfs[0]['calculatedfinishedsquarefeet_t'] = np.ceil(np.divide(dfs[0]['calculatedfinishedsquarefeet'], n1))\n",
    "    dfs[0]['lotsizesquarefeet_t'] = np.ceil(np.divide(dfs[0]['lotsizesquarefeet'], n2))    \n",
    "\n",
    "    monthlag = 3\n",
    "    dfs[0]['transactionmonth']    = pd.to_datetime(dfs[0]['transactiondate']).dt.month\n",
    "    dfs[0]['transactionmonthlag'] = np.subtract(dfs[0]['transactionmonth'],monthlag)    \n",
    "   \n",
    "    n=3    # n-1 nearest neighbor\n",
    "    dfs[0]['distanceavg'] = np.nan     # Unknown distance, one of feastures not available, assume 20\n",
    "    distancefeatures = ['latitude', 'longitude']   # features to measure distance\n",
    "    for i in dfs[0]['calculatedbathnbr'].unique():         # features to define comparables\n",
    "        for k in dfs[0]['lotsizesquarefeet_t'].unique():   \n",
    "            for l in dfs[0]['transactionmonthlag'].unique():\n",
    "                if ((~np.isnan(i)) \n",
    "                        #& (~np.isnan(j)) \n",
    "                        & (~np.isnan(k)) \n",
    "                        & (~np.isnan(l)) \n",
    "                       ):\n",
    "                    mask1 = (\n",
    "                            (dfs[0]['calculatedbathnbr'] == i)   \n",
    "                          #  & (df['bathroomcnt'] == j) \n",
    "                            & (dfs[0]['lotsizesquarefeet_t'] == k) \n",
    "                            & (dfs[0]['transactionmonth'] == l)\n",
    "                           ) \n",
    "                    df_subset1 = dfs[0][mask1]\n",
    "                    \n",
    "                    mask2 = (\n",
    "                            (dfs[0]['calculatedbathnbr'] == i)   \n",
    "                          #  & (df['bathroomcnt'] == j) \n",
    "                            & (dfs[0]['lotsizesquarefeet_t'] == k) \n",
    "                            & (dfs[0]['transactionmonthlag'] == l)\n",
    "                           ) \n",
    "                    df_subset2 = dfs[0][mask2]\n",
    "                    \n",
    "                    if ((len(df_subset1))>n-1 &\n",
    "                         (len(df_subset2))>1):\n",
    "                        kdt = KDTree(df_subset1.loc[:,distancefeatures], \n",
    "                                     leaf_size=30, \n",
    "                                     metric='euclidean')\n",
    "                        dists, neighs=kdt.query(df_subset2.loc[:,distancefeatures], \n",
    "                                                k=n, \n",
    "                                                return_distance=True) \n",
    "                        distanceavg=dists.mean(axis=1)\n",
    "                        #res = np.log(distanceavg)\n",
    "                        #res[isneginf(res)]=0\n",
    "                        dfs[0].loc[mask2,'distanceavg'] = distanceavg\n",
    "    dfs[0] = dfs[0].drop(['calculatedfinishedsquarefeet_t','lotsizesquarefeet_t',\n",
    "                         'transactionmonth','transactionmonthlag'], axis=1)\n",
    "    \n",
    "#['distanceavgmi']=train['distanceavg']* 69/1e6"
   ]
  },
  {
   "cell_type": "code",
   "execution_count": 113,
   "metadata": {
    "collapsed": false
   },
   "outputs": [],
   "source": [
    "def createfeatures(df, features):\n",
    "    functions = {\n",
    "                'taxrate': add_taxrate,\n",
    "                'roomcntdiff':add_roomcntdiff,\n",
    "                'transactioncnt':add_transactioncnt,\n",
    "                'distanceavg':add_distanceavg   \n",
    "                } \n",
    "    for f in features:\n",
    "        functions[f]([df])"
   ]
  },
  {
   "cell_type": "code",
   "execution_count": 114,
   "metadata": {
    "collapsed": false
   },
   "outputs": [],
   "source": [
    "def createfeaturesnull(df):\n",
    "    for f in (train.columns - ['logerror']):\n",
    "        add_isnull([train],f)"
   ]
  },
  {
   "cell_type": "code",
   "execution_count": 115,
   "metadata": {
    "collapsed": false
   },
   "outputs": [],
   "source": [
    "train = getdata(1)"
   ]
  },
  {
   "cell_type": "code",
   "execution_count": 116,
   "metadata": {
    "collapsed": false
   },
   "outputs": [
    {
     "name": "stderr",
     "output_type": "stream",
     "text": [
      "/anaconda/lib/python2.7/site-packages/ipykernel/__main__.py:2: FutureWarning: using '-' to provide set differences with Indexes is deprecated, use .difference()\n",
      "  from ipykernel import kernelapp as app\n"
     ]
    }
   ],
   "source": [
    "# Add null features\n",
    "createfeaturesnull(train)"
   ]
  },
  {
   "cell_type": "code",
   "execution_count": 117,
   "metadata": {
    "collapsed": false
   },
   "outputs": [],
   "source": [
    "# Add custom features\n",
    "createfeatures(train,[\n",
    "               'taxrate',\n",
    "               'roomcntdiff',\n",
    "               'transactioncnt',\n",
    "               'distanceavg'\n",
    "              ])"
   ]
  },
  {
   "cell_type": "code",
   "execution_count": 118,
   "metadata": {
    "collapsed": true
   },
   "outputs": [],
   "source": [
    "#Binary\n",
    "features_binary = {'hashottuborspa',\n",
    "                'pooltypeid10',\n",
    "                'pooltypeid2',\n",
    "                'pooltypeid7',\n",
    "                'fireplaceflag',\n",
    "                'taxdelinquencyflag'}\n",
    "\n",
    "for f in features_binary:\n",
    "    train[f] = pd.Categorical(train[f]).codes"
   ]
  },
  {
   "cell_type": "code",
   "execution_count": 119,
   "metadata": {
    "collapsed": false
   },
   "outputs": [],
   "source": [
    "# Types\n",
    "features_types = {'airconditioningtypeid',\n",
    "                  'architecturalstyletypeid',\n",
    "                  'buildingqualitytypeid',\n",
    "                  'buildingclasstypeid',\n",
    "                  'decktypeid',\n",
    "                  'heatingorsystemtypeid',\n",
    "                  'propertycountylandusecode',\n",
    "                  'propertylandusetypeid',\n",
    "                  'propertyzoningdesc',\n",
    "                  'typeconstructiontypeid',\n",
    "                  'storytypeid'}\n",
    "\n",
    "for f in features_types:\n",
    "    train[f] = pd.Categorical(train[f]).codes"
   ]
  },
  {
   "cell_type": "code",
   "execution_count": 120,
   "metadata": {
    "collapsed": true
   },
   "outputs": [],
   "source": [
    "train = train.fillna(-1)"
   ]
  },
  {
   "cell_type": "code",
   "execution_count": 121,
   "metadata": {
    "collapsed": true
   },
   "outputs": [],
   "source": [
    "train_full = train"
   ]
  },
  {
   "cell_type": "markdown",
   "metadata": {},
   "source": [
    "##  Feature selection"
   ]
  },
  {
   "cell_type": "code",
   "execution_count": 122,
   "metadata": {
    "collapsed": false
   },
   "outputs": [],
   "source": [
    "features_created_null = set([\n",
    "'airconditioningtypeid_isnull',\n",
    " 'airconditioningtypeid_isnull_isnull',\n",
    " 'architecturalstyletypeid_isnull',\n",
    " 'architecturalstyletypeid_isnull_isnull',\n",
    " 'assessmentyear_isnull',\n",
    " 'assessmentyear_isnull_isnull',\n",
    " 'basementsqft_isnull',\n",
    " 'basementsqft_isnull_isnull',\n",
    " 'bathroomcnt_isnull',\n",
    " 'bathroomcnt_isnull_isnull',\n",
    " 'bedroomcnt_isnull',\n",
    " 'bedroomcnt_isnull_isnull',\n",
    " 'buildingclasstypeid_isnull',\n",
    " 'buildingclasstypeid_isnull_isnull',\n",
    " 'buildingqualitytypeid_isnull',\n",
    " 'buildingqualitytypeid_isnull_isnull',\n",
    " 'calculatedbathnbr_isnull',\n",
    " 'calculatedbathnbr_isnull_isnull',\n",
    " 'calculatedfinishedsquarefeet_isnull',\n",
    " 'calculatedfinishedsquarefeet_isnull_isnull',\n",
    " 'censustractandblock_isnull',\n",
    " 'censustractandblock_isnull_isnull',\n",
    " 'decktypeid_isnull',\n",
    " 'decktypeid_isnull_isnull',\n",
    " 'finishedfloor1squarefeet_isnull',\n",
    " 'finishedfloor1squarefeet_isnull_isnull',\n",
    " 'finishedsquarefeet12_isnull',\n",
    " 'finishedsquarefeet12_isnull_isnull',\n",
    " 'finishedsquarefeet13_isnull',\n",
    " 'finishedsquarefeet13_isnull_isnull',\n",
    " 'finishedsquarefeet15_isnull',\n",
    " 'finishedsquarefeet15_isnull_isnull',\n",
    " 'finishedsquarefeet50_isnull',\n",
    " 'finishedsquarefeet50_isnull_isnull',\n",
    " 'finishedsquarefeet6_isnull',\n",
    " 'finishedsquarefeet6_isnull_isnull',\n",
    " 'fips_isnull',\n",
    " 'fips_isnull_isnull',\n",
    " 'fireplacecnt_isnull',\n",
    " 'fireplacecnt_isnull_isnull',\n",
    " 'fireplaceflag_isnull',\n",
    " 'fireplaceflag_isnull_isnull',\n",
    " 'fullbathcnt_isnull',\n",
    " 'fullbathcnt_isnull_isnull',\n",
    " 'garagecarcnt_isnull',\n",
    " 'garagecarcnt_isnull_isnull',\n",
    " 'garagetotalsqft_isnull',\n",
    " 'garagetotalsqft_isnull_isnull',\n",
    " 'hashottuborspa_isnull',\n",
    " 'hashottuborspa_isnull_isnull',\n",
    " 'heatingorsystemtypeid_isnull',\n",
    " 'heatingorsystemtypeid_isnull_isnull',\n",
    " 'landtaxvaluedollarcnt_isnull',\n",
    " 'landtaxvaluedollarcnt_isnull_isnull',\n",
    " 'latitude_isnull',\n",
    " 'latitude_isnull_isnull',\n",
    " 'logerror_isnull_isnull',\n",
    " 'longitude_isnull',\n",
    " 'longitude_isnull_isnull',\n",
    " 'lotsizesquarefeet_isnull',\n",
    " 'lotsizesquarefeet_isnull_isnull',\n",
    " 'numberofstories_isnull',\n",
    " 'numberofstories_isnull_isnull',\n",
    " 'poolcnt_isnull',\n",
    " 'poolcnt_isnull_isnull',\n",
    " 'poolsizesum_isnull',\n",
    " 'poolsizesum_isnull_isnull',\n",
    " 'pooltypeid10_isnull',\n",
    " 'pooltypeid10_isnull_isnull',\n",
    " 'pooltypeid2_isnull',\n",
    " 'pooltypeid2_isnull_isnull',\n",
    " 'pooltypeid7_isnull',\n",
    " 'pooltypeid7_isnull_isnull',\n",
    " 'propertycountylandusecode_isnull',\n",
    " 'propertycountylandusecode_isnull_isnull',\n",
    " 'propertylandusetypeid_isnull',\n",
    " 'propertylandusetypeid_isnull_isnull',\n",
    " 'propertyzoningdesc_isnull',\n",
    " 'propertyzoningdesc_isnull_isnull',\n",
    " 'rawcensustractandblock_isnull',\n",
    " 'rawcensustractandblock_isnull_isnull',\n",
    " 'regionidcity_isnull',\n",
    " 'regionidcity_isnull_isnull',\n",
    " 'regionidcounty_isnull',\n",
    " 'regionidcounty_isnull_isnull',\n",
    " 'regionidneighborhood_isnull',\n",
    " 'regionidneighborhood_isnull_isnull',\n",
    " 'regionidzip_isnull',\n",
    " 'regionidzip_isnull_isnull',\n",
    " 'roomcnt_isnull',\n",
    " 'roomcnt_isnull_isnull',\n",
    " 'storytypeid_isnull',\n",
    " 'storytypeid_isnull_isnull',\n",
    " 'structuretaxvaluedollarcnt_isnull',\n",
    " 'structuretaxvaluedollarcnt_isnull_isnull',\n",
    " 'taxamount_isnull',\n",
    " 'taxamount_isnull_isnull',\n",
    " 'taxdelinquencyflag_isnull',\n",
    " 'taxdelinquencyflag_isnull_isnull',\n",
    " 'taxdelinquencyyear_isnull',\n",
    " 'taxdelinquencyyear_isnull_isnull',\n",
    " 'taxvaluedollarcnt_isnull',\n",
    " 'taxvaluedollarcnt_isnull_isnull',\n",
    " 'threequarterbathnbr_isnull',\n",
    " 'threequarterbathnbr_isnull_isnull',\n",
    " 'transactiondate_isnull',\n",
    " 'transactiondate_isnull_isnull',\n",
    " 'typeconstructiontypeid_isnull',\n",
    " 'typeconstructiontypeid_isnull_isnull',\n",
    " 'unitcnt_isnull',\n",
    " 'unitcnt_isnull_isnull',\n",
    " 'yardbuildingsqft17_isnull',\n",
    " 'yardbuildingsqft17_isnull_isnull',\n",
    " 'yardbuildingsqft26_isnull',\n",
    " 'yardbuildingsqft26_isnull_isnull',\n",
    " 'yearbuilt_isnull',\n",
    " 'yearbuilt_isnull_isnull'        \n",
    "    ])"
   ]
  },
  {
   "cell_type": "code",
   "execution_count": 123,
   "metadata": {
    "collapsed": false
   },
   "outputs": [],
   "source": [
    "features_created_custom = set([\n",
    "                'taxrate',\n",
    "               'roomcntdiff',\n",
    "               'transactioncnt',\n",
    "               'distanceavg'\n",
    "    ])"
   ]
  },
  {
   "cell_type": "code",
   "execution_count": 124,
   "metadata": {
    "collapsed": false
   },
   "outputs": [],
   "source": [
    "features_base = set([\n",
    " ##########\n",
    " #  train data\n",
    " ##########\n",
    " 'logerror', # Predictor variable \n",
    "         \n",
    " ##########\n",
    " #  Numeric attributes\n",
    " ##########\n",
    " # ROOMS\n",
    " 'roomcnt',\t#  Total number of rooms in the principal residence\n",
    "\n",
    " # BATHROOMS\n",
    " 'bathroomcnt',\t#  Number of bathrooms in home including fractional bathrooms\n",
    " 'calculatedbathnbr',\t#  Number of bathrooms in home including fractional bathroom\n",
    " 'threequarterbathnbr',\t#  Number of 3/4 bathrooms in house (shower + sink + toilet)\n",
    " 'fullbathcnt',\t#  Number of full bathrooms (sink, shower + bathtub, and toilet) present in home\n",
    "\n",
    " # BEDROOMS\n",
    " 'bedroomcnt',\t#  Number of bedrooms in home \n",
    "        \n",
    "  # MEASUREMENTS\n",
    "  'basementsqft', #  Finished living area below or partially below ground level\n",
    "  'calculatedfinishedsquarefeet',\t#  Calculated total finished living area of the home \n",
    "  'finishedfloor1squarefeet',\t#  Size of the finished living area on the first (entry) floor of the home\n",
    "  'finishedsquarefeet6',\t# Base unfinished and finished area\n",
    "  'finishedsquarefeet12',\t# Finished living area\n",
    "  'finishedsquarefeet13',\t# Perimeter  living area\n",
    "  'finishedsquarefeet15',\t# Total area\n",
    "  'finishedsquarefeet50',\t#  Size of the finished living area on the first (entry) floor of the home\n",
    "  'lotsizesquarefeet',\t#  Area of the lot in square feet\n",
    "        \n",
    " # FIREPLACE\n",
    " 'fireplacecnt',\t#  Number of fireplaces in a home (if any)\n",
    "\n",
    " # GARAGE\n",
    " 'garagecarcnt',\t#  Total number of garages on the lot including an attached garage\n",
    " 'garagetotalsqft',\t#  Total number of square feet of all garages on lot including an attached garage\n",
    "\n",
    " # TAXES\n",
    " 'landtaxvaluedollarcnt',\t# The assessed value of the land area of the parcel\n",
    " 'structuretaxvaluedollarcnt',\t# The assessed value of the built structure on the parcel\n",
    " 'taxamount',\t# The total property tax assessed for that assessment year\n",
    " 'taxvaluedollarcnt',\t# The total tax assessed value of the parcel\n",
    "\n",
    " # POOL\n",
    " 'poolcnt',\t#  Number of pools on the lot (if any)\n",
    " 'poolsizesum',\t#  Total square footage of all pools on property\n",
    "\n",
    " # YARD\n",
    " 'yardbuildingsqft17',\t# Patio in  yard\n",
    " 'yardbuildingsqft26',\t# Storage shed/building in yard\n",
    "\n",
    " # BUILDING\n",
    " 'numberofstories',\t#  Number of stories or levels the home has\n",
    " 'unitcnt',\t#  Number of units the structure is built into (i.e. 2 = dupletrain, 3 = tripletrain, etc...)\n",
    "\n",
    " ##########\n",
    " #  Time\n",
    " ##########\n",
    "#####    'transactiondate',   ## from train data\n",
    " 'yearbuilt',\t#  The Year the principal residence was built      \n",
    " 'taxdelinquencyyear',\t# Year for which the unpaid propert tatraines were due \n",
    " 'assessmentyear',\t# The year of the property tax assessment \n",
    "     \n",
    " ##########\n",
    " #  Location\n",
    " ########## \n",
    " 'latitude',\t#  Latitude of the middle of the parcel multiplied by 10e6\n",
    " 'longitude',\t#  Longitude of the middle of the parcel multiplied by 10e6        \n",
    " 'regionidcounty',\t# County in which the property is located\n",
    " 'regionidcity',\t#  City in which the property is located (if any)\n",
    " 'regionidzip',\t#  Zip code in which the property is located\n",
    " 'regionidneighborhood',\t# Neighborhood in which the property is located\n",
    " 'rawcensustractandblock',\t#  Census tract and block ID combined - also contains blockgroup assignment by etraintension\n",
    " 'censustractandblock',\t#  Census tract and block ID combined - also contains blockgroup assignment by etraintension        \n",
    "        \n",
    " ##########\n",
    " #  Binary\n",
    " ##########         \n",
    " 'hashottuborspa',\t#  Does the home have a hot tub or spa - array([nan, True], dtype=object)\n",
    "        # array([nan, True], dtype=object)\n",
    " 'pooltypeid10',\t#  Spa or Hot Tub - [array([ nan,   1.])]\n",
    "        # array([ nan,   1.])\n",
    " 'pooltypeid2',\t#  Pool with Spa/Hot Tub - [array([ nan,   1.])]\n",
    "        # array([ nan,   1.])\n",
    " 'pooltypeid7',\t#  Pool without hot tub - [array([ nan,   1.])]\n",
    "        # array([ nan,   1.])\n",
    " 'fireplaceflag',\t#  Is a fireplace present in this home - array([nan, True], dtype=object)\n",
    "        # array([nan, True], dtype=object)\n",
    " 'taxdelinquencyflag',\t# Property tatraines for this parcel are past due as of 2015 - array([nan, 'Y'], dtype=object)\n",
    "        # array([nan, 'Y'], dtype=object)\n",
    "        \n",
    " ##########\n",
    " #  Types\n",
    " ##########    \n",
    " 'airconditioningtypeid', #  Type of cooling system present in the home (if any)\n",
    " 'architecturalstyletypeid', #  Architectural style of the home (i.e. ranch, colonial, split-level, etc…) \n",
    "        # array([ nan,   7.,  21.,   8.,   2.,   3.,   5.,  10.,  27.])\n",
    " 'buildingqualitytypeid',\t#  Overall assessment of condition of the building from best (lowest) to worst (highest)\n",
    "        # array([ nan,   7.,   4.,  10.,   1.,  12.,   8.,   3.,   6.,   9.,   5.,\n",
    "        #11.,   2.])\n",
    " 'buildingclasstypeid',\t# The building framing type (steel frame, wood frame, concrete/brick) \n",
    "        # array([ nan,   3.,   4.,   5.,   2.,   1.])\n",
    " 'decktypeid',\t# Type of deck (if any) present on parcel\n",
    "        # array([ nan,  66.])\n",
    " 'heatingorsystemtypeid',\t#  Type of home heating system\n",
    "        # array([ nan,   2.,   7.,  20.,   6.,  13.,  18.,  24.,  12.,  10.,   1.,\n",
    "        # 14.,  21.,  11.,  19.])\n",
    " 'propertycountylandusecode',\t#  County land use code i.e. it's zoning at the county level\n",
    "        #array([nan,'010D', '0109', '1200', '1210', '010V', '300V', '0100', '0200',\n",
    "        #'010C', '0300', '1204', '100V', '01HC', '120C', '040V', '1214', ... \n",
    "        # ], dtype=object)\n",
    " 'propertylandusetypeid',\t#  Type of land use the property is zoned for\n",
    "        # array([ 269.,  261.,   47.,   31.,  260.,  266.,  246.,  247.,  248.,\n",
    "        # 263.,  265.,  275.,  267.,  264.,  270.,   nan])\n",
    " 'propertyzoningdesc',\t#  Description of the allowed land uses (zoning) for that property   \n",
    "        # array([nan, 'LCA11*', 'LAC2', ..., 'WCR1400000', 'EMPYYY', 'RMM2*'], dtype=object)\n",
    " 'typeconstructiontypeid',\t#  What type of construction material was used to construct the home\n",
    "        # array([ nan,   6.,   4.,  10.,  13.,  11.])\n",
    " 'storytypeid',\t#  Type of floors in a multi-story house (i.e. basement and main level, split-level, attic, etc.).  See tab for details.\n",
    "        # array([ nan,   7.])\n",
    "\n",
    " ##########\n",
    " #  Misc\n",
    " ########## \n",
    " #'fips',\t#  Federal Information Processing Standard code -  see https://en.wikipedia.org/wiki/FIPS_county_code for more details\n",
    "        # array([ 6037.,  6059.,  6111.,    nan])\n",
    " #'parcelid',\t#  Unique identifier for parcels (lots)   \n",
    "])\n",
    "\n"
   ]
  },
  {
   "cell_type": "code",
   "execution_count": 125,
   "metadata": {
    "collapsed": false
   },
   "outputs": [],
   "source": [
    "features_to_keep = set()\n",
    "features_to_keep = features_to_keep.union(\n",
    "                            features_base,\n",
    "                            features_created_custom,\n",
    "                            features_created_null\n",
    "                            )"
   ]
  },
  {
   "cell_type": "code",
   "execution_count": 127,
   "metadata": {
    "collapsed": true
   },
   "outputs": [],
   "source": [
    "train_filtered = train_full\n",
    "for column in train.columns:\n",
    "    if column not in features_to_keep:\n",
    "        train_filtered = train_filtered.drop(column, axis=1)"
   ]
  },
  {
   "cell_type": "markdown",
   "metadata": {},
   "source": [
    "## Sample"
   ]
  },
  {
   "cell_type": "code",
   "execution_count": 132,
   "metadata": {
    "collapsed": true
   },
   "outputs": [],
   "source": [
    "def getsample(pcnt): \n",
    "    return train_filtered.sample(frac=pcnt)"
   ]
  },
  {
   "cell_type": "code",
   "execution_count": 133,
   "metadata": {
    "collapsed": true
   },
   "outputs": [],
   "source": [
    "train_sample = getsample(.1)\n",
    "Y = train_sample[['logerror']]\n",
    "X = train_sample.drop('logerror',axis=1)"
   ]
  },
  {
   "cell_type": "markdown",
   "metadata": {},
   "source": [
    "## Modeling"
   ]
  },
  {
   "cell_type": "code",
   "execution_count": 134,
   "metadata": {
    "collapsed": false
   },
   "outputs": [
    {
     "name": "stderr",
     "output_type": "stream",
     "text": [
      "//anaconda/lib/python2.7/site-packages/sklearn/model_selection/_split.py:2010: FutureWarning: From version 0.21, test_size will always complement train_size unless both are specified.\n",
      "  FutureWarning)\n"
     ]
    }
   ],
   "source": [
    "X_train, X_test, Y_train, Y_test = train_test_split(X, Y, train_size=.9)"
   ]
  },
  {
   "cell_type": "code",
   "execution_count": 136,
   "metadata": {
    "collapsed": false
   },
   "outputs": [
    {
     "name": "stdout",
     "output_type": "stream",
     "text": [
      "('min_samples_split =', 451)\n",
      "('min_samples_split =', 22)\n"
     ]
    },
    {
     "data": {
      "text/plain": [
       "DecisionTreeRegressor(criterion='mae', max_depth=None, max_features=None,\n",
       "           max_leaf_nodes=None, min_impurity_decrease=0.0,\n",
       "           min_impurity_split=None, min_samples_leaf=22,\n",
       "           min_samples_split=451, min_weight_fraction_leaf=0.0,\n",
       "           presort=False, random_state=None, splitter='best')"
      ]
     },
     "execution_count": 136,
     "metadata": {},
     "output_type": "execute_result"
    }
   ],
   "source": [
    "# Fit regression model\n",
    "min_samples_split = int(round(len(X_train)/10, 0))\n",
    "min_samples_leaf = int(round(len(X_train)/200, 0))\n",
    "\n",
    "print(\"min_samples_split =\", min_samples_split)\n",
    "print(\"min_samples_split =\", min_samples_leaf)\n",
    "\n",
    "model = DecisionTreeRegressor(max_depth=None, \n",
    "                              min_samples_split = min_samples_split,\n",
    "                              min_samples_leaf = min_samples_leaf,\n",
    "                              criterion = \"mae\")\n",
    "model.fit(X_train, Y_train)"
   ]
  },
  {
   "cell_type": "code",
   "execution_count": null,
   "metadata": {
    "collapsed": false
   },
   "outputs": [
    {
     "name": "stderr",
     "output_type": "stream",
     "text": [
      "//anaconda/lib/python2.7/site-packages/sklearn/utils/validation.py:547: DataConversionWarning: A column-vector y was passed when a 1d array was expected. Please change the shape of y to (n_samples, ), for example using ravel().\n",
      "  y = column_or_1d(y, warn=True)\n"
     ]
    }
   ],
   "source": [
    "# Feature search\n",
    "from sklearn.feature_selection import RFE\n",
    "rfe = RFE(model, 6)\n",
    "fit = rfe.fit(X_train, Y_train)\n",
    "print(\"Num Features: %d\") % fit.n_features_\n",
    "print(\"Selected Features: %s\") % fit.support_\n",
    "print(\"Feature Ranking: %s\") % fit.ranking_"
   ]
  },
  {
   "cell_type": "raw",
   "metadata": {},
   "source": [
    "# Parameter search\n",
    "parameters = {#'max_depth':[], \n",
    "              'min_samples_split':[1000, 5000],\n",
    "             'min_samples_leaf':[250, 500, 2000]}\n",
    "clf = GridSearchCV(model, parameters)\n",
    "clf.fit(X_train,Y_train)\n",
    "sorted(clf.cv_results_.items())"
   ]
  },
  {
   "cell_type": "code",
   "execution_count": 137,
   "metadata": {
    "collapsed": false
   },
   "outputs": [],
   "source": [
    "Y_predict=model.predict(X_test)"
   ]
  },
  {
   "cell_type": "code",
   "execution_count": 138,
   "metadata": {
    "collapsed": false
   },
   "outputs": [
    {
     "data": {
      "text/plain": [
       "[(0.1604, 'taxrate'),\n",
       " (0.1463, 'calculatedfinishedsquarefeet'),\n",
       " (0.1331, 'lotsizesquarefeet'),\n",
       " (0.0714, 'taxvaluedollarcnt'),\n",
       " (0.0696, 'landtaxvaluedollarcnt'),\n",
       " (0.0677, 'structuretaxvaluedollarcnt'),\n",
       " (0.0537, 'taxamount'),\n",
       " (0.0458, 'finishedsquarefeet15'),\n",
       " (0.0455, 'censustractandblock'),\n",
       " (0.0393, 'yearbuilt'),\n",
       " (0.0377, 'taxdelinquencyyear'),\n",
       " (0.0301, 'longitude'),\n",
       " (0.0297, 'hashottuborspa'),\n",
       " (0.0275, 'latitude'),\n",
       " (0.0262, 'propertyzoningdesc'),\n",
       " (0.016, 'heatingorsystemtypeid'),\n",
       " (0.0, 'yearbuilt_isnull'),\n",
       " (0.0, 'yardbuildingsqft26_isnull'),\n",
       " (0.0, 'yardbuildingsqft26'),\n",
       " (0.0, 'yardbuildingsqft17_isnull'),\n",
       " (0.0, 'yardbuildingsqft17'),\n",
       " (0.0, 'unitcnt_isnull'),\n",
       " (0.0, 'unitcnt'),\n",
       " (0.0, 'typeconstructiontypeid_isnull'),\n",
       " (0.0, 'typeconstructiontypeid'),\n",
       " (0.0, 'transactiondate_isnull'),\n",
       " (0.0, 'threequarterbathnbr_isnull'),\n",
       " (0.0, 'threequarterbathnbr'),\n",
       " (0.0, 'taxvaluedollarcnt_isnull'),\n",
       " (0.0, 'taxdelinquencyyear_isnull'),\n",
       " (0.0, 'taxdelinquencyflag_isnull'),\n",
       " (0.0, 'taxdelinquencyflag'),\n",
       " (0.0, 'taxamount_isnull'),\n",
       " (0.0, 'structuretaxvaluedollarcnt_isnull'),\n",
       " (0.0, 'storytypeid_isnull'),\n",
       " (0.0, 'storytypeid'),\n",
       " (0.0, 'roomcntdiff'),\n",
       " (0.0, 'roomcnt_isnull'),\n",
       " (0.0, 'roomcnt'),\n",
       " (0.0, 'regionidzip_isnull'),\n",
       " (0.0, 'regionidzip'),\n",
       " (0.0, 'regionidneighborhood_isnull'),\n",
       " (0.0, 'regionidneighborhood'),\n",
       " (0.0, 'regionidcounty_isnull'),\n",
       " (0.0, 'regionidcounty'),\n",
       " (0.0, 'regionidcity_isnull'),\n",
       " (0.0, 'regionidcity'),\n",
       " (0.0, 'rawcensustractandblock_isnull'),\n",
       " (0.0, 'rawcensustractandblock'),\n",
       " (0.0, 'propertyzoningdesc_isnull'),\n",
       " (0.0, 'propertylandusetypeid_isnull'),\n",
       " (0.0, 'propertylandusetypeid'),\n",
       " (0.0, 'propertycountylandusecode_isnull'),\n",
       " (0.0, 'propertycountylandusecode'),\n",
       " (0.0, 'pooltypeid7_isnull'),\n",
       " (0.0, 'pooltypeid7'),\n",
       " (0.0, 'pooltypeid2_isnull'),\n",
       " (0.0, 'pooltypeid2'),\n",
       " (0.0, 'pooltypeid10_isnull'),\n",
       " (0.0, 'pooltypeid10'),\n",
       " (0.0, 'poolsizesum_isnull'),\n",
       " (0.0, 'poolsizesum'),\n",
       " (0.0, 'poolcnt_isnull'),\n",
       " (0.0, 'poolcnt'),\n",
       " (0.0, 'numberofstories_isnull'),\n",
       " (0.0, 'numberofstories'),\n",
       " (0.0, 'lotsizesquarefeet_isnull'),\n",
       " (0.0, 'longitude_isnull'),\n",
       " (0.0, 'latitude_isnull'),\n",
       " (0.0, 'landtaxvaluedollarcnt_isnull'),\n",
       " (0.0, 'heatingorsystemtypeid_isnull'),\n",
       " (0.0, 'hashottuborspa_isnull'),\n",
       " (0.0, 'garagetotalsqft_isnull'),\n",
       " (0.0, 'garagetotalsqft'),\n",
       " (0.0, 'garagecarcnt_isnull'),\n",
       " (0.0, 'garagecarcnt'),\n",
       " (0.0, 'fullbathcnt_isnull'),\n",
       " (0.0, 'fullbathcnt'),\n",
       " (0.0, 'fireplaceflag_isnull'),\n",
       " (0.0, 'fireplaceflag'),\n",
       " (0.0, 'fireplacecnt_isnull'),\n",
       " (0.0, 'fireplacecnt'),\n",
       " (0.0, 'fips_isnull'),\n",
       " (0.0, 'finishedsquarefeet6_isnull'),\n",
       " (0.0, 'finishedsquarefeet6'),\n",
       " (0.0, 'finishedsquarefeet50_isnull'),\n",
       " (0.0, 'finishedsquarefeet50'),\n",
       " (0.0, 'finishedsquarefeet15_isnull'),\n",
       " (0.0, 'finishedsquarefeet13_isnull'),\n",
       " (0.0, 'finishedsquarefeet13'),\n",
       " (0.0, 'finishedsquarefeet12_isnull'),\n",
       " (0.0, 'finishedsquarefeet12'),\n",
       " (0.0, 'finishedfloor1squarefeet_isnull'),\n",
       " (0.0, 'finishedfloor1squarefeet'),\n",
       " (0.0, 'distanceavg'),\n",
       " (0.0, 'decktypeid_isnull'),\n",
       " (0.0, 'decktypeid'),\n",
       " (0.0, 'censustractandblock_isnull'),\n",
       " (0.0, 'calculatedfinishedsquarefeet_isnull'),\n",
       " (0.0, 'calculatedbathnbr_isnull'),\n",
       " (0.0, 'calculatedbathnbr'),\n",
       " (0.0, 'buildingqualitytypeid_isnull'),\n",
       " (0.0, 'buildingqualitytypeid'),\n",
       " (0.0, 'buildingclasstypeid_isnull'),\n",
       " (0.0, 'buildingclasstypeid'),\n",
       " (0.0, 'bedroomcnt_isnull'),\n",
       " (0.0, 'bedroomcnt'),\n",
       " (0.0, 'bathroomcnt_isnull'),\n",
       " (0.0, 'bathroomcnt'),\n",
       " (0.0, 'basementsqft_isnull'),\n",
       " (0.0, 'basementsqft'),\n",
       " (0.0, 'assessmentyear_isnull'),\n",
       " (0.0, 'assessmentyear'),\n",
       " (0.0, 'architecturalstyletypeid_isnull'),\n",
       " (0.0, 'architecturalstyletypeid'),\n",
       " (0.0, 'airconditioningtypeid_isnull'),\n",
       " (0.0, 'airconditioningtypeid')]"
      ]
     },
     "execution_count": 138,
     "metadata": {},
     "output_type": "execute_result"
    }
   ],
   "source": [
    "# Feature importance\n",
    "sorted(zip(map(lambda x: round(x, 4), model.feature_importances_), X_train.columns), \n",
    "             reverse=True)"
   ]
  },
  {
   "cell_type": "code",
   "execution_count": 139,
   "metadata": {
    "collapsed": false
   },
   "outputs": [
    {
     "data": {
      "text/plain": [
       "[('taxrate', 0.027833841741085052, array([[ 0.006]]), 4514, 1, 52),\n",
       " ('calculatedfinishedsquarefeet', 2713.5, array([[ 0.007]]), 4338, 2, 47),\n",
       " ('landtaxvaluedollarcnt', 15963.5, array([[ 0.006]]), 3794, 3, 4),\n",
       " ('roomcntdiff', -2.0, array([[ 0.0286]]), 47, -1, -1),\n",
       " ('yearbuilt', 1919.5, array([[ 0.005]]), 3747, 5, 6),\n",
       " ('roomcntdiff', -2.0, array([[-0.0166]]), 108, -1, -1),\n",
       " ('longitude', -119223800.0, array([[ 0.006]]), 3639, 7, 8),\n",
       " ('roomcntdiff', -2.0, array([[ 0.03295]]), 28, -1, -1),\n",
       " ('taxamount', 1774.905029296875, array([[ 0.005]]), 3611, 9, 10),\n",
       " ('roomcntdiff', -2.0, array([[ 0.0119]]), 420, -1, -1),\n",
       " ('finishedsquarefeet15', 1319.5, array([[ 0.005]]), 3191, 11, 46),\n",
       " ('taxrate', 0.017487503588199615, array([[ 0.005]]), 3122, 12, 45),\n",
       " ('hashottuborspa', -0.5, array([[ 0.006]]), 2908, 13, 44),\n",
       " ('latitude', 34237600.0, array([[ 0.006]]), 2858, 14, 43),\n",
       " ('taxdelinquencyyear', 8.5, array([[ 0.007]]), 2456, 15, 42),\n",
       " ('taxvaluedollarcnt', 1211644.5, array([[ 0.007]]), 2424, 16, 41),\n",
       " ('taxvaluedollarcnt', 741525.0, array([[ 0.007]]), 2373, 17, 40),\n",
       " ('landtaxvaluedollarcnt', 240952.0, array([[ 0.006]]), 2158, 18, 33),\n",
       " ('calculatedfinishedsquarefeet', 1614.5, array([[ 0.009]]), 1211, 19, 32),\n",
       " ('calculatedfinishedsquarefeet', 782.5, array([[ 0.007]]), 882, 20, 21),\n",
       " ('roomcntdiff', -2.0, array([[ 0.02275]]), 84, -1, -1),\n",
       " ('taxamount', 1898.6201171875, array([[ 0.006]]), 798, 22, 23),\n",
       " ('roomcntdiff', -2.0, array([[-0.01765]]), 22, -1, -1),\n",
       " ('taxrate', 0.010254096239805222, array([[ 0.006]]), 776, 24, 25),\n",
       " ('roomcntdiff', -2.0, array([[-0.0161]]), 27, -1, -1),\n",
       " ('structuretaxvaluedollarcnt', 255748.5, array([[ 0.007]]), 749, 26, 31),\n",
       " ('heatingorsystemtypeid', 0.5, array([[ 0.006]]), 720, 27, 28),\n",
       " ('roomcntdiff', -2.0, array([[ 0.01]]), 216, -1, -1),\n",
       " ('propertyzoningdesc', 601.0, array([[ 0.004]]), 504, 29, 30),\n",
       " ('roomcntdiff', -2.0, array([[-0.006]]), 131, -1, -1),\n",
       " ('roomcntdiff', -2.0, array([[ 0.006]]), 373, -1, -1),\n",
       " ('roomcntdiff', -2.0, array([[ 0.0276]]), 29, -1, -1),\n",
       " ('roomcntdiff', -2.0, array([[ 0.0169]]), 329, -1, -1),\n",
       " ('censustractandblock', 60372631420928.0, array([[ 0.003]]), 947, 34, 35),\n",
       " ('roomcntdiff', -2.0, array([[-0.0146]]), 138, -1, -1),\n",
       " ('lotsizesquarefeet', 8017.5, array([[ 0.005]]), 809, 36, 39),\n",
       " ('lotsizesquarefeet', 4053.0, array([[ 0.003]]), 615, 37, 38),\n",
       " ('roomcntdiff', -2.0, array([[ 0.008]]), 231, -1, -1),\n",
       " ('roomcntdiff', -2.0, array([[-0.002]]), 384, -1, -1),\n",
       " ('roomcntdiff', -2.0, array([[ 0.01]]), 194, -1, -1),\n",
       " ('roomcntdiff', -2.0, array([[ 0.0169]]), 215, -1, -1),\n",
       " ('roomcntdiff', -2.0, array([[-0.0233]]), 51, -1, -1),\n",
       " ('roomcntdiff', -2.0, array([[ 0.069]]), 32, -1, -1),\n",
       " ('roomcntdiff', -2.0, array([[ 0.]]), 402, -1, -1),\n",
       " ('roomcntdiff', -2.0, array([[-0.008]]), 50, -1, -1),\n",
       " ('roomcntdiff', -2.0, array([[-0.0085]]), 214, -1, -1),\n",
       " ('roomcntdiff', -2.0, array([[-0.0315]]), 69, -1, -1),\n",
       " ('lotsizesquarefeet', 29385.0, array([[ 0.0198]]), 544, 48, 51),\n",
       " ('structuretaxvaluedollarcnt', 290875.5, array([[ 0.0159]]), 485, 49, 50),\n",
       " ('roomcntdiff', -2.0, array([[ 0.0305]]), 167, -1, -1),\n",
       " ('roomcntdiff', -2.0, array([[ 0.0109]]), 318, -1, -1),\n",
       " ('roomcntdiff', -2.0, array([[ 0.062]]), 59, -1, -1),\n",
       " ('roomcntdiff', -2.0, array([[-0.02585]]), 176, -1, -1)]"
      ]
     },
     "execution_count": 139,
     "metadata": {},
     "output_type": "execute_result"
    }
   ],
   "source": [
    "# Tree description\n",
    "zip(X.columns[model.tree_.feature], \n",
    "    model.tree_.threshold, \n",
    "    model.tree_.value, \n",
    "    model.tree_.n_node_samples,\n",
    "    model.tree_.children_left, \n",
    "    model.tree_.children_right)"
   ]
  },
  {
   "cell_type": "code",
   "execution_count": null,
   "metadata": {
    "collapsed": false
   },
   "outputs": [],
   "source": [
    "#Decision_Tree_Image(model, X_train.columns)"
   ]
  },
  {
   "cell_type": "markdown",
   "metadata": {},
   "source": [
    "## Model evaluation"
   ]
  },
  {
   "cell_type": "code",
   "execution_count": 141,
   "metadata": {
    "collapsed": false,
    "scrolled": true
   },
   "outputs": [
    {
     "name": "stdout",
     "output_type": "stream",
     "text": [
      "('MAE: ', 0.066916216216216212)\n"
     ]
    }
   ],
   "source": [
    "# Zillow MAE (test)\n",
    "print(\"MAE: \",metrics.mean_absolute_error(Y_test['logerror'], Y_predict))"
   ]
  },
  {
   "cell_type": "code",
   "execution_count": 33,
   "metadata": {
    "collapsed": false
   },
   "outputs": [
    {
     "name": "stdout",
     "output_type": "stream",
     "text": [
      "('Features: ', Index([u'airconditioningtypeid', u'architecturalstyletypeid', u'basementsqft',\n",
      "       u'bathroomcnt', u'bedroomcnt', u'buildingclasstypeid',\n",
      "       u'buildingqualitytypeid', u'calculatedbathnbr', u'decktypeid',\n",
      "       u'finishedfloor1squarefeet',\n",
      "       ...\n",
      "       u'taxvaluedollarcnt_isnull', u'assessmentyear_isnull',\n",
      "       u'landtaxvaluedollarcnt_isnull', u'taxamount_isnull',\n",
      "       u'taxdelinquencyflag_isnull', u'taxdelinquencyyear_isnull',\n",
      "       u'censustractandblock_isnull', u'taxrate', u'roomcntdiff',\n",
      "       u'distanceavg'],\n",
      "      dtype='object', length=118))\n",
      "Tree params: \n"
     ]
    },
    {
     "ename": "NameError",
     "evalue": "name 'max_depth' is not defined",
     "output_type": "error",
     "traceback": [
      "\u001b[0;31m---------------------------------------------------------------------------\u001b[0m",
      "\u001b[0;31mNameError\u001b[0m                                 Traceback (most recent call last)",
      "\u001b[0;32m<ipython-input-33-ca680f242852>\u001b[0m in \u001b[0;36m<module>\u001b[0;34m()\u001b[0m\n\u001b[1;32m      1\u001b[0m \u001b[0;32mprint\u001b[0m \u001b[0;34m(\u001b[0m\u001b[0;34m\"Features: \"\u001b[0m\u001b[0;34m,\u001b[0m \u001b[0mX\u001b[0m\u001b[0;34m.\u001b[0m\u001b[0mcolumns\u001b[0m\u001b[0;34m)\u001b[0m\u001b[0;34m\u001b[0m\u001b[0m\n\u001b[1;32m      2\u001b[0m \u001b[0;32mprint\u001b[0m \u001b[0;34m(\u001b[0m\u001b[0;34m\"Tree params: \"\u001b[0m\u001b[0;34m)\u001b[0m\u001b[0;34m\u001b[0m\u001b[0m\n\u001b[0;32m----> 3\u001b[0;31m \u001b[0;32mprint\u001b[0m \u001b[0;34m(\u001b[0m\u001b[0;34m\"   max_depth \"\u001b[0m\u001b[0;34m,\u001b[0m \u001b[0mmax_depth\u001b[0m\u001b[0;34m)\u001b[0m\u001b[0;34m\u001b[0m\u001b[0m\n\u001b[0m\u001b[1;32m      4\u001b[0m \u001b[0;32mprint\u001b[0m \u001b[0;34m(\u001b[0m\u001b[0;34m\"   min_samples_split \"\u001b[0m\u001b[0;34m,\u001b[0m \u001b[0mmin_samples_split\u001b[0m\u001b[0;34m)\u001b[0m\u001b[0;34m\u001b[0m\u001b[0m\n\u001b[1;32m      5\u001b[0m \u001b[0;32mprint\u001b[0m \u001b[0;34m(\u001b[0m\u001b[0;34m\"   min_samples_leaf \"\u001b[0m\u001b[0;34m,\u001b[0m \u001b[0mmin_samples_leaf\u001b[0m\u001b[0;34m)\u001b[0m\u001b[0;34m\u001b[0m\u001b[0m\n",
      "\u001b[0;31mNameError\u001b[0m: name 'max_depth' is not defined"
     ]
    }
   ],
   "source": [
    "print (\"Features: \", X.columns)\n",
    "print (\"Tree params: \")\n",
    "print (\"   max_depth \", max_depth)\n",
    "print (\"   min_samples_split \", min_samples_split)\n",
    "print (\"   min_samples_leaf \", min_samples_leaf)\n",
    "print (\"Result: \",metrics.mean_absolute_error(Y_test['logerror'], Y_predict))"
   ]
  },
  {
   "cell_type": "raw",
   "metadata": {},
   "source": [
    "Parameter best fits -\n",
    "For 18K (.2 of data):\n",
    "    250 / 1000 \n",
    " \n",
    " [{'min_samples_leaf': 250, 'min_samples_split': 1000},\n",
    "   {'min_samples_leaf': 250, 'min_samples_split': 5000},\n",
    "   {'min_samples_leaf': 500, 'min_samples_split': 1000},\n",
    "   {'min_samples_leaf': 500, 'min_samples_split': 5000}]),\n",
    " ('rank_test_score', array([3, 2, 4, 1], dtype=int32)),"
   ]
  },
  {
   "cell_type": "raw",
   "metadata": {},
   "source": [
    "('Features: ', Index([u'calculatedfinishedsquarefeet', u'finishedsquarefeet15',\n",
    "       u'pooltypeid7', u'propertycountylandusecode', u'propertyzoningdesc',\n",
    "       u'taxrate', u'roomcntdiff', u'transactioncnt', u'distanceavg',\n",
    "       u'distanceavgmi'],\n",
    "      dtype='object'))\n",
    "Tree params: \n",
    "('   max_depth ', 200)\n",
    "('   min_samples_split ', 5000)\n",
    "('   min_samples_leaf ', 1000)\n",
    "('Result: ', 0.06390647272727272)\n",
    "\n",
    "[('calculatedfinishedsquarefeet', 1658.5, array([[ 0.005]]), 10997, 1, 6),\n",
    " ('taxrate', 0.016156036406755447, array([[ 0.002]]), 6271, 2, 5),\n",
    " ('taxrate', 0.01291256956756115, array([[ 0.003]]), 5226, 3, 4),\n",
    " ('distanceavg', -2.0, array([[ 0.002]]), 3413, -1, -1),\n",
    " ('distanceavg', -2.0, array([[ 0.005]]), 1813, -1, -1),\n",
    " ('distanceavg', -2.0, array([[-0.006]]), 1045, -1, -1),\n",
    " ('distanceavg', -2.0, array([[ 0.01]]), 4726, -1, -1)]\n",
    " \n",
    " ---------------------\n",
    "\n",
    "('Features: ', Index([u'bathroomcnt', u'buildingqualitytypeid', u'calculatedbathnbr',\n",
    "       u'calculatedfinishedsquarefeet', u'latitude', u'longitude',\n",
    "       u'pooltypeid2', u'pooltypeid7', u'propertycountylandusecode',\n",
    "       u'propertylandusetypeid', u'propertyzoningdesc', u'taxdelinquencyflag',\n",
    "       u'taxrate', u'roomcntdiff'],\n",
    "      dtype='object'))\n",
    "Tree params: \n",
    "('   max_depth ', 200)\n",
    "('   min_samples_split ', 5000)\n",
    "('   min_samples_leaf ', 1000)\n",
    "('Result: ', 0.062007585825027689)\n",
    "\n",
    "Results:\n",
    "('Features: ', Index([u'bathroomcnt', u'buildingqualitytypeid', u'calculatedbathnbr',\n",
    "       u'calculatedfinishedsquarefeet', u'latitude', u'longitude',\n",
    "       u'pooltypeid2', u'pooltypeid7', u'propertycountylandusecode',\n",
    "       u'propertylandusetypeid', u'propertyzoningdesc', u'taxdelinquencyflag',\n",
    "       u'taxrate', u'roomcntdiff', u'finishedtolotsizeratio'],\n",
    "      dtype='object'))\n",
    "Tree params: \n",
    "('   max_depth ', 200)\n",
    "('   min_samples_split ', 5000)\n",
    "('   min_samples_leaf ', 100)\n",
    "('Result: ', 0.063681838316722042)\n",
    "\n",
    "Results:\n",
    "('Features: ', Index([u'bathroomcnt', u'buildingqualitytypeid', u'calculatedbathnbr',\n",
    "       u'calculatedfinishedsquarefeet', u'garagetotalsqft', u'latitude',\n",
    "       u'longitude', u'pooltypeid2', u'pooltypeid7',\n",
    "       u'propertycountylandusecode', u'propertylandusetypeid',\n",
    "       u'propertyzoningdesc', u'taxdelinquencyflag', u'taxrate',\n",
    "       u'roomcntdiff'],\n",
    "      dtype='object'))\n",
    "Tree params: \n",
    "('   max_depth ', 200)\n",
    "('   min_samples_split ', 500)\n",
    "('   min_samples_leaf ', 5)\n",
    "('Result: ', 0.064791029900332225)\n",
    "\n",
    "\n",
    "('Features: ', Index([u'bathroomcnt', u'buildingqualitytypeid', u'calculatedbathnbr',\n",
    "       u'calculatedfinishedsquarefeet', u'garagetotalsqft', u'latitude',\n",
    "       u'longitude', u'pooltypeid2', u'pooltypeid7',\n",
    "       u'propertycountylandusecode', u'propertylandusetypeid',\n",
    "       u'propertyzoningdesc', u'taxdelinquencyflag', u'taxrate',\n",
    "       u'roomcntdiff'],\n",
    "      dtype='object'))\n",
    "Tree params: \n",
    "('   max_depth ', 200)\n",
    "('   min_samples_split ', 500)\n",
    "('   min_samples_leaf ', 5)\n",
    "('Result: ', 0.068285991140642308)"
   ]
  },
  {
   "cell_type": "raw",
   "metadata": {},
   "source": [
    "Features: calculatedfinishedsquarefeet\n",
    "Tree params:\n",
    "    max_depth: 200\n",
    "    min_samples_split: 500\n",
    "    min_samples_leaf: 5\n",
    "Result: ('MAE: ', 0.067769827204253438)\n",
    "\n",
    "('Features: ', Index([u'bathroomcnt', u'bedroomcnt', u'calculatedfinishedsquarefeet',\n",
    "       u'roomcnt', u'taxrate'],\n",
    "      dtype='object'))\n",
    "Tree params: \n",
    "('   max_depth ', 200)\n",
    "('   min_samples_split ', 500)\n",
    "('   max_samples_leaf ', 5)\n",
    "('Result: ', 0.068984714222419155)\n",
    "\n",
    "*********************\n",
    "* WINNER\n",
    "*********************\n",
    "('Features: ', Index([u'calculatedfinishedsquarefeet', u'taxrate'], dtype='object'))\n",
    "Tree params: \n",
    "('   max_depth ', 200)\n",
    "('   min_samples_split ', 500)\n",
    "('   max_samples_leaf ', 5)\n",
    "('Result: ', 0.06646845923792645)\n",
    "\n",
    "('Features: ', Index([u'calculatedfinishedsquarefeet', u'taxrate'], dtype='object'))\n",
    "Tree params: \n",
    "('   max_depth ', 200)\n",
    "('   min_samples_split ', 500)\n",
    "('   min_samples_leaf ', 5)\n",
    "('Result: ', 0.070746339167035904)\n",
    "\n",
    "('Features: ', Index([u'calculatedfinishedsquarefeet', u'taxrate', u'roomcnt_offby'], dtype='object'))\n",
    "Tree params: \n",
    "('   max_depth ', 200)\n",
    "('   min_samples_split ', 500)\n",
    "('   max_samples_leaf ', 5)\n",
    "('Result: ', 0.068475326761187422)\n",
    "\n",
    "('Features: ', Index([u'calculatedfinishedsquarefeet', u'roomcnt', u'taxrate',\n",
    "       u'roomcnt_offby'],\n",
    "      dtype='object'))\n",
    "Tree params: \n",
    "('   max_depth ', 200)\n",
    "('   min_samples_split ', 500)\n",
    "('   max_samples_leaf ', 5)\n",
    "('Result: ', 0.06741981058927779)\n",
    "\n",
    "('Features: ', Index([u'calculatedfinishedsquarefeet', u'roomcnt', u'taxrate'], dtype='object'))\n",
    "Tree params: \n",
    "('   max_depth ', 200)\n",
    "('   min_samples_split ', 500)\n",
    "('   max_samples_leaf ', 5)\n",
    "('Result: ', 0.067915003322995146)\n",
    "\n",
    "('Features: ', Index([u'calculatedfinishedsquarefeet', u'roomcnt', u'taxrate',\n",
    "       u'logerroravg - zip'],\n",
    "      dtype='object'))\n",
    "Tree params: \n",
    "('   max_depth ', 200)\n",
    "('   min_samples_split ', 500)\n",
    "('   max_samples_leaf ', 5)\n",
    "('Result: ', 0.069011060035445271)\n",
    "\n",
    "('Features: ', Index([u'calculatedfinishedsquarefeet', u'roomcnt', u'taxrate',\n",
    "       u'logerroravg - neighborhood'],\n",
    "      dtype='object'))\n",
    "Tree params: \n",
    "('   max_depth ', 200)\n",
    "('   min_samples_split ', 500)\n",
    "('   max_samples_leaf ', 5)\n",
    "('Result: ', 0.068019217988480277)\n",
    "\n",
    "('Features: ', Index([u'calculatedfinishedsquarefeet', u'taxrate'], dtype='object'))\n",
    "Tree params: \n",
    "('   max_depth ', 200)\n",
    "('   min_samples_split ', 1000)\n",
    "('   max_samples_leaf ', 100)\n",
    "('Result: ', 0.067869511519716444)\n",
    "\n",
    "\n",
    "('Features: ', Index([u'calculatedfinishedsquarefeet', u'propertycountylandusecode', u'taxrate'],\n",
    "      dtype='object'))\n",
    "Tree params: \n",
    "('   max_depth ', 100)\n",
    "('   min_samples_split ', 1000)\n",
    "('   max_samples_leaf ', 100)\n",
    "('Result: ', 0.068272928666371302)\n",
    "\n",
    "('Features: ', Index([u'calculatedfinishedsquarefeet', u'propertycountylandusecode',u'taxdelinquencyflag', u'taxrate'],\n",
    "      dtype='object'))\n",
    "Tree params: \n",
    "('   max_depth ', 100)\n",
    "('   min_samples_split ', 1000)\n",
    "('   max_samples_leaf ', 100)\n",
    "('Result: ', 0.070624357554275596)\n",
    "\n",
    "('Features: ', Index([u'calculatedfinishedsquarefeet', u'propertycountylandusecode',\n",
    "       u'propertyzoningdesc', u'taxrate'],\n",
    "      dtype='object'))\n",
    "Tree params: \n",
    "('   max_depth ', 100)\n",
    "('   min_samples_split ', 1000)\n",
    "('   min_samples_leaf ', 100)\n",
    "('Result: ', 0.067999617855560482)\n",
    "\n",
    "('Features: ', Index([u'calculatedfinishedsquarefeet', u'propertycountylandusecode',\n",
    "       u'propertyzoningdesc', u'taxrate'],\n",
    "      dtype='object'))\n",
    "Tree params: \n",
    "('   max_depth ', 200)\n",
    "('   min_samples_split ', 1000)\n",
    "('   min_samples_leaf ', 100)\n",
    "('Result: ', 0.067998366194062909)\n",
    "\n",
    "('Features: ', Index([u'calculatedfinishedsquarefeet', u'propertycountylandusecode',\n",
    "       u'propertyzoningdesc', u'taxrate'],\n",
    "      dtype='object'))\n",
    "Tree params: \n",
    "('   max_depth ', 200)\n",
    "('   min_samples_split ', 1000)\n",
    "('   min_samples_leaf ', 100)\n",
    "('Result: ', 0.067998366194062909)"
   ]
  },
  {
   "cell_type": "raw",
   "metadata": {
    "collapsed": false
   },
   "source": [
    "Z = Y_test\n",
    "Z = Z.join(properties) \n",
    "\n",
    "Z['logerror_p'] = Y_predict\n",
    "Z['diff'] = Z['logerror'] - Z['logerror_p']\n",
    "Z['absdiff'] = abs(Z['logerror'] - Z['logerror_p'])\n",
    "\n",
    "columns = list(features_to_keep) + ['logerror', 'logerror_p', 'diff', 'absdiff']\n",
    "Z[columns].nlargest(10, columns='absdiff')\n",
    "#Z.nlargest(10, columns='absdiff')"
   ]
  },
  {
   "cell_type": "markdown",
   "metadata": {},
   "source": [
    "## Model Execution"
   ]
  },
  {
   "cell_type": "code",
   "execution_count": null,
   "metadata": {
    "collapsed": true
   },
   "outputs": [],
   "source": [
    "sample_submission_f = '/Users/Jose/Desktop/Zillow/sample_submission.csv'\n",
    "submission = pd.read_csv(sample_submission_f, index_col='ParcelId')"
   ]
  },
  {
   "cell_type": "code",
   "execution_count": null,
   "metadata": {
    "collapsed": true
   },
   "outputs": [],
   "source": [
    "#  ATTEMPT 2 - \n",
    "logerroravg = train['logerror'].mean()\n",
    "print(\"Using logerroravg = \", logerroravg)"
   ]
  },
  {
   "cell_type": "code",
   "execution_count": null,
   "metadata": {
    "collapsed": false
   },
   "outputs": [],
   "source": [
    "X_all = properties"
   ]
  },
  {
   "cell_type": "code",
   "execution_count": null,
   "metadata": {
    "collapsed": false
   },
   "outputs": [],
   "source": [
    "# Prediction transaction date\n",
    "def add_transactiondate(df):\n",
    "    df['transactiondate'] = pd.datetime(2016,10,1)\n",
    "    df['transactiondate'] = df['transactiondate'].astype(int)\n",
    "\n",
    "add_transactiondate(X_all)"
   ]
  },
  {
   "cell_type": "code",
   "execution_count": null,
   "metadata": {
    "collapsed": true
   },
   "outputs": [],
   "source": [
    "# Add features\n"
   ]
  },
  {
   "cell_type": "code",
   "execution_count": null,
   "metadata": {
    "collapsed": false
   },
   "outputs": [],
   "source": [
    "for column in X_all.columns:\n",
    "    if column not in features_to_keep:\n",
    "        X_all = X_all.drop(column, axis=1)"
   ]
  },
  {
   "cell_type": "code",
   "execution_count": null,
   "metadata": {
    "collapsed": true
   },
   "outputs": [],
   "source": [
    "#  Check for missing data\n",
    "print(\"Missing: \",X_test.columns.difference( X_all.columns))"
   ]
  },
  {
   "cell_type": "code",
   "execution_count": null,
   "metadata": {
    "collapsed": true
   },
   "outputs": [],
   "source": [
    "Y_all = model.predict(X_all)"
   ]
  },
  {
   "cell_type": "code",
   "execution_count": null,
   "metadata": {
    "collapsed": true
   },
   "outputs": [],
   "source": [
    "results = pd.DataFrame(index=X_all.index)\n",
    "results.index.names = ['ParcelId']\n",
    "results['201610'] = Y_all\n",
    "results['201611'] = Y_all\n",
    "results['201612'] = Y_all\n",
    "results['201710'] = Y_all\n",
    "results['201711'] = Y_all\n",
    "results['201712'] = Y_all"
   ]
  },
  {
   "cell_type": "code",
   "execution_count": null,
   "metadata": {
    "collapsed": true
   },
   "outputs": [],
   "source": [
    "submission = submission.drop(submission.columns[0:], axis=1)\n",
    "submission = submission.join(results)\n",
    "\n",
    "# Use average for properties with missing data\n",
    "submission.fillna(logerroravg, inplace=True)       \n",
    "submission.columns"
   ]
  },
  {
   "cell_type": "code",
   "execution_count": null,
   "metadata": {
    "collapsed": true
   },
   "outputs": [],
   "source": [
    "# Round as per rules\n",
    "submission = submission.round(4)"
   ]
  },
  {
   "cell_type": "markdown",
   "metadata": {},
   "source": [
    "## Sanity Checks"
   ]
  },
  {
   "cell_type": "code",
   "execution_count": null,
   "metadata": {
    "collapsed": true
   },
   "outputs": [],
   "source": [
    "# Average log error\n",
    "submission.describe().round(4)"
   ]
  },
  {
   "cell_type": "code",
   "execution_count": null,
   "metadata": {
    "collapsed": true
   },
   "outputs": [],
   "source": [
    "# Check for NaN\n",
    "submission.isnull().sum()"
   ]
  },
  {
   "cell_type": "code",
   "execution_count": null,
   "metadata": {
    "collapsed": true
   },
   "outputs": [],
   "source": [
    "# Check if any duplicates\n",
    "submission[submission.index.duplicated(keep=False)]"
   ]
  },
  {
   "cell_type": "code",
   "execution_count": null,
   "metadata": {
    "collapsed": true
   },
   "outputs": [],
   "source": [
    "# Check additional values in submission file\n",
    "submission[~submission.index.isin(properties.index)]"
   ]
  },
  {
   "cell_type": "code",
   "execution_count": null,
   "metadata": {
    "collapsed": true
   },
   "outputs": [],
   "source": [
    "# Check additional values in properties file\n",
    "properties[~properties.index.isin(submission.index)]"
   ]
  },
  {
   "cell_type": "markdown",
   "metadata": {},
   "source": [
    "## Dump File"
   ]
  },
  {
   "cell_type": "code",
   "execution_count": null,
   "metadata": {
    "collapsed": true
   },
   "outputs": [],
   "source": [
    "# Write file\n",
    "submission_f = '/Users/Jose/Desktop/Zillow/submission.csv'\n",
    "submission_fh = open(submission_f, 'wb')\n",
    "submission.to_csv(submission_fh, sep=',', header='true')\n",
    "submission_fh.close()"
   ]
  },
  {
   "cell_type": "markdown",
   "metadata": {},
   "source": [
    "## Historical Records"
   ]
  },
  {
   "cell_type": "raw",
   "metadata": {
    "collapsed": false
   },
   "source": [
    "RECORDS\n",
    "-------------------------------\n",
    "#  ATTEMPT 1 - 0.0651274\n",
    "#submission['201610']=0.0114\n",
    "#submission['201611']=0.0114\n",
    "#submission['201612']=0.0114\n",
    "#submission['201710']=0.0114\n",
    "#submission['201711']=0.0114\n",
    "#submission['201712']=0.0114\n",
    "\n",
    "# ATTEMPT 2 - 0.0661850\n",
    "('MAE: ', 0.0668810274162282)\n",
    " 'latitude',\t#  Latitude of the middle of the parcel multiplied by 10e6\n",
    " 'longitude',\t#  Longitude of the middle of the parcel multiplied by 10e6\n",
    " 'landtaxvaluedollarcnt',\t# The assessed value of the land area of the parcel\n",
    " 'taxamount'\n",
    "max_depth=30, \n",
    "min_samples_split = 100,\n",
    "min_samples_leaf = 80,\n",
    "criterion = \"mae\")\n",
    "\n",
    "# ATTEMPT 3 - \n",
    "Tree details\n",
    "[('finishedsquarefeet50_t', 0.013822920620441437, 1, 8),\n",
    " ('regionidcounty', -0.0011029399465769529, 2, 3),\n",
    " ('finishedsquarefeet6_t', -2.0, -1, -1),\n",
    " ('regionidzip_avg', 0.0082535082474350929, 4, 7),\n",
    " ('latitude', 0.0038456977345049381, 5, 6),\n",
    " ('finishedsquarefeet6_t', -2.0, -1, -1),\n",
    " ('finishedsquarefeet6_t', -2.0, -1, -1),\n",
    " ('finishedsquarefeet6_t', -2.0, -1, -1),\n",
    " ('longitude', 0.027296457439661026, 9, 12),\n",
    " ('latitude', 0.019690167158842087, 10, 11),\n",
    " ('finishedsquarefeet6_t', -2.0, -1, -1),\n",
    " ('finishedsquarefeet6_t', -2.0, -1, -1),\n",
    " ('finishedsquarefeet6_t', -2.0, -1, -1)]\n",
    " \n"
   ]
  },
  {
   "cell_type": "markdown",
   "metadata": {},
   "source": [
    "## Resources"
   ]
  },
  {
   "cell_type": "raw",
   "metadata": {},
   "source": [
    "train.groupby('distanceavgmilog')['logerror'].mean()\n",
    "    #[train['roomcnt']>-1]"
   ]
  },
  {
   "cell_type": "raw",
   "metadata": {},
   "source": [
    "#################\n",
    "#  finishedtolotsizeratio\n",
    "#################\n",
    "\n",
    "def add_finishedtolotsizeratio(df):\n",
    "    train['finishedtolotsizeratio'] = np.divide(train['calculatedfinishedsquarefeet'],\n",
    "                                                train['lotsizesquarefeet'])\n",
    "\n",
    "features_created.add('finishedtolotsizeratio')\n",
    "add_finishedtolotsizeratio(train)"
   ]
  },
  {
   "cell_type": "raw",
   "metadata": {},
   "source": [
    "#################\n",
    "#  calculatedfinishedsquarefeetdiff\n",
    "#################\n",
    "def add_calculatedfinishedsquarefeetdiff(df):\n",
    "    train['calculatedfinishedsquarefeetdiff'] = np.where((train['finishedsquarefeet15'].isnull()) &\n",
    "                                                        (~train['finishedsquarefeet12'].isnull()) &\n",
    "                                                        (~train['garagetotalsqft'].isnull()) , \n",
    "                                                np.negative(train['garagetotalsqft']), 0 )\n",
    "    \n",
    "features_created.add('calculatedfinishedsquarefeetdiff')\n",
    "add_calculatedfinishedsquarefeetdiff(train)"
   ]
  },
  {
   "cell_type": "raw",
   "metadata": {},
   "source": [
    "#################\n",
    "#  logerroravg\n",
    "#################\n",
    "def add_logerroravg(df):\n",
    "    df=df.join(df.groupby(['regionidcounty'])['logerror'].mean(),\n",
    "                 on='regionidzip', \n",
    "                 rsuffix='avg')\n",
    "    return df\n",
    "\n",
    "features_created.add('logerroravg')\n",
    "train = add_logerroravg(train)"
   ]
  },
  {
   "cell_type": "raw",
   "metadata": {
    "collapsed": false
   },
   "source": [
    "#################\n",
    "#  regionidzip_avg\n",
    "#################\n",
    "\n",
    "def add_logerror_byregionidzip(df, cache):\n",
    "    df = df.join(cache,on='regionidzip', rsuffix='_byregionidzip')\n",
    "\n",
    "# create during execution\n",
    "features_created.add('regionidzip_avg')\n",
    "features_created.add('regionidzip')"
   ]
  },
  {
   "cell_type": "raw",
   "metadata": {
    "collapsed": true
   },
   "source": [
    "#################\n",
    "#  finishedsquarefeet[n]_t\n",
    "#################\n",
    "\n",
    "def add_finishedsquarefeet(df, feature):\n",
    "    n = 100\n",
    "    df[feature+'_t'] = np.floor(np.divide(df[feature], n))\n",
    "    df[feature] = df[feature].fillna(-1)\n",
    "    df[feature+'_t'] = df[feature+'_t'].fillna(-1)\n",
    "    \n",
    "def add_finishedsquarefeet12_t(df):\n",
    "    add_finishedsquarefeet(df, 'finishedsquarefeet12')\n",
    "def add_finishedsquarefeet13_t(df):\n",
    "    add_finishedsquarefeet(df, 'finishedsquarefeet13')\n",
    "def add_finishedsquarefeet15_t(df):\n",
    "    add_finishedsquarefeet(df, 'finishedsquarefeet15')    \n",
    "def add_finishedsquarefeet50_t(df):\n",
    "    add_finishedsquarefeet(df, 'finishedsquarefeet50')\n",
    "def add_finishedsquarefeet6_t(df):\n",
    "    add_finishedsquarefeet(df, 'finishedsquarefeet6')\n",
    "\n",
    "features_created.add('finishedsquarefeet12_t')\n",
    "features_created.add('finishedsquarefeet13_t')\n",
    "features_created.add('finishedsquarefeet15_t')\n",
    "features_created.add('finishedsquarefeet50_t')\n",
    "features_created.add('finishedsquarefeet6_t')\n",
    "\n",
    "#Needed for future calculations, so keeping for now\n",
    "features_created.add('finishedsquarefeet12')\n",
    "features_created.add('finishedsquarefeet13')\n",
    "features_created.add('finishedsquarefeet15')\n",
    "features_created.add('finishedsquarefeet50')\n",
    "features_created.add('finishedsquarefeet6')"
   ]
  },
  {
   "cell_type": "raw",
   "metadata": {},
   "source": [
    "# propertylandusetypeid\n",
    "columns = set(train.columns.values)\n",
    "train = pd.get_dummies(train, columns=['architecturalstyletypeid'], dummy_na=True)\n",
    "columnsnew = set(train.columns.values)\n",
    "features_created = features_created.union(columnsnew - columns) \n",
    "print(\"Total features: \", len(features_created))"
   ]
  },
  {
   "cell_type": "raw",
   "metadata": {},
   "source": [
    "# architecturalstyletypeid\n",
    "columns = set(train.columns.values)\n",
    "train = pd.get_dummies(train, columns=['architecturalstyletypeid'], dummy_na=True)\n",
    "columnsnew = set(train.columns.values)\n",
    "features_created = features_created.union(columnsnew - columns) \n",
    "print(\"Total features: \", len(features_created))"
   ]
  },
  {
   "cell_type": "markdown",
   "metadata": {},
   "source": [
    "Conclusions:\n",
    "   * Average logerror = 0.011457219606756575\n",
    "   * In general, data usually underestimates, with the etrainception of fewer high overestimates.\n",
    "   * totalroomcnt:  ==0 is a mitrained bag.  != zero is overestimating"
   ]
  },
  {
   "cell_type": "raw",
   "metadata": {
    "collapsed": false
   },
   "source": [
    "# Remove outliers\n",
    "m = ((Y.logerror - train.logerror.mean()) / Y.logerror.std()).abs() < 3\n",
    "Y_train=Y_train[m]\n",
    "X_train=X_train[m]"
   ]
  },
  {
   "cell_type": "code",
   "execution_count": null,
   "metadata": {
    "collapsed": false
   },
   "outputs": [],
   "source": [
    "# bedroomcnt\n",
    "#plt.trainlabel('bedroomcnt')\n",
    "#plt.ylabel('logerror')\n",
    "#plt.scatter(train['bathroomcnt'], train['logerror'], \n",
    "#           alpha=1, s=2, color='r')\n",
    "#plt.atrainis([0, 10,-5, 5])\n",
    "#plt.show()\n",
    "\n",
    "#date\n",
    "#plt.trainlabel('transactiondate')\n",
    "#plt.ylabel('logerror')\n",
    "#plt.scatter(train['bedroomcnt'], train['logerror'], alpha=1, s=2, color='r')\n",
    "#plt.atrainis(['2016-01-01', '2017-01-01',-5, 5])\n",
    "#plt.gcf().autofmt_traindate()\n",
    "#plt.show()\n",
    "\n",
    "#import matplotlib as mpl\n",
    "#plt.trainlabel('longitude')\n",
    "#plt.ylabel('latitude')\n",
    "#plt.scatter(train['longitude'], train['latitude'], c=train['logerror'], s=20, lw=0, cmap='seismic')\n",
    "#plt.atrainis([min(train['longitude']), matrain(train['longitude']),min(train['latitude']), matrain(train['latitude'])])\n",
    "#plt.colorbar()\n",
    "#plt.show()\n",
    "\n",
    "#train2 = train.query('logerror < -2.')\n",
    "\n",
    "#train2 = train.query('roomcnt == 0 ')\n",
    "\n",
    "#train2 = train.query('bedroomcnt > 2')\n",
    "\n",
    "#train2 = train.sample(frac=.10)\n",
    "\n",
    "#plt.trainlabel('longitude')\n",
    "#plt.ylabel('latitude')\n",
    "#plt.scatter(train2['longitude'], train2['latitude'], c=train2['logerror'], s=20, lw=0, cmap='seismic')\n",
    "#plt.colorbar()\n",
    "#plt.show()"
   ]
  }
 ],
 "metadata": {
  "kernelspec": {
   "display_name": "Python 2",
   "language": "python",
   "name": "python2"
  },
  "language_info": {
   "codemirror_mode": {
    "name": "ipython",
    "version": 2
   },
   "file_extension": ".py",
   "mimetype": "text/x-python",
   "name": "python",
   "nbconvert_exporter": "python",
   "pygments_lexer": "ipython2",
   "version": "2.7.11"
  }
 },
 "nbformat": 4,
 "nbformat_minor": 0
}
