{
 "cells": [
  {
   "cell_type": "markdown",
   "metadata": {},
   "source": [
    "# Zillow Challenge"
   ]
  },
  {
   "cell_type": "markdown",
   "metadata": {},
   "source": [
    "##  Data input"
   ]
  },
  {
   "cell_type": "raw",
   "metadata": {
    "collapsed": true
   },
   "source": [
    "import os\n",
    "import numpy as np\n",
    "import pandas as pd\n",
    "import matplotlib.pyplot as plt\n",
    "\n",
    "from numpy import seterr,isneginf,array\n",
    "from datetime import datetime\n",
    "from pandas import compat\n",
    "from operator import itemgetter\n",
    "from sklearn import tree\n",
    "from sklearn import metrics\n",
    "from sklearn.preprocessing import scale\n",
    "from sklearn.neighbors import KDTree\n",
    "from sklearn.tree import DecisionTreeRegressor\n",
    "from sklearn.tree import DecisionTreeClassifier\n",
    "from sklearn.tree import export_graphviz\n",
    "from sklearn.linear_model import LogisticRegression\n",
    "from sklearn.svm import SVC\n",
    "from sklearn import metrics\n",
    "from sklearn.model_selection import cross_val_score\n",
    "from sklearn.model_selection import train_test_split\n",
    "from sklearn.model_selection import GridSearchCV\n",
    "from sklearn.model_selection import learning_curve\n",
    "from IPython.display import Image\n",
    "%matplotlib inline\n",
    "\n",
    "pd.set_option('display.max_columns', None)\n",
    "pd.set_option('display.max_row', 200)\n",
    "pd.options.display.float_format = '{:20,.2f}'.format\n",
    "compat.PY3 = False\n",
    "\n",
    "def Decision_Tree_Image(decision_tree, feature_names, name=\"temp\"):\n",
    "    \n",
    "    # Etrainport our decision tree to graphviz format\n",
    "    dot_file = tree.export_graphviz(decision_tree, out_file='images/' + name + '.dot', feature_names=feature_names)\n",
    "    \n",
    "    # Call graphviz to make an image file from our decision tree\n",
    "    os.system(\"dot -T png images/\" + name + \".dot -o images/\" + name + \".png\")\n",
    "    \n",
    "    # Return the .png image so we can see it\n",
    "    return Image(filename='images/' + name + '.png')"
   ]
  },
  {
   "cell_type": "raw",
   "metadata": {
    "collapsed": false
   },
   "source": [
    "train_f = \"train_2016_v2.csv\"\n",
    "train = pd.read_csv(train_f, index_col = 'parcelid', parse_dates=['transactiondate'])\n",
    "train['transactiondate'] = pd.to_datetime(train['transactiondate']).astype(int)\n",
    "\n",
    "properties_f = \"properties_2016.csv\"\n",
    "properties = pd.read_csv(properties_f, index_col = 'parcelid')\n",
    "\n",
    "\n",
    "train = train.join(properties) \n",
    "train_bak = train  # backup "
   ]
  },
  {
   "cell_type": "code",
   "execution_count": 493,
   "metadata": {
    "collapsed": true
   },
   "outputs": [],
   "source": [
    "#### TEST MODE  #####\n",
    "train = train_bak\n",
    "train = train.sample(frac=1)"
   ]
  },
  {
   "cell_type": "markdown",
   "metadata": {},
   "source": [
    "##  Feature creation"
   ]
  },
  {
   "cell_type": "raw",
   "metadata": {
    "collapsed": false
   },
   "source": [
    "#### TEST MODE  #####\n",
    "train = train_bak\n",
    "train = train.sample(frac=1)"
   ]
  },
  {
   "cell_type": "raw",
   "metadata": {
    "collapsed": false
   },
   "source": [
    "train.isnull().sum()"
   ]
  },
  {
   "cell_type": "code",
   "execution_count": 494,
   "metadata": {
    "collapsed": false
   },
   "outputs": [],
   "source": [
    "features_created = set()"
   ]
  },
  {
   "cell_type": "code",
   "execution_count": 495,
   "metadata": {
    "collapsed": true
   },
   "outputs": [],
   "source": [
    "# Types\n",
    "train['propertycountylandusecode'] = pd.Categorical(train['propertycountylandusecode']).codes\n",
    "train['propertyzoningdesc'] = pd.Categorical(train['propertyzoningdesc']).codes\n",
    "\n",
    "#Binary\n",
    "train['taxdelinquencyflag'] = pd.Categorical(train['taxdelinquencyflag']).codes"
   ]
  },
  {
   "cell_type": "code",
   "execution_count": 496,
   "metadata": {
    "collapsed": false
   },
   "outputs": [],
   "source": [
    "#################\n",
    "#  taxrate\n",
    "#################\n",
    "def add_taxrate(df):\n",
    "    df['taxrate'] = np.divide(df['taxamount'],df['taxvaluedollarcnt'])\n",
    "    return df\n",
    "\n",
    "features_created.add('taxrate')\n",
    "train = add_taxrate(train)"
   ]
  },
  {
   "cell_type": "raw",
   "metadata": {},
   "source": [
    "#################\n",
    "#  logerroravg\n",
    "#################\n",
    "def add_logerroravg(df):\n",
    "    df=df.join(df.groupby(['regionidcounty'])['logerror'].mean(),\n",
    "                 on='regionidzip', \n",
    "                 rsuffix='avg')\n",
    "    return df\n",
    "\n",
    "features_created.add('logerroravg')\n",
    "train = add_logerroravg(train)"
   ]
  },
  {
   "cell_type": "code",
   "execution_count": 497,
   "metadata": {
    "collapsed": false,
    "scrolled": true
   },
   "outputs": [
    {
     "data": {
      "text/plain": [
       "Index([u'logerror', u'transactiondate', u'airconditioningtypeid',\n",
       "       u'architecturalstyletypeid', u'basementsqft', u'bathroomcnt',\n",
       "       u'bedroomcnt', u'buildingclasstypeid', u'buildingqualitytypeid',\n",
       "       u'calculatedbathnbr', u'decktypeid', u'finishedfloor1squarefeet',\n",
       "       u'calculatedfinishedsquarefeet', u'finishedsquarefeet12',\n",
       "       u'finishedsquarefeet13', u'finishedsquarefeet15',\n",
       "       u'finishedsquarefeet50', u'finishedsquarefeet6', u'fips',\n",
       "       u'fireplacecnt', u'fullbathcnt', u'garagecarcnt', u'garagetotalsqft',\n",
       "       u'hashottuborspa', u'heatingorsystemtypeid', u'latitude', u'longitude',\n",
       "       u'lotsizesquarefeet', u'poolcnt', u'poolsizesum', u'pooltypeid10',\n",
       "       u'pooltypeid2', u'pooltypeid7', u'propertycountylandusecode',\n",
       "       u'propertylandusetypeid', u'propertyzoningdesc',\n",
       "       u'rawcensustractandblock', u'regionidcity', u'regionidcounty',\n",
       "       u'regionidneighborhood', u'regionidzip', u'roomcnt', u'storytypeid',\n",
       "       u'threequarterbathnbr', u'typeconstructiontypeid', u'unitcnt',\n",
       "       u'yardbuildingsqft17', u'yardbuildingsqft26', u'yearbuilt',\n",
       "       u'numberofstories', u'fireplaceflag', u'structuretaxvaluedollarcnt',\n",
       "       u'taxvaluedollarcnt', u'assessmentyear', u'landtaxvaluedollarcnt',\n",
       "       u'taxamount', u'taxdelinquencyflag', u'taxdelinquencyyear',\n",
       "       u'censustractandblock', u'taxrate'],\n",
       "      dtype='object')"
      ]
     },
     "execution_count": 497,
     "metadata": {},
     "output_type": "execute_result"
    }
   ],
   "source": [
    "train.columns"
   ]
  },
  {
   "cell_type": "raw",
   "metadata": {},
   "source": [
    "#################\n",
    "#  roomcntdiff\n",
    "#################\n",
    "def add_roomcntdiff(df):\n",
    "    train['roomcntdiff'] = np.where(train['roomcnt']==0, \n",
    "                                    np.negative(train['bedroomcnt'].add(train['bathroomcnt'])),\n",
    "                                      train['roomcnt']\n",
    "                            )\n",
    "\n",
    "features_created.add('roomcntdiff')\n",
    "add_roomcntdiff(train)"
   ]
  },
  {
   "cell_type": "raw",
   "metadata": {
    "collapsed": false
   },
   "source": [
    "#################\n",
    "#  distanceavg\n",
    "#################\n",
    "\n",
    "#def buildcache(): {\n",
    "#    _cache = \n",
    "#}\n",
    "    \n",
    "_byzipcache = X_train.groupby(['regionidzip'])['logerror'].mean()\n",
    "\n",
    "def add_distanceavg(df):\n",
    "    \n",
    "    # Convert to miles, 1 degree = 69 miles\n",
    "    df['latitude']  *= 5280 * 69/1e6\n",
    "    df['longitude'] *= 5280* 69/1e6\n",
    "\n",
    "    n1 = 100  # Split in buckets of n\n",
    "\n",
    "    df['finishedsquarefeet12_t'] = np.floor(np.divide(df['finishedsquarefeet12'], n1))\n",
    "\n",
    "    n=2    # n-1 nearest neighbor\n",
    "    df['distanceavg'] = np.nan     # Unknown distance, one of feastures not available, assume 20\n",
    "    distancefeatures = ['latitude', 'longitude']   # features to measure distance\n",
    "    for i in df['bedroomcnt'].unique():         # features to define comparables\n",
    "        for j in df['bathroomcnt'].unique():   \n",
    "                for l in df['finishedsquarefeet12_t'].unique():    \n",
    "                        if ((~np.isnan(i)) &\n",
    "                            (~np.isnan(j)) &\n",
    "                            (~np.isnan(l)) \n",
    "                           ):\n",
    "                            mask = (\n",
    "                                    (df['bedroomcnt'] == i) &  \n",
    "                                    (df['bathroomcnt'] == j) &\n",
    "                                    (df['finishedsquarefeet12_t'] == l) \n",
    "                                   ) \n",
    "                            df_subset = df[mask]\n",
    "                            if ((len(df_subset))>n-1):\n",
    "                                kdt = KDTree(df_subset.loc[:,distancefeatures], \n",
    "                                             leaf_size=10, \n",
    "                                             metric='euclidean')\n",
    "                                dists, neighs=kdt.query(df_subset.loc[:,distancefeatures], \n",
    "                                                        k=n, \n",
    "                                                        return_distance=True) \n",
    "                                distanceavg=dists.mean(axis=1)\n",
    "                               # res = np.log(distanceavg)\n",
    "                               # res[isneginf(res)]=0\n",
    "                                df.loc[mask,'distanceavg'] = distanceavg\n",
    "                            else:\n",
    "                                df.loc[mask,'distanceavg'] = np.nan\n",
    "\n",
    "    df['distanceavg'] = df['distanceavg'].fillna(-1)\n",
    "\n",
    "features_created.add('distanceavg')"
   ]
  },
  {
   "cell_type": "raw",
   "metadata": {
    "collapsed": false
   },
   "source": [
    "#################\n",
    "#  regionidzip_avg\n",
    "#################\n",
    "\n",
    "def add_logerror_byregionidzip(df, cache):\n",
    "    df = df.join(cache,on='regionidzip', rsuffix='_byregionidzip')\n",
    "\n",
    "# create during execution\n",
    "features_created.add('regionidzip_avg')\n",
    "features_created.add('regionidzip')"
   ]
  },
  {
   "cell_type": "raw",
   "metadata": {
    "collapsed": true
   },
   "source": [
    "#################\n",
    "#  finishedsquarefeet[n]_t\n",
    "#################\n",
    "\n",
    "def add_finishedsquarefeet(df, feature):\n",
    "    n = 100\n",
    "    df[feature+'_t'] = np.floor(np.divide(df[feature], n))\n",
    "    df[feature] = df[feature].fillna(-1)\n",
    "    df[feature+'_t'] = df[feature+'_t'].fillna(-1)\n",
    "    \n",
    "def add_finishedsquarefeet12_t(df):\n",
    "    add_finishedsquarefeet(df, 'finishedsquarefeet12')\n",
    "def add_finishedsquarefeet13_t(df):\n",
    "    add_finishedsquarefeet(df, 'finishedsquarefeet13')\n",
    "def add_finishedsquarefeet15_t(df):\n",
    "    add_finishedsquarefeet(df, 'finishedsquarefeet15')    \n",
    "def add_finishedsquarefeet50_t(df):\n",
    "    add_finishedsquarefeet(df, 'finishedsquarefeet50')\n",
    "def add_finishedsquarefeet6_t(df):\n",
    "    add_finishedsquarefeet(df, 'finishedsquarefeet6')\n",
    "\n",
    "features_created.add('finishedsquarefeet12_t')\n",
    "features_created.add('finishedsquarefeet13_t')\n",
    "features_created.add('finishedsquarefeet15_t')\n",
    "features_created.add('finishedsquarefeet50_t')\n",
    "features_created.add('finishedsquarefeet6_t')\n",
    "\n",
    "#Needed for future calculations, so keeping for now\n",
    "features_created.add('finishedsquarefeet12')\n",
    "features_created.add('finishedsquarefeet13')\n",
    "features_created.add('finishedsquarefeet15')\n",
    "features_created.add('finishedsquarefeet50')\n",
    "features_created.add('finishedsquarefeet6')"
   ]
  },
  {
   "cell_type": "raw",
   "metadata": {},
   "source": [
    "#################\n",
    "#  []_na\n",
    "#################\n",
    "\n",
    "def add_na(df):\n",
    "    \n"
   ]
  },
  {
   "cell_type": "raw",
   "metadata": {},
   "source": [
    "# propertylandusetypeid\n",
    "columns = set(train.columns.values)\n",
    "train = pd.get_dummies(train, columns=['architecturalstyletypeid'], dummy_na=True)\n",
    "columnsnew = set(train.columns.values)\n",
    "features_created = features_created.union(columnsnew - columns) \n",
    "print(\"Total features: \", len(features_created))"
   ]
  },
  {
   "cell_type": "raw",
   "metadata": {},
   "source": [
    "# architecturalstyletypeid\n",
    "columns = set(train.columns.values)\n",
    "train = pd.get_dummies(train, columns=['architecturalstyletypeid'], dummy_na=True)\n",
    "columnsnew = set(train.columns.values)\n",
    "features_created = features_created.union(columnsnew - columns) \n",
    "print(\"Total features: \", len(features_created))"
   ]
  },
  {
   "cell_type": "raw",
   "metadata": {
    "collapsed": true
   },
   "source": [
    "# Univariate - float\n",
    "\n",
    "feature = 'calculatedbathnbr'\n",
    "plt.xlabel(feature)\n",
    "plt.ylabel('logerror')\n",
    "plt.scatter(train[feature], \n",
    "            train['logerror'],\n",
    "            c=train['logerror'],\n",
    "            s=20, lw=0,vmin=-4, vmax=4,\n",
    "           cmap='seismic')\n",
    "plt.axis([ #0,.06,\n",
    "        #1950, 2017, \n",
    "        train[feature].min(), \n",
    "         train[feature].max(),\n",
    "          train['logerror'].min(), \n",
    "            train['logerror'].max()\n",
    "         ])\n",
    "\n",
    "plt.show()"
   ]
  },
  {
   "cell_type": "raw",
   "metadata": {
    "collapsed": false
   },
   "source": [
    "# Univariate - float\n",
    "\n",
    "feature = 'taxrate'\n",
    "plt.xlabel(feature)\n",
    "plt.ylabel('logerror')\n",
    "#plt.scatter(train[feature], \n",
    "#            train['logerror'],\n",
    "#            c=train['logerror'],\n",
    "#            s=20, lw=0,vmin=-4, vmax=4,\n",
    "#           cmap='seismic')\n",
    "plt.axis([ train[feature].min(), \n",
    "            #1e-3,#\n",
    "           #96000, 97000,\n",
    "          train[feature].max(),\n",
    "          train['logerror'].min(), \n",
    "            train['logerror'].max()\n",
    "         ])\n",
    "\n",
    "g = train.groupby(feature)\n",
    "df =g.aggregate(np.mean)\n",
    "df.index\n",
    "plt.scatter(df.index, df['logerror'], marker='x', color='r')\n",
    "\n",
    "plt.show()"
   ]
  },
  {
   "cell_type": "raw",
   "metadata": {
    "collapsed": false
   },
   "source": [
    "# Bivariate\n",
    "feature1 = ''\n",
    "feature2 = 'taxamount'\n",
    "\n",
    "\n",
    "plt.xlabel(feature1)\n",
    "plt.ylabel(feature2)\n",
    "plt.scatter(train[feature1], \n",
    "            train[feature2],\n",
    "            c=train['logerror'],\n",
    "            s=20, lw=0,\n",
    "           cmap='seismic',vmin=-4, vmax=4)\n",
    "plt.axis([\n",
    "        #train[feature1].min(), \n",
    "        240,\n",
    "        train[feature1].max(),\n",
    "        #      95000,99000, 0, .1,\n",
    "             train[feature2].min(),  train[feature2].max(),\n",
    "             #0,.1\n",
    "         ])\n",
    "plt.show()"
   ]
  },
  {
   "cell_type": "markdown",
   "metadata": {},
   "source": [
    "Conclusions:\n",
    "   * Average logerror = 0.011457219606756575\n",
    "   * In general, data usually underestimates, with the etrainception of fewer high overestimates.\n",
    "   * totalroomcnt:  ==0 is a mitrained bag.  != zero is overestimating"
   ]
  },
  {
   "cell_type": "markdown",
   "metadata": {},
   "source": [
    "##  Feature selection"
   ]
  },
  {
   "cell_type": "raw",
   "metadata": {},
   "source": [
    ".5 -> 1\n",
    "\n",
    "\n",
    ">1\n",
    "[('buildingqualitytypeid', [79.88938053097345]),\n",
    " ('buildingclasstypeid', [49.930862831858406]),\n",
    " ('roomcnt', [36.313354786806116]),\n",
    " ('taxdelinquencyyear', [12.68085405253547]),\n",
    " ('fullbathcnt', [7.132980404551201]),\n",
    " ('calculatedbathnbr', [7.007840397453812]),\n",
    " ('bathroomcnt', [7.007840397453812]),\n",
    " ('garagecarcnt', [6.098425994730797]),\n",
    " ('unitcnt', [2.29303618056755]),\n",
    " ('airconditioningtypeid', [1.8578925704877545]),\n",
    " ('architecturalstyletypeid', [1.807452048212069]),\n",
    " ('bedroomcnt', [1.4578354111491505]),\n",
    " ('typeconstructiontypeid', [1.3494827792394164]),\n",
    " ('heatingorsystemtypeid', [1.0295686646172235])]\n",
    "\n",
    ">2\n",
    "[('roomcnt', [124.34573002754821]),\n",
    " ('bedroomcnt', [11.690624190624192]),\n",
    " ('calculatedbathnbr', [3.0531317640692643]),\n",
    " ('bathroomcnt', [3.0531317640692643]),\n",
    " ('fullbathcnt', [2.79143475572047]),\n",
    " ('buildingqualitytypeid', [1.0733357112579223])]\n",
    " \n",
    ">3\n",
    "[('roomcnt', [1.4370880957687286])]"
   ]
  },
  {
   "cell_type": "raw",
   "metadata": {},
   "source": [
    "# Helper code\n",
    "train_sample = train.query('logerror > .5 and logerror < 1')\n",
    "#train_sample = train\n",
    "rating = {}\n",
    "pcntexpected = 1. * len(train_sample) / len(train)\n",
    "for col in train.columns: # properties.columns:    \n",
    "    unique = train_sample[col].unique()\n",
    "    for u in unique:\n",
    "        pcntexpected = 1.* len(train[train[col].isin([u])]) / len(train)\n",
    "        pcntactual   = 1.* len(train_sample[train_sample[col].isin([u])]) / len(train_sample)\n",
    "        if (pcntactual > pcntexpected):\n",
    "            #rating[col,u] =  [pcntactual, pcntexpected, 1. * pcntactual/pcntexpected]\n",
    "            #rating[col,u] = [1. * pcntactual/pcntexpected]\n",
    "            rating[col] = [1. * pcntactual/pcntexpected]\n",
    "featuremap =  sorted(rating.items(), key=lambda rating: rating[1], reverse=True)\n",
    "featuremap"
   ]
  },
  {
   "cell_type": "code",
   "execution_count": 498,
   "metadata": {
    "collapsed": false
   },
   "outputs": [],
   "source": [
    "features_to_keep = set([\n",
    "    ##########\n",
    "    #  train data\n",
    "    ##########\n",
    "        \n",
    "   #'logerror', # Predictor variable \n",
    "         \n",
    " ##########\n",
    " #  Numeric attributes\n",
    " ##########          \n",
    "  #'basementsqft', #  Finished living area below or partially below ground level\n",
    "  #'bathroomcnt',\t#  Number of bathrooms in home including fractional bathrooms\n",
    "  #'bedroomcnt',\t#  Number of bedrooms in home \n",
    "  #'calculatedbathnbr',\t#  Number of bathrooms in home including fractional bathroom\n",
    "  #'threequarterbathnbr',\t#  Number of 3/4 bathrooms in house (shower + sink + toilet)\n",
    "  #'finishedfloor1squarefeet',\t#  Size of the finished living area on the first (entry) floor of the home\n",
    "  'calculatedfinishedsquarefeet',\t#  Calculated total finished living area of the home \n",
    "  #'finishedsquarefeet6',\t# Base unfinished and finished area\n",
    "  #'finishedsquarefeet12',\t# Finished living area\n",
    "  #'finishedsquarefeet13',\t# Perimeter  living area\n",
    "  #'finishedsquarefeet15',\t# Total area\n",
    "  #'finishedsquarefeet50',\t#  Size of the finished living area on the first (entry) floor of the home\n",
    " #'fireplacecnt',\t#  Number of fireplaces in a home (if any)\n",
    " #'fullbathcnt',\t#  Number of full bathrooms (sink, shower + bathtub, and toilet) present in home\n",
    " #'garagecarcnt',\t#  Total number of garages on the lot including an attached garage\n",
    " #'garagetotalsqft',\t#  Total number of square feet of all garages on lot including an attached garage\n",
    " #'lotsizesquarefeet',\t#  Area of the lot in square feet\n",
    " #'numberofstories',\t#  Number of stories or levels the home has\n",
    " #'poolcnt',\t#  Number of pools on the lot (if any)\n",
    " #'poolsizesum',\t#  Total square footage of all pools on property\n",
    " #'taxvaluedollarcnt',\t# The total tax assessed value of the parcel\n",
    " #'roomcnt',\t#  Total number of rooms in the principal residence\n",
    " #'unitcnt',\t#  Number of units the structure is built into (i.e. 2 = dupletrain, 3 = tripletrain, etc...)\n",
    " #'yardbuildingsqft17',\t# Patio in  yard\n",
    " #'yardbuildingsqft26',\t# Storage shed/building in yard\n",
    " #'structuretaxvaluedollarcnt',\t# The assessed value of the built structure on the parcel\n",
    " #'landtaxvaluedollarcnt',\t# The assessed value of the land area of the parcel\n",
    " #'taxamount'\t# The total property tatrain assessed for that assessment year\n",
    "      \n",
    " ##########\n",
    " #  Time\n",
    " ##########\n",
    "#####    'transactiondate',   ## from train data\n",
    " #'yearbuilt',\t#  The Year the principal residence was built      \n",
    " #'taxdelinquencyyear'\t# Year for which the unpaid propert tatraines were due \n",
    " #'assessmentyear',\t# The year of the property tax assessment \n",
    "     \n",
    " ##########\n",
    " #  Location\n",
    " ########## \n",
    " #'latitude',\t#  Latitude of the middle of the parcel multiplied by 10e6\n",
    " #'longitude'\t#  Longitude of the middle of the parcel multiplied by 10e6        \n",
    " # 'regionidcounty',\t# County in which the property is located\n",
    " #'regionidcity',\t#  City in which the property is located (if any)\n",
    " #'regionidzip',\t#  Zip code in which the property is located\n",
    " #'regionidneighborhood',\t# Neighborhood in which the property is located\n",
    " #'rawcensustractandblock',\t#  Census tract and block ID combined - also contains blockgroup assignment by etraintension\n",
    " #'censustractandblock',\t#  Census tract and block ID combined - also contains blockgroup assignment by etraintension        \n",
    "        \n",
    " ##########\n",
    " #  Binary\n",
    " ##########         \n",
    " #'hashottuborspa',\t#  Does the home have a hot tub or spa - array([nan, True], dtype=object)\n",
    "        # array([nan, True], dtype=object)\n",
    " #'pooltypeid10',\t#  Spa or Hot Tub - [array([ nan,   1.])]\n",
    "        # array([ nan,   1.])\n",
    " #'pooltypeid2',\t#  Pool with Spa/Hot Tub - [array([ nan,   1.])]\n",
    "        # array([ nan,   1.])\n",
    " #'pooltypeid7',\t#  Pool without hot tub - [array([ nan,   1.])]\n",
    "        # array([ nan,   1.])\n",
    " #'fireplaceflag',\t#  Is a fireplace present in this home - array([nan, True], dtype=object)\n",
    "        # array([nan, True], dtype=object)\n",
    " #'taxdelinquencyflag',\t# Property tatraines for this parcel are past due as of 2015 - array([nan, 'Y'], dtype=object)\n",
    "        # array([nan, 'Y'], dtype=object)\n",
    "        \n",
    " ##########\n",
    " #  Types\n",
    " ##########    \n",
    " #'airconditioningtypeid', #  Type of cooling system present in the home (if any)\n",
    " #'architecturalstyletypeid', #  Architectural style of the home (i.e. ranch, colonial, split-level, etc…) \n",
    "        # array([ nan,   7.,  21.,   8.,   2.,   3.,   5.,  10.,  27.])\n",
    " #'buildingqualitytypeid',\t#  Overall assessment of condition of the building from best (lowest) to worst (highest)\n",
    "        # array([ nan,   7.,   4.,  10.,   1.,  12.,   8.,   3.,   6.,   9.,   5.,\n",
    "        #11.,   2.])\n",
    " #'buildingclasstypeid'\t# The building framing type (steel frame, wood frame, concrete/brick) \n",
    "        # array([ nan,   3.,   4.,   5.,   2.,   1.])\n",
    " #'decktypeid',\t# Type of deck (if any) present on parcel\n",
    "        # array([ nan,  66.])\n",
    " #'heatingorsystemtypeid',\t#  Type of home heating system\n",
    "        # array([ nan,   2.,   7.,  20.,   6.,  13.,  18.,  24.,  12.,  10.,   1.,\n",
    "        # 14.,  21.,  11.,  19.])\n",
    " 'propertycountylandusecode',\t#  County land use code i.e. it's zoning at the county level\n",
    "        #array([nan,'010D', '0109', '1200', '1210', '010V', '300V', '0100', '0200',\n",
    "        #'010C', '0300', '1204', '100V', '01HC', '120C', '040V', '1214', ... \n",
    "        # ], dtype=object)\n",
    " #'propertylandusetypeid',\t#  Type of land use the property is zoned for\n",
    "        # array([ 269.,  261.,   47.,   31.,  260.,  266.,  246.,  247.,  248.,\n",
    "        # 263.,  265.,  275.,  267.,  264.,  270.,   nan])\n",
    " 'propertyzoningdesc',\t#  Description of the allowed land uses (zoning) for that property   \n",
    "        # array([nan, 'LCA11*', 'LAC2', ..., 'WCR1400000', 'EMPYYY', 'RMM2*'], dtype=object)\n",
    " #'typeconstructiontypeid',\t#  What type of construction material was used to construct the home\n",
    "        # array([ nan,   6.,   4.,  10.,  13.,  11.])\n",
    " #'storytypeid',\t#  Type of floors in a multi-story house (i.e. basement and main level, split-level, attic, etc.).  See tab for details.\n",
    "        # array([ nan,   7.])\n",
    "\n",
    " ##########\n",
    " #  Misc\n",
    " ########## \n",
    " #'fips',\t#  Federal Information Processing Standard code -  see https://en.wikipedia.org/wiki/FIPS_county_code for more details\n",
    "        # array([ 6037.,  6059.,  6111.,    nan])\n",
    " #'parcelid',\t#  Unique identifier for parcels (lots)   \n",
    "])\n",
    "\n",
    "features_to_keep = features_to_keep.union(features_created)"
   ]
  },
  {
   "cell_type": "code",
   "execution_count": 499,
   "metadata": {
    "collapsed": false
   },
   "outputs": [
    {
     "data": {
      "text/plain": [
       "{'calculatedfinishedsquarefeet',\n",
       " 'propertycountylandusecode',\n",
       " 'propertyzoningdesc',\n",
       " 'taxrate'}"
      ]
     },
     "execution_count": 499,
     "metadata": {},
     "output_type": "execute_result"
    }
   ],
   "source": [
    "features_to_keep"
   ]
  },
  {
   "cell_type": "code",
   "execution_count": 500,
   "metadata": {
    "collapsed": false
   },
   "outputs": [
    {
     "data": {
      "text/plain": [
       "Index([u'logerror', u'transactiondate', u'bathroomcnt', u'bedroomcnt', u'fips',\n",
       "       u'latitude', u'longitude', u'propertycountylandusecode',\n",
       "       u'propertylandusetypeid', u'propertyzoningdesc',\n",
       "       u'rawcensustractandblock', u'regionidcounty', u'roomcnt',\n",
       "       u'assessmentyear', u'taxdelinquencyflag'],\n",
       "      dtype='object')"
      ]
     },
     "execution_count": 500,
     "metadata": {},
     "output_type": "execute_result"
    }
   ],
   "source": [
    "features_complete = train.columns[list(~train.isnull().any().values)]\n",
    "features_complete"
   ]
  },
  {
   "cell_type": "raw",
   "metadata": {},
   "source": [
    "# Clean features\n",
    "for col in train:\n",
    "    dt = train[col].dtype\n",
    "    if dt == 'float64':\n",
    "        train[col].fillna(-1, inplace='True')  \n",
    "    elif dt == 'object':\n",
    "        train = train.drop(col, axis = 1)\n",
    "        #train = pd.get_dummies(train,columns=[col], dummy_na=True)"
   ]
  },
  {
   "cell_type": "code",
   "execution_count": 501,
   "metadata": {
    "collapsed": true
   },
   "outputs": [],
   "source": [
    "train=train.fillna(-1)"
   ]
  },
  {
   "cell_type": "code",
   "execution_count": 502,
   "metadata": {
    "collapsed": true
   },
   "outputs": [],
   "source": [
    "Y = train[['logerror']]\n",
    "X = train\n",
    "for column in X.columns:\n",
    "    if column not in features_to_keep:\n",
    "        X = X.drop(column, axis=1)\n",
    "        \n",
    "#X = pd.DataFrame(scale(train, axis=0, with_mean=True, with_std=True, copy=True), columns = X.columns.values)"
   ]
  },
  {
   "cell_type": "code",
   "execution_count": 503,
   "metadata": {
    "collapsed": true
   },
   "outputs": [],
   "source": [
    "# TODO: qualifiers\n",
    "#X = X.drop('propertylandusetypeid', axis =1)\n",
    "#X = X.drop('rawcensustractandblock', axis =1)\n",
    "#X = X.drop('regionidcounty', axis =1)"
   ]
  },
  {
   "cell_type": "code",
   "execution_count": 504,
   "metadata": {
    "collapsed": false
   },
   "outputs": [
    {
     "data": {
      "text/html": [
       "<div>\n",
       "<table border=\"1\" class=\"dataframe\">\n",
       "  <thead>\n",
       "    <tr style=\"text-align: right;\">\n",
       "      <th></th>\n",
       "      <th>calculatedfinishedsquarefeet</th>\n",
       "      <th>propertycountylandusecode</th>\n",
       "      <th>propertyzoningdesc</th>\n",
       "      <th>taxrate</th>\n",
       "    </tr>\n",
       "  </thead>\n",
       "  <tbody>\n",
       "    <tr>\n",
       "      <th>count</th>\n",
       "      <td>90,275.00</td>\n",
       "      <td>90,275.00</td>\n",
       "      <td>90,275.00</td>\n",
       "      <td>90,275.00</td>\n",
       "    </tr>\n",
       "    <tr>\n",
       "      <th>mean</th>\n",
       "      <td>1,760.20</td>\n",
       "      <td>24.32</td>\n",
       "      <td>570.64</td>\n",
       "      <td>0.02</td>\n",
       "    </tr>\n",
       "    <tr>\n",
       "      <th>std</th>\n",
       "      <td>937.05</td>\n",
       "      <td>25.74</td>\n",
       "      <td>574.12</td>\n",
       "      <td>0.44</td>\n",
       "    </tr>\n",
       "    <tr>\n",
       "      <th>min</th>\n",
       "      <td>-1.00</td>\n",
       "      <td>-1.00</td>\n",
       "      <td>-1.00</td>\n",
       "      <td>-1.00</td>\n",
       "    </tr>\n",
       "    <tr>\n",
       "      <th>25%</th>\n",
       "      <td>1,176.00</td>\n",
       "      <td>2.00</td>\n",
       "      <td>-1.00</td>\n",
       "      <td>0.01</td>\n",
       "    </tr>\n",
       "    <tr>\n",
       "      <th>50%</th>\n",
       "      <td>1,535.00</td>\n",
       "      <td>9.00</td>\n",
       "      <td>609.00</td>\n",
       "      <td>0.01</td>\n",
       "    </tr>\n",
       "    <tr>\n",
       "      <th>75%</th>\n",
       "      <td>2,089.00</td>\n",
       "      <td>55.00</td>\n",
       "      <td>835.00</td>\n",
       "      <td>0.01</td>\n",
       "    </tr>\n",
       "    <tr>\n",
       "      <th>max</th>\n",
       "      <td>22,741.00</td>\n",
       "      <td>76.00</td>\n",
       "      <td>1,995.00</td>\n",
       "      <td>109.54</td>\n",
       "    </tr>\n",
       "  </tbody>\n",
       "</table>\n",
       "</div>"
      ],
      "text/plain": [
       "       calculatedfinishedsquarefeet  propertycountylandusecode  \\\n",
       "count                     90,275.00                  90,275.00   \n",
       "mean                       1,760.20                      24.32   \n",
       "std                          937.05                      25.74   \n",
       "min                           -1.00                      -1.00   \n",
       "25%                        1,176.00                       2.00   \n",
       "50%                        1,535.00                       9.00   \n",
       "75%                        2,089.00                      55.00   \n",
       "max                       22,741.00                      76.00   \n",
       "\n",
       "        propertyzoningdesc              taxrate  \n",
       "count            90,275.00            90,275.00  \n",
       "mean                570.64                 0.02  \n",
       "std                 574.12                 0.44  \n",
       "min                  -1.00                -1.00  \n",
       "25%                  -1.00                 0.01  \n",
       "50%                 609.00                 0.01  \n",
       "75%                 835.00                 0.01  \n",
       "max               1,995.00               109.54  "
      ]
     },
     "execution_count": 504,
     "metadata": {},
     "output_type": "execute_result"
    }
   ],
   "source": [
    "X.describe()"
   ]
  },
  {
   "cell_type": "code",
   "execution_count": 505,
   "metadata": {
    "collapsed": false
   },
   "outputs": [
    {
     "data": {
      "text/html": [
       "<div>\n",
       "<table border=\"1\" class=\"dataframe\">\n",
       "  <thead>\n",
       "    <tr style=\"text-align: right;\">\n",
       "      <th></th>\n",
       "      <th>logerror</th>\n",
       "    </tr>\n",
       "  </thead>\n",
       "  <tbody>\n",
       "    <tr>\n",
       "      <th>count</th>\n",
       "      <td>90,275.00</td>\n",
       "    </tr>\n",
       "    <tr>\n",
       "      <th>mean</th>\n",
       "      <td>0.01</td>\n",
       "    </tr>\n",
       "    <tr>\n",
       "      <th>std</th>\n",
       "      <td>0.16</td>\n",
       "    </tr>\n",
       "    <tr>\n",
       "      <th>min</th>\n",
       "      <td>-4.61</td>\n",
       "    </tr>\n",
       "    <tr>\n",
       "      <th>25%</th>\n",
       "      <td>-0.03</td>\n",
       "    </tr>\n",
       "    <tr>\n",
       "      <th>50%</th>\n",
       "      <td>0.01</td>\n",
       "    </tr>\n",
       "    <tr>\n",
       "      <th>75%</th>\n",
       "      <td>0.04</td>\n",
       "    </tr>\n",
       "    <tr>\n",
       "      <th>max</th>\n",
       "      <td>4.74</td>\n",
       "    </tr>\n",
       "  </tbody>\n",
       "</table>\n",
       "</div>"
      ],
      "text/plain": [
       "                  logerror\n",
       "count            90,275.00\n",
       "mean                  0.01\n",
       "std                   0.16\n",
       "min                  -4.61\n",
       "25%                  -0.03\n",
       "50%                   0.01\n",
       "75%                   0.04\n",
       "max                   4.74"
      ]
     },
     "execution_count": 505,
     "metadata": {},
     "output_type": "execute_result"
    }
   ],
   "source": [
    "Y.describe()"
   ]
  },
  {
   "cell_type": "markdown",
   "metadata": {},
   "source": [
    "## Modeling"
   ]
  },
  {
   "cell_type": "code",
   "execution_count": null,
   "metadata": {
    "collapsed": false
   },
   "outputs": [],
   "source": [
    "X_train, X_test, Y_train, Y_test = train_test_split(X, Y, train_size=.9)"
   ]
  },
  {
   "cell_type": "raw",
   "metadata": {
    "collapsed": false
   },
   "source": [
    "# Cache: regionidzip -> mean(logerror)\n",
    "_byzipcache = X_train.groupby(['regionidzip'])['logerror'].mean()"
   ]
  },
  {
   "cell_type": "raw",
   "metadata": {
    "collapsed": false
   },
   "source": [
    "# Create new vars needed after train set is defined\n",
    "add_logerror_byregionidzip(X_train, _byzipcache )\n",
    "X_train = X_train.drop('logerror', axis = 1)\n",
    "X_train = X_train.drop('regionidzip', axis = 1)\n",
    "add_taxrate(train)\n",
    "add_distanceavg(train)\n",
    "add_finishedsquarefeet12_t(X_train)\n",
    "X_train = X_train.drop('finishedsquarefeet12', axis = 1)\n",
    "add_finishedsquarefeet13_t(X_train)\n",
    "X_train = X_train.drop('finishedsquarefeet13', axis = 1)\n",
    "add_finishedsquarefeet15_t(X_train)\n",
    "X_train = X_train.drop('finishedsquarefeet15', axis = 1)\n",
    "add_finishedsquarefeet50_t(X_train)\n",
    "X_train = X_train.drop('finishedsquarefeet50', axis = 1)\n",
    "add_finishedsquarefeet6_t(X_train)\n",
    "X_train = X_train.drop('finishedsquarefeet6', axis = 1)"
   ]
  },
  {
   "cell_type": "raw",
   "metadata": {
    "collapsed": false
   },
   "source": [
    "add_logerror_byregionidzip(X_test, _byzipcache )\n",
    "X_test = X_test.drop('logerror', axis = 1)\n",
    "X_test = X_test.drop('regionidzip', axis = 1)\n",
    "add_taxrate(test)\n",
    "add_distanceavg(X_test)\n",
    "add_finishedsquarefeet12_t(X_test)\n",
    "X_test = X_test.drop('finishedsquarefeet12', axis = 1)\n",
    "add_finishedsquarefeet13_t(X_test)\n",
    "X_test = X_test.drop('finishedsquarefeet13', axis = 1)\n",
    "add_finishedsquarefeet15_t(X_test)\n",
    "X_test = X_test.drop('finishedsquarefeet15', axis = 1)\n",
    "add_finishedsquarefeet50_t(X_test)\n",
    "X_test = X_test.drop('finishedsquarefeet50', axis = 1)\n",
    "add_finishedsquarefeet6_t(X_test)\n",
    "X_test = X_test.drop('finishedsquarefeet6', axis = 1)"
   ]
  },
  {
   "cell_type": "code",
   "execution_count": null,
   "metadata": {
    "collapsed": false
   },
   "outputs": [
    {
     "name": "stdout",
     "output_type": "stream",
     "text": [
      "('min_samples_split =', 1000)\n",
      "('min_samples_split =', 100)\n"
     ]
    }
   ],
   "source": [
    "# Fit regression model\n",
    "#max_depth = None\n",
    "#min_samples_split = int(round(len(X_train)/50, 0))\n",
    "#min_samples_leaf = int(round(len(X_train)/10, 0))\n",
    "max_depth = 100\n",
    "min_samples_split = 1000\n",
    "min_samples_leaf = 100\n",
    "\n",
    "print(\"min_samples_split =\", min_samples_split)\n",
    "print(\"min_samples_split =\", min_samples_leaf)\n",
    "\n",
    "model = DecisionTreeRegressor(max_depth=max_depth, \n",
    "                              min_samples_split = min_samples_split,\n",
    "                              min_samples_leaf = min_samples_leaf,\n",
    "                              criterion = \"mae\")\n",
    "model.fit(X_train, Y_train)"
   ]
  },
  {
   "cell_type": "raw",
   "metadata": {},
   "source": [
    "# Grid search\n",
    "parameters = {#'max_depth':[], \n",
    "              'min_samples_split':[50, 100],\n",
    "             'min_samples_leaf':[20, 50]}\n",
    "clf = GridSearchCV(model, parameters)\n",
    "clf.fit(X_train,Y_train)\n",
    "sorted(clf.cv_results_.items())"
   ]
  },
  {
   "cell_type": "raw",
   "metadata": {},
   "source": [
    " print(clf.best_score_)"
   ]
  },
  {
   "cell_type": "code",
   "execution_count": null,
   "metadata": {
    "collapsed": true
   },
   "outputs": [],
   "source": [
    "Y_predict=model.predict(X_test)"
   ]
  },
  {
   "cell_type": "code",
   "execution_count": null,
   "metadata": {
    "collapsed": false
   },
   "outputs": [],
   "source": [
    "# (<= value) left = false, right = true\n",
    "zip(X.columns[model.tree_.feature], model.tree_.threshold, model.tree_.children_left, model.tree_.children_right)"
   ]
  },
  {
   "cell_type": "code",
   "execution_count": null,
   "metadata": {
    "collapsed": false
   },
   "outputs": [],
   "source": [
    "#Decision_Tree_Image(model, X_train.columns)"
   ]
  },
  {
   "cell_type": "markdown",
   "metadata": {},
   "source": [
    "## Model evaluation"
   ]
  },
  {
   "cell_type": "code",
   "execution_count": null,
   "metadata": {
    "collapsed": false
   },
   "outputs": [],
   "source": [
    "# Zillow MAE (test)\n",
    "print(\"MAE: \",metrics.mean_absolute_error(Y_test['logerror'], Y_predict))"
   ]
  },
  {
   "cell_type": "code",
   "execution_count": null,
   "metadata": {
    "collapsed": false
   },
   "outputs": [],
   "source": [
    "print (\"Features: \", X.columns)\n",
    "print (\"Tree params: \")\n",
    "print (\"   max_depth \", max_depth)\n",
    "print (\"   min_samples_split \", min_samples_split)\n",
    "print (\"   min_samples_leaf \", min_samples_leaf)\n",
    "print (\"Result: \",metrics.mean_absolute_error(Y_test['logerror'], Y_predict))"
   ]
  },
  {
   "cell_type": "markdown",
   "metadata": {},
   "source": [
    "Results:\n",
    "\n",
    "Features: calculatedfinishedsquarefeet\n",
    "Tree params:\n",
    "    max_depth: 200\n",
    "    min_samples_split: 500\n",
    "    min_samples_leaf: 5\n",
    "Result: ('MAE: ', 0.067769827204253438)\n",
    "\n",
    "('Features: ', Index([u'bathroomcnt', u'bedroomcnt', u'calculatedfinishedsquarefeet',\n",
    "       u'roomcnt', u'taxrate'],\n",
    "      dtype='object'))\n",
    "Tree params: \n",
    "('   max_depth ', 200)\n",
    "('   min_samples_split ', 500)\n",
    "('   max_samples_leaf ', 5)\n",
    "('Result: ', 0.068984714222419155)\n",
    "\n",
    "\n",
    "('Features: ', Index([u'calculatedfinishedsquarefeet', u'taxrate'], dtype='object'))\n",
    "Tree params: \n",
    "('   max_depth ', 200)\n",
    "('   min_samples_split ', 500)\n",
    "('   max_samples_leaf ', 5)\n",
    "('Result: ', 0.06646845923792645)\n",
    "\n",
    "\n",
    "('Features: ', Index([u'calculatedfinishedsquarefeet', u'taxrate', u'roomcnt_offby'], dtype='object'))\n",
    "Tree params: \n",
    "('   max_depth ', 200)\n",
    "('   min_samples_split ', 500)\n",
    "('   max_samples_leaf ', 5)\n",
    "('Result: ', 0.068475326761187422)\n",
    "\n",
    "('Features: ', Index([u'calculatedfinishedsquarefeet', u'roomcnt', u'taxrate',\n",
    "       u'roomcnt_offby'],\n",
    "      dtype='object'))\n",
    "Tree params: \n",
    "('   max_depth ', 200)\n",
    "('   min_samples_split ', 500)\n",
    "('   max_samples_leaf ', 5)\n",
    "('Result: ', 0.06741981058927779)\n",
    "\n",
    "('Features: ', Index([u'calculatedfinishedsquarefeet', u'roomcnt', u'taxrate'], dtype='object'))\n",
    "Tree params: \n",
    "('   max_depth ', 200)\n",
    "('   min_samples_split ', 500)\n",
    "('   max_samples_leaf ', 5)\n",
    "('Result: ', 0.067915003322995146)\n",
    "\n",
    "('Features: ', Index([u'calculatedfinishedsquarefeet', u'roomcnt', u'taxrate',\n",
    "       u'logerroravg - zip'],\n",
    "      dtype='object'))\n",
    "Tree params: \n",
    "('   max_depth ', 200)\n",
    "('   min_samples_split ', 500)\n",
    "('   max_samples_leaf ', 5)\n",
    "('Result: ', 0.069011060035445271)\n",
    "\n",
    "('Features: ', Index([u'calculatedfinishedsquarefeet', u'roomcnt', u'taxrate',\n",
    "       u'logerroravg - neighborhood'],\n",
    "      dtype='object'))\n",
    "Tree params: \n",
    "('   max_depth ', 200)\n",
    "('   min_samples_split ', 500)\n",
    "('   max_samples_leaf ', 5)\n",
    "('Result: ', 0.068019217988480277)\n",
    "\n",
    "('Features: ', Index([u'calculatedfinishedsquarefeet', u'taxrate'], dtype='object'))\n",
    "Tree params: \n",
    "('   max_depth ', 200)\n",
    "('   min_samples_split ', 1000)\n",
    "('   max_samples_leaf ', 100)\n",
    "('Result: ', 0.067869511519716444)\n",
    "\n",
    "\n",
    "('Features: ', Index([u'calculatedfinishedsquarefeet', u'propertycountylandusecode',\n",
    "       u'taxrate'],\n",
    "      dtype='object'))\n",
    "Tree params: \n",
    "('   max_depth ', 100)\n",
    "('   min_samples_split ', 1000)\n",
    "('   max_samples_leaf ', 100)\n",
    "('Result: ', 0.068272928666371302)\n",
    "\n",
    "('Features: ', Index([u'calculatedfinishedsquarefeet', u'propertycountylandusecode',\n",
    "       u'taxdelinquencyflag', u'taxrate'],\n",
    "      dtype='object'))\n",
    "Tree params: \n",
    "('   max_depth ', 100)\n",
    "('   min_samples_split ', 1000)\n",
    "('   max_samples_leaf ', 100)\n",
    "('Result: ', 0.070624357554275596)"
   ]
  },
  {
   "cell_type": "raw",
   "metadata": {
    "collapsed": false
   },
   "source": [
    "Z = Y_test\n",
    "Z = Z.join(properties) \n",
    "\n",
    "Z['logerror_p'] = Y_predict\n",
    "Z['diff'] = Z['logerror'] - Z['logerror_p']\n",
    "Z['absdiff'] = abs(Z['logerror'] - Z['logerror_p'])\n",
    "\n",
    "columns = list(features_to_keep) + ['logerror', 'logerror_p', 'diff', 'absdiff']\n",
    "Z[columns].nlargest(10, columns='absdiff')\n",
    "#Z.nlargest(10, columns='absdiff')"
   ]
  },
  {
   "cell_type": "markdown",
   "metadata": {},
   "source": [
    "## Model Execution"
   ]
  },
  {
   "cell_type": "code",
   "execution_count": 469,
   "metadata": {
    "collapsed": true
   },
   "outputs": [],
   "source": [
    "sample_submission_f = '/Users/Jose/Desktop/Zillow/sample_submission.csv'\n",
    "submission = pd.read_csv(sample_submission_f, index_col='ParcelId')"
   ]
  },
  {
   "cell_type": "code",
   "execution_count": 470,
   "metadata": {
    "collapsed": true
   },
   "outputs": [
    {
     "name": "stdout",
     "output_type": "stream",
     "text": [
      "('Using logerroravg = ', 0.011457219606756525)\n"
     ]
    }
   ],
   "source": [
    "#  ATTEMPT 2 - \n",
    "logerroravg = train['logerror'].mean()\n",
    "print(\"Using logerroravg = \", logerroravg)"
   ]
  },
  {
   "cell_type": "code",
   "execution_count": 546,
   "metadata": {
    "collapsed": false
   },
   "outputs": [],
   "source": [
    "X_all = properties"
   ]
  },
  {
   "cell_type": "code",
   "execution_count": null,
   "metadata": {
    "collapsed": false
   },
   "outputs": [],
   "source": [
    "# Prediction transaction date\n",
    "def add_transactiondate(df):\n",
    "    df['transactiondate'] = pd.datetime(2016,10,1)\n",
    "    df['transactiondate'] = df['transactiondate'].astype(int)\n",
    "\n",
    "add_transactiondate(X_all)"
   ]
  },
  {
   "cell_type": "code",
   "execution_count": 47,
   "metadata": {
    "collapsed": true
   },
   "outputs": [],
   "source": [
    "# Add features\n"
   ]
  },
  {
   "cell_type": "code",
   "execution_count": null,
   "metadata": {
    "collapsed": false
   },
   "outputs": [],
   "source": [
    "for column in X_all.columns:\n",
    "    if column not in features_to_keep:\n",
    "        X_all = X_all.drop(column, axis=1)"
   ]
  },
  {
   "cell_type": "code",
   "execution_count": 547,
   "metadata": {
    "collapsed": true
   },
   "outputs": [
    {
     "name": "stdout",
     "output_type": "stream",
     "text": [
      "('Missing: ', Index([u'distanceavg', u'finishedsquarefeet12_t', u'finishedsquarefeet13_t',\n",
      "       u'finishedsquarefeet15_t', u'finishedsquarefeet50_t',\n",
      "       u'finishedsquarefeet6_t', u'regionidzip_avg', u'transactiondate'],\n",
      "      dtype='object'))\n"
     ]
    },
    {
     "name": "stderr",
     "output_type": "stream",
     "text": [
      "/anaconda/lib/python2.7/site-packages/ipykernel/__main__.py:2: FutureWarning: using '-' to provide set differences with Indexes is deprecated, use .difference()\n",
      "  from ipykernel import kernelapp as app\n"
     ]
    }
   ],
   "source": [
    "#  Check for missing data\n",
    "print(\"Missing: \",X_test.columns.difference( X_all.columns))"
   ]
  },
  {
   "cell_type": "code",
   "execution_count": 534,
   "metadata": {
    "collapsed": true
   },
   "outputs": [],
   "source": [
    "Y_all = model.predict(X_all)"
   ]
  },
  {
   "cell_type": "code",
   "execution_count": null,
   "metadata": {
    "collapsed": true
   },
   "outputs": [],
   "source": [
    "results = pd.DataFrame(index=X_all.index)\n",
    "results.index.names = ['ParcelId']\n",
    "results['201610'] = Y_all\n",
    "results['201611'] = Y_all\n",
    "results['201612'] = Y_all\n",
    "results['201710'] = Y_all\n",
    "results['201711'] = Y_all\n",
    "results['201712'] = Y_all"
   ]
  },
  {
   "cell_type": "code",
   "execution_count": null,
   "metadata": {
    "collapsed": true
   },
   "outputs": [],
   "source": [
    "submission = submission.drop(submission.columns[0:], axis=1)\n",
    "submission = submission.join(results)\n",
    "\n",
    "# Use average for properties with missing data\n",
    "submission.fillna(logerroravg, inplace=True)       \n",
    "submission.columns"
   ]
  },
  {
   "cell_type": "code",
   "execution_count": null,
   "metadata": {
    "collapsed": true
   },
   "outputs": [],
   "source": [
    "# Round as per rules\n",
    "submission = submission.round(4)"
   ]
  },
  {
   "cell_type": "markdown",
   "metadata": {},
   "source": [
    "## Sanity Checks"
   ]
  },
  {
   "cell_type": "code",
   "execution_count": null,
   "metadata": {
    "collapsed": true
   },
   "outputs": [],
   "source": [
    "# Average log error\n",
    "submission.describe().round(4)"
   ]
  },
  {
   "cell_type": "code",
   "execution_count": null,
   "metadata": {
    "collapsed": true
   },
   "outputs": [],
   "source": [
    "# Check for NaN\n",
    "submission.isnull().sum()"
   ]
  },
  {
   "cell_type": "code",
   "execution_count": null,
   "metadata": {
    "collapsed": true
   },
   "outputs": [],
   "source": [
    "# Check if any duplicates\n",
    "submission[submission.index.duplicated(keep=False)]"
   ]
  },
  {
   "cell_type": "code",
   "execution_count": null,
   "metadata": {
    "collapsed": true
   },
   "outputs": [],
   "source": [
    "# Check additional values in submission file\n",
    "submission[~submission.index.isin(properties.index)]"
   ]
  },
  {
   "cell_type": "code",
   "execution_count": null,
   "metadata": {
    "collapsed": true
   },
   "outputs": [],
   "source": [
    "# Check additional values in properties file\n",
    "properties[~properties.index.isin(submission.index)]"
   ]
  },
  {
   "cell_type": "markdown",
   "metadata": {},
   "source": [
    "## Dump File"
   ]
  },
  {
   "cell_type": "code",
   "execution_count": null,
   "metadata": {
    "collapsed": true
   },
   "outputs": [],
   "source": [
    "# Write file\n",
    "submission_f = '/Users/Jose/Desktop/Zillow/submission.csv'\n",
    "submission_fh = open(submission_f, 'wb')\n",
    "submission.to_csv(submission_fh, sep=',', header='true')\n",
    "submission_fh.close()"
   ]
  },
  {
   "cell_type": "markdown",
   "metadata": {},
   "source": [
    "## Historical Records"
   ]
  },
  {
   "cell_type": "raw",
   "metadata": {
    "collapsed": false
   },
   "source": [
    "RECORDS\n",
    "-------------------------------\n",
    "#  ATTEMPT 1 - 0.0651274\n",
    "#submission['201610']=0.0114\n",
    "#submission['201611']=0.0114\n",
    "#submission['201612']=0.0114\n",
    "#submission['201710']=0.0114\n",
    "#submission['201711']=0.0114\n",
    "#submission['201712']=0.0114\n",
    "\n",
    "# ATTEMPT 2 - 0.0661850\n",
    "('MAE: ', 0.0668810274162282)\n",
    " 'latitude',\t#  Latitude of the middle of the parcel multiplied by 10e6\n",
    " 'longitude',\t#  Longitude of the middle of the parcel multiplied by 10e6\n",
    " 'landtaxvaluedollarcnt',\t# The assessed value of the land area of the parcel\n",
    " 'taxamount'\n",
    "max_depth=30, \n",
    "min_samples_split = 100,\n",
    "min_samples_leaf = 80,\n",
    "criterion = \"mae\")\n",
    "\n",
    "# ATTEMPT 3 - \n",
    "Tree details\n",
    "[('finishedsquarefeet50_t', 0.013822920620441437, 1, 8),\n",
    " ('regionidcounty', -0.0011029399465769529, 2, 3),\n",
    " ('finishedsquarefeet6_t', -2.0, -1, -1),\n",
    " ('regionidzip_avg', 0.0082535082474350929, 4, 7),\n",
    " ('latitude', 0.0038456977345049381, 5, 6),\n",
    " ('finishedsquarefeet6_t', -2.0, -1, -1),\n",
    " ('finishedsquarefeet6_t', -2.0, -1, -1),\n",
    " ('finishedsquarefeet6_t', -2.0, -1, -1),\n",
    " ('longitude', 0.027296457439661026, 9, 12),\n",
    " ('latitude', 0.019690167158842087, 10, 11),\n",
    " ('finishedsquarefeet6_t', -2.0, -1, -1),\n",
    " ('finishedsquarefeet6_t', -2.0, -1, -1),\n",
    " ('finishedsquarefeet6_t', -2.0, -1, -1)]\n",
    " \n"
   ]
  },
  {
   "cell_type": "markdown",
   "metadata": {},
   "source": [
    "## Resources"
   ]
  },
  {
   "cell_type": "code",
   "execution_count": null,
   "metadata": {
    "collapsed": false
   },
   "outputs": [],
   "source": [
    "# bedroomcnt\n",
    "#plt.trainlabel('bedroomcnt')\n",
    "#plt.ylabel('logerror')\n",
    "#plt.scatter(train['bathroomcnt'], train['logerror'], \n",
    "#           alpha=1, s=2, color='r')\n",
    "#plt.atrainis([0, 10,-5, 5])\n",
    "#plt.show()\n",
    "\n",
    "#date\n",
    "#plt.trainlabel('transactiondate')\n",
    "#plt.ylabel('logerror')\n",
    "#plt.scatter(train['bedroomcnt'], train['logerror'], alpha=1, s=2, color='r')\n",
    "#plt.atrainis(['2016-01-01', '2017-01-01',-5, 5])\n",
    "#plt.gcf().autofmt_traindate()\n",
    "#plt.show()\n",
    "\n",
    "#import matplotlib as mpl\n",
    "#plt.trainlabel('longitude')\n",
    "#plt.ylabel('latitude')\n",
    "#plt.scatter(train['longitude'], train['latitude'], c=train['logerror'], s=20, lw=0, cmap='seismic')\n",
    "#plt.atrainis([min(train['longitude']), matrain(train['longitude']),min(train['latitude']), matrain(train['latitude'])])\n",
    "#plt.colorbar()\n",
    "#plt.show()\n",
    "\n",
    "#train2 = train.query('logerror < -2.')\n",
    "\n",
    "#train2 = train.query('roomcnt == 0 ')\n",
    "\n",
    "#train2 = train.query('bedroomcnt > 2')\n",
    "\n",
    "#train2 = train.sample(frac=.10)\n",
    "\n",
    "#plt.trainlabel('longitude')\n",
    "#plt.ylabel('latitude')\n",
    "#plt.scatter(train2['longitude'], train2['latitude'], c=train2['logerror'], s=20, lw=0, cmap='seismic')\n",
    "#plt.colorbar()\n",
    "#plt.show()"
   ]
  }
 ],
 "metadata": {
  "kernelspec": {
   "display_name": "Python 2",
   "language": "python",
   "name": "python2"
  },
  "language_info": {
   "codemirror_mode": {
    "name": "ipython",
    "version": 2
   },
   "file_extension": ".py",
   "mimetype": "text/x-python",
   "name": "python",
   "nbconvert_exporter": "python",
   "pygments_lexer": "ipython2",
   "version": "2.7.11"
  }
 },
 "nbformat": 4,
 "nbformat_minor": 0
}
