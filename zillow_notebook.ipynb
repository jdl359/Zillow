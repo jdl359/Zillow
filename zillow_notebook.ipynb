{
 "cells": [
  {
   "cell_type": "markdown",
   "metadata": {},
   "source": [
    "# Zillow Challenge"
   ]
  },
  {
   "cell_type": "markdown",
   "metadata": {},
   "source": [
    "##  Data input"
   ]
  },
  {
   "cell_type": "code",
   "execution_count": 220,
   "metadata": {
    "collapsed": false
   },
   "outputs": [],
   "source": [
    "import os\n",
    "import numpy as np\n",
    "import pandas as pd\n",
    "import matplotlib.pyplot as plt\n",
    "\n",
    "from numpy import seterr,isneginf,array\n",
    "from datetime import datetime\n",
    "from pandas import compat\n",
    "from operator import itemgetter\n",
    "from sklearn import tree\n",
    "from sklearn import metrics\n",
    "from sklearn.preprocessing import scale\n",
    "from sklearn.neighbors import KDTree\n",
    "from sklearn.tree import DecisionTreeRegressor\n",
    "from sklearn.tree import DecisionTreeClassifier\n",
    "from sklearn.tree import export_graphviz\n",
    "from sklearn.linear_model import LogisticRegression\n",
    "from sklearn.svm import SVC\n",
    "from sklearn import metrics\n",
    "from sklearn.model_selection import cross_val_score\n",
    "from sklearn.model_selection import train_test_split\n",
    "from sklearn.model_selection import GridSearchCV\n",
    "from sklearn.model_selection import learning_curve\n",
    "from sklearn.model_selection import ShuffleSplit\n",
    "from IPython.display import Image\n",
    "\n",
    "#import seaborn as sns\n",
    "\n",
    "%matplotlib inline\n",
    "\n",
    "pd.set_option('display.max_columns', None)\n",
    "pd.set_option('display.max_row', 200)\n",
    "pd.options.display.float_format = '{:20,.2f}'.format\n",
    "compat.PY3 = False\n",
    "\n",
    "def Decision_Tree_Image(decision_tree, feature_names, name=\"temp\"):\n",
    "    \n",
    "    # Etrainport our decision tree to graphviz format\n",
    "    dot_file = tree.export_graphviz(decision_tree, out_file='images/' + name + '.dot', feature_names=feature_names)\n",
    "    \n",
    "    # Call graphviz to make an image file from our decision tree\n",
    "    os.system(\"dot -T png images/\" + name + \".dot -o images/\" + name + \".png\")\n",
    "    \n",
    "    # Return the .png image so we can see it\n",
    "    return Image(filename='images/' + name + '.png')\n",
    "\n",
    "def plot_learning_curve(estimator, title, X, y, ylim=None, cv=None,\n",
    "                        n_jobs=1, train_sizes=np.linspace(.1, 1.0, 5)):\n",
    "    \"\"\"\n",
    "    Generate a simple plot of the test and training learning curve.\n",
    "\n",
    "    Parameters\n",
    "    ----------\n",
    "    estimator : object type that implements the \"fit\" and \"predict\" methods\n",
    "        An object of that type which is cloned for each validation.\n",
    "\n",
    "    title : string\n",
    "        Title for the chart.\n",
    "\n",
    "    X : array-like, shape (n_samples, n_features)\n",
    "        Training vector, where n_samples is the number of samples and\n",
    "        n_features is the number of features.\n",
    "\n",
    "    y : array-like, shape (n_samples) or (n_samples, n_features), optional\n",
    "        Target relative to X for classification or regression;\n",
    "        None for unsupervised learning.\n",
    "\n",
    "    ylim : tuple, shape (ymin, ymax), optional\n",
    "        Defines minimum and maximum yvalues plotted.\n",
    "\n",
    "    cv : int, cross-validation generator or an iterable, optional\n",
    "        Determines the cross-validation splitting strategy.\n",
    "        Possible inputs for cv are:\n",
    "          - None, to use the default 3-fold cross-validation,\n",
    "          - integer, to specify the number of folds.\n",
    "          - An object to be used as a cross-validation generator.\n",
    "          - An iterable yielding train/test splits.\n",
    "\n",
    "        For integer/None inputs, if ``y`` is binary or multiclass,\n",
    "        :class:`StratifiedKFold` used. If the estimator is not a classifier\n",
    "        or if ``y`` is neither binary nor multiclass, :class:`KFold` is used.\n",
    "\n",
    "        Refer :ref:`User Guide <cross_validation>` for the various\n",
    "        cross-validators that can be used here.\n",
    "\n",
    "    n_jobs : integer, optional\n",
    "        Number of jobs to run in parallel (default 1).\n",
    "    \"\"\"\n",
    "    plt.figure()\n",
    "    plt.title(title)\n",
    "    #if ylim is not None:\n",
    "    #    plt.ylim(*ylim)\n",
    "    plt.xlabel(\"Training examples\")\n",
    "    plt.ylabel(\"Score\")\n",
    "    train_sizes, train_scores, test_scores = learning_curve(\n",
    "        estimator, X, y, cv=cv, n_jobs=n_jobs, scoring='neg_mean_absolute_error', train_sizes=train_sizes)\n",
    "    train_scores_mean = np.mean(train_scores, axis=1)\n",
    "    train_scores_std = np.std(train_scores, axis=1)\n",
    "    test_scores_mean = np.mean(test_scores, axis=1)\n",
    "    test_scores_std = np.std(test_scores, axis=1)\n",
    "    plt.grid()\n",
    "\n",
    "    plt.fill_between(train_sizes, train_scores_mean - train_scores_std,\n",
    "                     train_scores_mean + train_scores_std, alpha=0.1,\n",
    "                     color=\"r\")\n",
    "    plt.fill_between(train_sizes, test_scores_mean - test_scores_std,\n",
    "                     test_scores_mean + test_scores_std, alpha=0.1, color=\"g\")\n",
    "    plt.plot(train_sizes, train_scores_mean, 'o-', color=\"r\",\n",
    "             label=\"Training score\")\n",
    "    plt.plot(train_sizes, test_scores_mean, 'o-', color=\"g\",\n",
    "             label=\"Cross-validation score\")\n",
    "\n",
    "    plt.legend(loc=\"best\")\n",
    "    return plt"
   ]
  },
  {
   "cell_type": "code",
   "execution_count": 209,
   "metadata": {
    "collapsed": false
   },
   "outputs": [
    {
     "ename": "KeyboardInterrupt",
     "evalue": "",
     "output_type": "error",
     "traceback": [
      "\u001b[1;31m---------------------------------------------------------------------------\u001b[0m",
      "\u001b[1;31mKeyboardInterrupt\u001b[0m                         Traceback (most recent call last)",
      "\u001b[1;32m<ipython-input-209-b9c8a645fc29>\u001b[0m in \u001b[0;36m<module>\u001b[1;34m()\u001b[0m\n\u001b[0;32m      4\u001b[0m \u001b[1;33m\u001b[0m\u001b[0m\n\u001b[0;32m      5\u001b[0m \u001b[0mproperties_f\u001b[0m \u001b[1;33m=\u001b[0m \u001b[1;34m\"properties_2016.csv\"\u001b[0m\u001b[1;33m\u001b[0m\u001b[0m\n\u001b[1;32m----> 6\u001b[1;33m \u001b[0mproperties\u001b[0m \u001b[1;33m=\u001b[0m \u001b[0mpd\u001b[0m\u001b[1;33m.\u001b[0m\u001b[0mread_csv\u001b[0m\u001b[1;33m(\u001b[0m\u001b[0mproperties_f\u001b[0m\u001b[1;33m,\u001b[0m \u001b[0mindex_col\u001b[0m \u001b[1;33m=\u001b[0m \u001b[1;34m'parcelid'\u001b[0m\u001b[1;33m)\u001b[0m\u001b[1;33m\u001b[0m\u001b[0m\n\u001b[0m\u001b[0;32m      7\u001b[0m \u001b[1;33m\u001b[0m\u001b[0m\n\u001b[0;32m      8\u001b[0m \u001b[0mtrain_bak\u001b[0m \u001b[1;33m=\u001b[0m \u001b[0mtrain\u001b[0m\u001b[1;33m.\u001b[0m\u001b[0mjoin\u001b[0m\u001b[1;33m(\u001b[0m\u001b[0mproperties\u001b[0m\u001b[1;33m)\u001b[0m\u001b[1;33m\u001b[0m\u001b[0m\n",
      "\u001b[1;32m/home/ec2-user/anaconda2/lib/python2.7/site-packages/pandas/io/parsers.pyc\u001b[0m in \u001b[0;36mparser_f\u001b[1;34m(filepath_or_buffer, sep, delimiter, header, names, index_col, usecols, squeeze, prefix, mangle_dupe_cols, dtype, engine, converters, true_values, false_values, skipinitialspace, skiprows, skipfooter, nrows, na_values, keep_default_na, na_filter, verbose, skip_blank_lines, parse_dates, infer_datetime_format, keep_date_col, date_parser, dayfirst, iterator, chunksize, compression, thousands, decimal, lineterminator, quotechar, quoting, escapechar, comment, encoding, dialect, tupleize_cols, error_bad_lines, warn_bad_lines, skip_footer, doublequote, delim_whitespace, as_recarray, compact_ints, use_unsigned, low_memory, buffer_lines, memory_map, float_precision)\u001b[0m\n\u001b[0;32m    560\u001b[0m                     skip_blank_lines=skip_blank_lines)\n\u001b[0;32m    561\u001b[0m \u001b[1;33m\u001b[0m\u001b[0m\n\u001b[1;32m--> 562\u001b[1;33m         \u001b[1;32mreturn\u001b[0m \u001b[0m_read\u001b[0m\u001b[1;33m(\u001b[0m\u001b[0mfilepath_or_buffer\u001b[0m\u001b[1;33m,\u001b[0m \u001b[0mkwds\u001b[0m\u001b[1;33m)\u001b[0m\u001b[1;33m\u001b[0m\u001b[0m\n\u001b[0m\u001b[0;32m    563\u001b[0m \u001b[1;33m\u001b[0m\u001b[0m\n\u001b[0;32m    564\u001b[0m     \u001b[0mparser_f\u001b[0m\u001b[1;33m.\u001b[0m\u001b[0m__name__\u001b[0m \u001b[1;33m=\u001b[0m \u001b[0mname\u001b[0m\u001b[1;33m\u001b[0m\u001b[0m\n",
      "\u001b[1;32m/home/ec2-user/anaconda2/lib/python2.7/site-packages/pandas/io/parsers.pyc\u001b[0m in \u001b[0;36m_read\u001b[1;34m(filepath_or_buffer, kwds)\u001b[0m\n\u001b[0;32m    323\u001b[0m         \u001b[1;32mreturn\u001b[0m \u001b[0mparser\u001b[0m\u001b[1;33m\u001b[0m\u001b[0m\n\u001b[0;32m    324\u001b[0m \u001b[1;33m\u001b[0m\u001b[0m\n\u001b[1;32m--> 325\u001b[1;33m     \u001b[1;32mreturn\u001b[0m \u001b[0mparser\u001b[0m\u001b[1;33m.\u001b[0m\u001b[0mread\u001b[0m\u001b[1;33m(\u001b[0m\u001b[1;33m)\u001b[0m\u001b[1;33m\u001b[0m\u001b[0m\n\u001b[0m\u001b[0;32m    326\u001b[0m \u001b[1;33m\u001b[0m\u001b[0m\n\u001b[0;32m    327\u001b[0m _parser_defaults = {\n",
      "\u001b[1;32m/home/ec2-user/anaconda2/lib/python2.7/site-packages/pandas/io/parsers.pyc\u001b[0m in \u001b[0;36mread\u001b[1;34m(self, nrows)\u001b[0m\n\u001b[0;32m    813\u001b[0m                 \u001b[1;32mraise\u001b[0m \u001b[0mValueError\u001b[0m\u001b[1;33m(\u001b[0m\u001b[1;34m'skip_footer not supported for iteration'\u001b[0m\u001b[1;33m)\u001b[0m\u001b[1;33m\u001b[0m\u001b[0m\n\u001b[0;32m    814\u001b[0m \u001b[1;33m\u001b[0m\u001b[0m\n\u001b[1;32m--> 815\u001b[1;33m         \u001b[0mret\u001b[0m \u001b[1;33m=\u001b[0m \u001b[0mself\u001b[0m\u001b[1;33m.\u001b[0m\u001b[0m_engine\u001b[0m\u001b[1;33m.\u001b[0m\u001b[0mread\u001b[0m\u001b[1;33m(\u001b[0m\u001b[0mnrows\u001b[0m\u001b[1;33m)\u001b[0m\u001b[1;33m\u001b[0m\u001b[0m\n\u001b[0m\u001b[0;32m    816\u001b[0m \u001b[1;33m\u001b[0m\u001b[0m\n\u001b[0;32m    817\u001b[0m         \u001b[1;32mif\u001b[0m \u001b[0mself\u001b[0m\u001b[1;33m.\u001b[0m\u001b[0moptions\u001b[0m\u001b[1;33m.\u001b[0m\u001b[0mget\u001b[0m\u001b[1;33m(\u001b[0m\u001b[1;34m'as_recarray'\u001b[0m\u001b[1;33m)\u001b[0m\u001b[1;33m:\u001b[0m\u001b[1;33m\u001b[0m\u001b[0m\n",
      "\u001b[1;32m/home/ec2-user/anaconda2/lib/python2.7/site-packages/pandas/io/parsers.pyc\u001b[0m in \u001b[0;36mread\u001b[1;34m(self, nrows)\u001b[0m\n\u001b[0;32m   1312\u001b[0m     \u001b[1;32mdef\u001b[0m \u001b[0mread\u001b[0m\u001b[1;33m(\u001b[0m\u001b[0mself\u001b[0m\u001b[1;33m,\u001b[0m \u001b[0mnrows\u001b[0m\u001b[1;33m=\u001b[0m\u001b[0mNone\u001b[0m\u001b[1;33m)\u001b[0m\u001b[1;33m:\u001b[0m\u001b[1;33m\u001b[0m\u001b[0m\n\u001b[0;32m   1313\u001b[0m         \u001b[1;32mtry\u001b[0m\u001b[1;33m:\u001b[0m\u001b[1;33m\u001b[0m\u001b[0m\n\u001b[1;32m-> 1314\u001b[1;33m             \u001b[0mdata\u001b[0m \u001b[1;33m=\u001b[0m \u001b[0mself\u001b[0m\u001b[1;33m.\u001b[0m\u001b[0m_reader\u001b[0m\u001b[1;33m.\u001b[0m\u001b[0mread\u001b[0m\u001b[1;33m(\u001b[0m\u001b[0mnrows\u001b[0m\u001b[1;33m)\u001b[0m\u001b[1;33m\u001b[0m\u001b[0m\n\u001b[0m\u001b[0;32m   1315\u001b[0m         \u001b[1;32mexcept\u001b[0m \u001b[0mStopIteration\u001b[0m\u001b[1;33m:\u001b[0m\u001b[1;33m\u001b[0m\u001b[0m\n\u001b[0;32m   1316\u001b[0m             \u001b[1;32mif\u001b[0m \u001b[0mself\u001b[0m\u001b[1;33m.\u001b[0m\u001b[0m_first_chunk\u001b[0m\u001b[1;33m:\u001b[0m\u001b[1;33m\u001b[0m\u001b[0m\n",
      "\u001b[1;32mpandas/parser.pyx\u001b[0m in \u001b[0;36mpandas.parser.TextReader.read (pandas/parser.c:8748)\u001b[1;34m()\u001b[0m\n",
      "\u001b[1;32mpandas/parser.pyx\u001b[0m in \u001b[0;36mpandas.parser.TextReader._read_low_memory (pandas/parser.c:9428)\u001b[1;34m()\u001b[0m\n",
      "\u001b[1;32mpandas/parser.pyx\u001b[0m in \u001b[0;36mpandas.parser._concatenate_chunks (pandas/parser.c:25050)\u001b[1;34m()\u001b[0m\n",
      "\u001b[1;32m/home/ec2-user/anaconda2/lib/python2.7/site-packages/numpy/core/numerictypes.pyc\u001b[0m in \u001b[0;36mfind_common_type\u001b[1;34m(array_types, scalar_types)\u001b[0m\n\u001b[0;32m    962\u001b[0m \u001b[0m_register_types\u001b[0m\u001b[1;33m(\u001b[0m\u001b[1;33m)\u001b[0m\u001b[1;33m\u001b[0m\u001b[0m\n\u001b[0;32m    963\u001b[0m \u001b[1;33m\u001b[0m\u001b[0m\n\u001b[1;32m--> 964\u001b[1;33m \u001b[1;32mdef\u001b[0m \u001b[0mfind_common_type\u001b[0m\u001b[1;33m(\u001b[0m\u001b[0marray_types\u001b[0m\u001b[1;33m,\u001b[0m \u001b[0mscalar_types\u001b[0m\u001b[1;33m)\u001b[0m\u001b[1;33m:\u001b[0m\u001b[1;33m\u001b[0m\u001b[0m\n\u001b[0m\u001b[0;32m    965\u001b[0m     \"\"\"\n\u001b[0;32m    966\u001b[0m     \u001b[0mDetermine\u001b[0m \u001b[0mcommon\u001b[0m \u001b[0mtype\u001b[0m \u001b[0mfollowing\u001b[0m \u001b[0mstandard\u001b[0m \u001b[0mcoercion\u001b[0m \u001b[0mrules\u001b[0m\u001b[1;33m.\u001b[0m\u001b[1;33m\u001b[0m\u001b[0m\n",
      "\u001b[1;31mKeyboardInterrupt\u001b[0m: "
     ]
    }
   ],
   "source": [
    "train_f = \"train_2016_v2.csv\"\n",
    "train = pd.read_csv(train_f, index_col = 'parcelid', parse_dates=['transactiondate'])\n",
    "train['transactiondate'] = pd.to_datetime(train['transactiondate']).astype(int)\n",
    "\n",
    "properties_f = \"properties_2016.csv\"\n",
    "properties = pd.read_csv(properties_f, index_col = 'parcelid')\n",
    "\n",
    "train_bak = train.join(properties) "
   ]
  },
  {
   "cell_type": "code",
   "execution_count": 3,
   "metadata": {
    "collapsed": false
   },
   "outputs": [],
   "source": [
    "#### TEST MODE  #####\n",
    "def getdata(pcnt): \n",
    "    return train_bak.sample(frac=pcnt)"
   ]
  },
  {
   "cell_type": "markdown",
   "metadata": {},
   "source": [
    "##  Feature creation"
   ]
  },
  {
   "cell_type": "code",
   "execution_count": 4,
   "metadata": {
    "collapsed": true
   },
   "outputs": [],
   "source": [
    "features_base = set()\n",
    "features_created_custom = set()\n",
    "features_created_null = set()"
   ]
  },
  {
   "cell_type": "code",
   "execution_count": 5,
   "metadata": {
    "collapsed": true
   },
   "outputs": [],
   "source": [
    "#################\n",
    "#  _isnull\n",
    "#################\n",
    "def add_isnull(dfs,feature):\n",
    "    featurename = feature+\"_isnull\"\n",
    "    features_created_null.add(featurename)\n",
    "    dfs[0][featurename] = dfs[0][feature].isnull()"
   ]
  },
  {
   "cell_type": "code",
   "execution_count": 6,
   "metadata": {
    "collapsed": false
   },
   "outputs": [],
   "source": [
    "#################\n",
    "#  taxrate\n",
    "#################\n",
    "def add_taxrate(dfs):\n",
    "    features_created_custom.add('taxrate')\n",
    "    dfs[0]['taxrate'] = np.divide(dfs[0]['taxamount'],dfs[0]['taxvaluedollarcnt'])"
   ]
  },
  {
   "cell_type": "code",
   "execution_count": 7,
   "metadata": {
    "collapsed": false
   },
   "outputs": [],
   "source": [
    "#################\n",
    "#  roomcntdiff\n",
    "#################\n",
    "def add_roomcntdiff(dfs):\n",
    "    features_created_custom.add('roomcntdiff')\n",
    "    dfs[0]['roomcntdiff'] = np.where(dfs[0]['roomcnt']==0, \n",
    "                                    np.negative(dfs[0]['bedroomcnt'].add(dfs[0]['bathroomcnt'])),\n",
    "                                    dfs[0]['roomcnt']\n",
    "                            )"
   ]
  },
  {
   "cell_type": "code",
   "execution_count": 8,
   "metadata": {
    "collapsed": true
   },
   "outputs": [],
   "source": [
    "#################\n",
    "# add_transactioncnt\n",
    "#################\n",
    "\n",
    "def add_transactioncnt(dfs):\n",
    "    features_created_custom.add('transactioncnt')\n",
    "    n1 = 200  # square ft bucketing\n",
    "    monthlag = 3\n",
    "    cols = ['transactionmonth', 'regionidzip', 'calculatedbathnbr']\n",
    "\n",
    "    dfs[0] = dfs[0].drop(['transactioncnt'], errors='ignore', axis=1)\n",
    "\n",
    "    dfs[0]['transactionmonth']    = pd.to_datetime(dfs[0]['transactiondate']).dt.month\n",
    "    dfs[0]['transactionmonthlag'] = np.subtract(dfs[0]['transactionmonth'],monthlag)    \n",
    "    dfs[0]['calculatedfinishedsquarefeet_t'] = np.ceil(np.divide(dfs[0]['calculatedfinishedsquarefeet'], n1))\n",
    "\n",
    "    sumdf = pd.DataFrame({'transactioncnt' : dfs[0].groupby([\n",
    "                    'transactionmonth' \n",
    "                    ,'regionidzip' \n",
    "                    ,'roomcnt'\n",
    "                    ,'calculatedfinishedsquarefeet_t'\n",
    "                ]).size()}).reset_index()\n",
    "    sumdf.rename(columns={'transactionmonth': 'transactionmonthlag'}, inplace=True)\n",
    "    dfs[0] = pd.merge(dfs[0], sumdf, on=['transactionmonthlag' \n",
    "                                ,'regionidzip' \n",
    "                                ,'roomcnt'\n",
    "                                 ,'calculatedfinishedsquarefeet_t'\n",
    "                                ], how='left')    \n",
    "    dfs[0] = dfs[0][dfs[0]['transactionmonthlag']>0]  # Drop sales done in earlier than monthlag months\n",
    "    dfs[0] = dfs[0].drop(['transactionmonth','transactionmonthlag','calculatedfinishedsquarefeet_t'], axis=1)"
   ]
  },
  {
   "cell_type": "code",
   "execution_count": 9,
   "metadata": {
    "collapsed": true
   },
   "outputs": [],
   "source": [
    "#################\n",
    "#  distanceavg\n",
    "#################\n",
    "def add_distanceavg(dfs):  \n",
    "    # Convert to miles, 1 degree = 69 miles\n",
    "    #df['latitudemi']  = df['latitude']* 5280 * 69/1e6\n",
    "    #df['longitudemi'] *= df['longitude'] * 5280* 69/1e6\n",
    "\n",
    "    features_created_custom.add('distanceavg')\n",
    "\n",
    "    n1 = 500  # square ft   # TODO: exponentiate as it grows bigger\n",
    "    n2 = 20000 # lot size\n",
    "    dfs[0]['calculatedfinishedsquarefeet_t'] = np.ceil(np.divide(dfs[0]['calculatedfinishedsquarefeet'], n1))\n",
    "    dfs[0]['lotsizesquarefeet_t'] = np.ceil(np.divide(dfs[0]['lotsizesquarefeet'], n2))    \n",
    "\n",
    "    monthlag = 3\n",
    "    dfs[0]['transactionmonth']    = pd.to_datetime(dfs[0]['transactiondate']).dt.month\n",
    "    dfs[0]['transactionmonthlag'] = np.subtract(dfs[0]['transactionmonth'],monthlag)    \n",
    "   \n",
    "    n=3    # n-1 nearest neighbor\n",
    "    dfs[0]['distanceavg'] = np.nan     # Unknown distance, one of feastures not available, assume 20\n",
    "    distancefeatures = ['latitude', 'longitude']   # features to measure distance\n",
    "    for i in dfs[0]['calculatedbathnbr'].unique():         # features to define comparables\n",
    "        for k in dfs[0]['lotsizesquarefeet_t'].unique():   \n",
    "            for l in dfs[0]['transactionmonthlag'].unique():\n",
    "                if ((~np.isnan(i)) \n",
    "                        #& (~np.isnan(j)) \n",
    "                        & (~np.isnan(k)) \n",
    "                        & (~np.isnan(l)) \n",
    "                       ):\n",
    "                    mask1 = (\n",
    "                            (dfs[0]['calculatedbathnbr'] == i)   \n",
    "                          #  & (df['bathroomcnt'] == j) \n",
    "                            & (dfs[0]['lotsizesquarefeet_t'] == k) \n",
    "                            & (dfs[0]['transactionmonth'] == l)\n",
    "                           ) \n",
    "                    df_subset1 = dfs[0][mask1]\n",
    "                    \n",
    "                    mask2 = (\n",
    "                            (dfs[0]['calculatedbathnbr'] == i)   \n",
    "                          #  & (df['bathroomcnt'] == j) \n",
    "                            & (dfs[0]['lotsizesquarefeet_t'] == k) \n",
    "                            & (dfs[0]['transactionmonthlag'] == l)\n",
    "                           ) \n",
    "                    df_subset2 = dfs[0][mask2]\n",
    "                    \n",
    "                    if ((len(df_subset1))>n-1 &\n",
    "                         (len(df_subset2))>1):\n",
    "                        kdt = KDTree(df_subset1.loc[:,distancefeatures], \n",
    "                                     leaf_size=30, \n",
    "                                     metric='euclidean')\n",
    "                        dists, neighs=kdt.query(df_subset2.loc[:,distancefeatures], \n",
    "                                                k=n, \n",
    "                                                return_distance=True) \n",
    "                        distanceavg=dists.mean(axis=1)\n",
    "                        #res = np.log(distanceavg)\n",
    "                        #res[isneginf(res)]=0\n",
    "                        dfs[0].loc[mask2,'distanceavg'] = distanceavg\n",
    "    dfs[0] = dfs[0].drop(['calculatedfinishedsquarefeet_t','lotsizesquarefeet_t',\n",
    "                         'transactionmonth','transactionmonthlag'], axis=1)\n",
    "    \n",
    "#['distanceavgmi']=train['distanceavg']* 69/1e6"
   ]
  },
  {
   "cell_type": "code",
   "execution_count": 10,
   "metadata": {
    "collapsed": false
   },
   "outputs": [],
   "source": [
    "def createfeatures(df, features):\n",
    "    functions = {\n",
    "                'taxrate': add_taxrate,\n",
    "                'roomcntdiff':add_roomcntdiff,\n",
    "                'transactioncnt':add_transactioncnt,\n",
    "                'distanceavg':add_distanceavg   \n",
    "                } \n",
    "    for f in features:\n",
    "        functions[f]([df])"
   ]
  },
  {
   "cell_type": "code",
   "execution_count": 11,
   "metadata": {
    "collapsed": false
   },
   "outputs": [],
   "source": [
    "def createfeaturesnull(df):\n",
    "    for f in (train.columns - ['logerror']):\n",
    "        add_isnull([train],f)"
   ]
  },
  {
   "cell_type": "code",
   "execution_count": 12,
   "metadata": {
    "collapsed": false
   },
   "outputs": [],
   "source": [
    "train = getdata(1)"
   ]
  },
  {
   "cell_type": "code",
   "execution_count": 13,
   "metadata": {
    "collapsed": false
   },
   "outputs": [
    {
     "name": "stderr",
     "output_type": "stream",
     "text": [
      "/home/ec2-user/anaconda2/lib/python2.7/site-packages/ipykernel/__main__.py:2: FutureWarning: using '-' to provide set differences with Indexes is deprecated, use .difference()\n",
      "  from ipykernel import kernelapp as app\n"
     ]
    }
   ],
   "source": [
    "# Add null features\n",
    "createfeaturesnull(train)"
   ]
  },
  {
   "cell_type": "code",
   "execution_count": 14,
   "metadata": {
    "collapsed": false
   },
   "outputs": [],
   "source": [
    "# Add custom features\n",
    "createfeatures(train,[\n",
    "               'taxrate',\n",
    "               'roomcntdiff',\n",
    "               'transactioncnt',\n",
    "               'distanceavg'\n",
    "              ])"
   ]
  },
  {
   "cell_type": "code",
   "execution_count": 15,
   "metadata": {
    "collapsed": true
   },
   "outputs": [],
   "source": [
    "#Binary\n",
    "features_binary = {'hashottuborspa',\n",
    "                'pooltypeid10',\n",
    "                'pooltypeid2',\n",
    "                'pooltypeid7',\n",
    "                'fireplaceflag',\n",
    "                'taxdelinquencyflag'}\n",
    "\n",
    "for f in features_binary:\n",
    "    train[f] = pd.Categorical(train[f]).codes"
   ]
  },
  {
   "cell_type": "code",
   "execution_count": 16,
   "metadata": {
    "collapsed": false
   },
   "outputs": [],
   "source": [
    "# Types\n",
    "features_types = {'airconditioningtypeid',\n",
    "                  'architecturalstyletypeid',\n",
    "                  'buildingqualitytypeid',\n",
    "                  'buildingclasstypeid',\n",
    "                  'decktypeid',\n",
    "                  'heatingorsystemtypeid',\n",
    "                  'propertycountylandusecode',\n",
    "                  'propertylandusetypeid',\n",
    "                  'propertyzoningdesc',\n",
    "                  'typeconstructiontypeid',\n",
    "                  'storytypeid'}\n",
    "\n",
    "for f in features_types:\n",
    "    train[f] = pd.Categorical(train[f]).codes"
   ]
  },
  {
   "cell_type": "code",
   "execution_count": 17,
   "metadata": {
    "collapsed": true
   },
   "outputs": [],
   "source": [
    "train = train.fillna(-1)"
   ]
  },
  {
   "cell_type": "code",
   "execution_count": 18,
   "metadata": {
    "collapsed": true
   },
   "outputs": [],
   "source": [
    "train_full = train"
   ]
  },
  {
   "cell_type": "markdown",
   "metadata": {},
   "source": [
    "##  Feature selection"
   ]
  },
  {
   "cell_type": "code",
   "execution_count": 19,
   "metadata": {
    "collapsed": false
   },
   "outputs": [],
   "source": [
    "features_created_null = set([\n",
    "'airconditioningtypeid_isnull',\n",
    " 'airconditioningtypeid_isnull_isnull',\n",
    " 'architecturalstyletypeid_isnull',\n",
    " 'architecturalstyletypeid_isnull_isnull',\n",
    " 'assessmentyear_isnull',\n",
    " 'assessmentyear_isnull_isnull',\n",
    " 'basementsqft_isnull',\n",
    " 'basementsqft_isnull_isnull',\n",
    " 'bathroomcnt_isnull',\n",
    " 'bathroomcnt_isnull_isnull',\n",
    " 'bedroomcnt_isnull',\n",
    " 'bedroomcnt_isnull_isnull',\n",
    " 'buildingclasstypeid_isnull',\n",
    " 'buildingclasstypeid_isnull_isnull',\n",
    " 'buildingqualitytypeid_isnull',\n",
    " 'buildingqualitytypeid_isnull_isnull',\n",
    " 'calculatedbathnbr_isnull',\n",
    " 'calculatedbathnbr_isnull_isnull',\n",
    " 'calculatedfinishedsquarefeet_isnull',\n",
    " 'calculatedfinishedsquarefeet_isnull_isnull',\n",
    " 'censustractandblock_isnull',\n",
    " 'censustractandblock_isnull_isnull',\n",
    " 'decktypeid_isnull',\n",
    " 'decktypeid_isnull_isnull',\n",
    " 'finishedfloor1squarefeet_isnull',\n",
    " 'finishedfloor1squarefeet_isnull_isnull',\n",
    " 'finishedsquarefeet12_isnull',\n",
    " 'finishedsquarefeet12_isnull_isnull',\n",
    " 'finishedsquarefeet13_isnull',\n",
    " 'finishedsquarefeet13_isnull_isnull',\n",
    " 'finishedsquarefeet15_isnull',\n",
    " 'finishedsquarefeet15_isnull_isnull',\n",
    " 'finishedsquarefeet50_isnull',\n",
    " 'finishedsquarefeet50_isnull_isnull',\n",
    " 'finishedsquarefeet6_isnull',\n",
    " 'finishedsquarefeet6_isnull_isnull',\n",
    " 'fips_isnull',\n",
    " 'fips_isnull_isnull',\n",
    " 'fireplacecnt_isnull',\n",
    " 'fireplacecnt_isnull_isnull',\n",
    " 'fireplaceflag_isnull',\n",
    " 'fireplaceflag_isnull_isnull',\n",
    " 'fullbathcnt_isnull',\n",
    " 'fullbathcnt_isnull_isnull',\n",
    " 'garagecarcnt_isnull',\n",
    " 'garagecarcnt_isnull_isnull',\n",
    " 'garagetotalsqft_isnull',\n",
    " 'garagetotalsqft_isnull_isnull',\n",
    " 'hashottuborspa_isnull',\n",
    " 'hashottuborspa_isnull_isnull',\n",
    " 'heatingorsystemtypeid_isnull',\n",
    " 'heatingorsystemtypeid_isnull_isnull',\n",
    " 'landtaxvaluedollarcnt_isnull',\n",
    " 'landtaxvaluedollarcnt_isnull_isnull',\n",
    " 'latitude_isnull',\n",
    " 'latitude_isnull_isnull',\n",
    " 'logerror_isnull_isnull',\n",
    " 'longitude_isnull',\n",
    " 'longitude_isnull_isnull',\n",
    " 'lotsizesquarefeet_isnull',\n",
    " 'lotsizesquarefeet_isnull_isnull',\n",
    " 'numberofstories_isnull',\n",
    " 'numberofstories_isnull_isnull',\n",
    " 'poolcnt_isnull',\n",
    " 'poolcnt_isnull_isnull',\n",
    " 'poolsizesum_isnull',\n",
    " 'poolsizesum_isnull_isnull',\n",
    " 'pooltypeid10_isnull',\n",
    " 'pooltypeid10_isnull_isnull',\n",
    " 'pooltypeid2_isnull',\n",
    " 'pooltypeid2_isnull_isnull',\n",
    " 'pooltypeid7_isnull',\n",
    " 'pooltypeid7_isnull_isnull',\n",
    " 'propertycountylandusecode_isnull',\n",
    " 'propertycountylandusecode_isnull_isnull',\n",
    " 'propertylandusetypeid_isnull',\n",
    " 'propertylandusetypeid_isnull_isnull',\n",
    " 'propertyzoningdesc_isnull',\n",
    " 'propertyzoningdesc_isnull_isnull',\n",
    " 'rawcensustractandblock_isnull',\n",
    " 'rawcensustractandblock_isnull_isnull',\n",
    " 'regionidcity_isnull',\n",
    " 'regionidcity_isnull_isnull',\n",
    " 'regionidcounty_isnull',\n",
    " 'regionidcounty_isnull_isnull',\n",
    " 'regionidneighborhood_isnull',\n",
    " 'regionidneighborhood_isnull_isnull',\n",
    " 'regionidzip_isnull',\n",
    " 'regionidzip_isnull_isnull',\n",
    " 'roomcnt_isnull',\n",
    " 'roomcnt_isnull_isnull',\n",
    " 'storytypeid_isnull',\n",
    " 'storytypeid_isnull_isnull',\n",
    " 'structuretaxvaluedollarcnt_isnull',\n",
    " 'structuretaxvaluedollarcnt_isnull_isnull',\n",
    " 'taxamount_isnull',\n",
    " 'taxamount_isnull_isnull',\n",
    " 'taxdelinquencyflag_isnull',\n",
    " 'taxdelinquencyflag_isnull_isnull',\n",
    " 'taxdelinquencyyear_isnull',\n",
    " 'taxdelinquencyyear_isnull_isnull',\n",
    " 'taxvaluedollarcnt_isnull',\n",
    " 'taxvaluedollarcnt_isnull_isnull',\n",
    " 'threequarterbathnbr_isnull',\n",
    " 'threequarterbathnbr_isnull_isnull',\n",
    " 'transactiondate_isnull',\n",
    " 'transactiondate_isnull_isnull',\n",
    " 'typeconstructiontypeid_isnull',\n",
    " 'typeconstructiontypeid_isnull_isnull',\n",
    " 'unitcnt_isnull',\n",
    " 'unitcnt_isnull_isnull',\n",
    " 'yardbuildingsqft17_isnull',\n",
    " 'yardbuildingsqft17_isnull_isnull',\n",
    " 'yardbuildingsqft26_isnull',\n",
    " 'yardbuildingsqft26_isnull_isnull',\n",
    " 'yearbuilt_isnull',\n",
    " 'yearbuilt_isnull_isnull'        \n",
    "    ])"
   ]
  },
  {
   "cell_type": "code",
   "execution_count": 178,
   "metadata": {
    "collapsed": false
   },
   "outputs": [],
   "source": [
    "features_created_custom = set([\n",
    "                'taxrate',\n",
    "               'roomcntdiff',\n",
    "               'transactioncnt',\n",
    "               'distanceavg'\n",
    "    ])"
   ]
  },
  {
   "cell_type": "code",
   "execution_count": 179,
   "metadata": {
    "collapsed": false
   },
   "outputs": [],
   "source": [
    "features_base = set([\n",
    " ##########\n",
    " #  train data\n",
    " ##########\n",
    " 'logerror', # Predictor variable \n",
    "         \n",
    " ##########\n",
    " #  Numeric attributes\n",
    " ##########\n",
    " # ROOMS\n",
    " 'roomcnt',\t#  Total number of rooms in the principal residence\n",
    "\n",
    " # BATHROOMS\n",
    " 'bathroomcnt',\t#  Number of bathrooms in home including fractional bathrooms\n",
    " 'calculatedbathnbr',\t#  Number of bathrooms in home including fractional bathroom\n",
    " 'threequarterbathnbr',\t#  Number of 3/4 bathrooms in house (shower + sink + toilet)\n",
    " 'fullbathcnt',\t#  Number of full bathrooms (sink, shower + bathtub, and toilet) present in home\n",
    "\n",
    " # BEDROOMS\n",
    " 'bedroomcnt',\t#  Number of bedrooms in home \n",
    "        \n",
    "  # MEASUREMENTS\n",
    "  'basementsqft', #  Finished living area below or partially below ground level\n",
    "  'calculatedfinishedsquarefeet',\t#  Calculated total finished living area of the home \n",
    "  'finishedfloor1squarefeet',\t#  Size of the finished living area on the first (entry) floor of the home\n",
    "  'finishedsquarefeet6',\t# Base unfinished and finished area\n",
    "  'finishedsquarefeet12',\t# Finished living area\n",
    "  'finishedsquarefeet13',\t# Perimeter  living area\n",
    "  'finishedsquarefeet15',\t# Total area\n",
    "  'finishedsquarefeet50',\t#  Size of the finished living area on the first (entry) floor of the home\n",
    "  'lotsizesquarefeet',\t#  Area of the lot in square feet\n",
    "        \n",
    " # FIREPLACE\n",
    " 'fireplacecnt',\t#  Number of fireplaces in a home (if any)\n",
    "\n",
    " # GARAGE\n",
    " 'garagecarcnt',\t#  Total number of garages on the lot including an attached garage\n",
    " 'garagetotalsqft',\t#  Total number of square feet of all garages on lot including an attached garage\n",
    "\n",
    " # TAXES\n",
    " 'landtaxvaluedollarcnt',\t# The assessed value of the land area of the parcel\n",
    "'structuretaxvaluedollarcnt',\t# The assessed value of the built structure on the parcel\n",
    " 'taxamount',\t# The total property tax assessed for that assessment year\n",
    " 'taxvaluedollarcnt',\t# The total tax assessed value of the parcel\n",
    "\n",
    " # POOL\n",
    " 'poolcnt',\t#  Number of pools on the lot (if any)\n",
    " 'poolsizesum',\t#  Total square footage of all pools on property\n",
    "\n",
    " # YARD\n",
    " 'yardbuildingsqft17',\t# Patio in  yard\n",
    " 'yardbuildingsqft26',\t# Storage shed/building in yard\n",
    "\n",
    " # BUILDING\n",
    " 'numberofstories',\t#  Number of stories or levels the home has\n",
    " 'unitcnt',\t#  Number of units the structure is built into (i.e. 2 = dupletrain, 3 = tripletrain, etc...)\n",
    "\n",
    " ##########\n",
    " #  Time\n",
    " ##########\n",
    "#####    'transactiondate',   ## from train data\n",
    " 'yearbuilt',\t#  The Year the principal residence was built      \n",
    " 'taxdelinquencyyear',\t# Year for which the unpaid propert tatraines were due \n",
    " 'assessmentyear',\t# The year of the property tax assessment \n",
    "     \n",
    " ##########\n",
    " #  Location\n",
    " ########## \n",
    " 'latitude',\t#  Latitude of the middle of the parcel multiplied by 10e6\n",
    " 'longitude',\t#  Longitude of the middle of the parcel multiplied by 10e6        \n",
    " 'regionidcounty',\t# County in which the property is located\n",
    " 'regionidcity',\t#  City in which the property is located (if any)\n",
    " 'regionidzip',\t#  Zip code in which the property is located\n",
    " 'regionidneighborhood',\t# Neighborhood in which the property is located\n",
    " 'rawcensustractandblock',\t#  Census tract and block ID combined - also contains blockgroup assignment by etraintension\n",
    " 'censustractandblock',\t#  Census tract and block ID combined - also contains blockgroup assignment by etraintension        \n",
    "        \n",
    " ##########\n",
    " #  Binary\n",
    " ##########         \n",
    " 'hashottuborspa',\t#  Does the home have a hot tub or spa - array([nan, True], dtype=object)\n",
    "        # array([nan, True], dtype=object)\n",
    " 'pooltypeid10',\t#  Spa or Hot Tub - [array([ nan,   1.])]\n",
    "        # array([ nan,   1.])\n",
    " 'pooltypeid2',\t#  Pool with Spa/Hot Tub - [array([ nan,   1.])]\n",
    "        # array([ nan,   1.])\n",
    " 'pooltypeid7',\t#  Pool without hot tub - [array([ nan,   1.])]\n",
    "        # array([ nan,   1.])\n",
    " 'fireplaceflag',\t#  Is a fireplace present in this home - array([nan, True], dtype=object)\n",
    "        # array([nan, True], dtype=object)\n",
    " 'taxdelinquencyflag',\t# Property tatraines for this parcel are past due as of 2015 - array([nan, 'Y'], dtype=object)\n",
    "        # array([nan, 'Y'], dtype=object)\n",
    "        \n",
    " ##########\n",
    " #  Types\n",
    " ##########    \n",
    " 'airconditioningtypeid', #  Type of cooling system present in the home (if any)\n",
    " 'architecturalstyletypeid', #  Architectural style of the home (i.e. ranch, colonial, split-level, etc…) \n",
    "        # array([ nan,   7.,  21.,   8.,   2.,   3.,   5.,  10.,  27.])\n",
    " 'buildingqualitytypeid',\t#  Overall assessment of condition of the building from best (lowest) to worst (highest)\n",
    "        # array([ nan,   7.,   4.,  10.,   1.,  12.,   8.,   3.,   6.,   9.,   5.,\n",
    "        #11.,   2.])\n",
    " 'buildingclasstypeid',\t# The building framing type (steel frame, wood frame, concrete/brick) \n",
    "        # array([ nan,   3.,   4.,   5.,   2.,   1.])\n",
    " 'decktypeid',\t# Type of deck (if any) present on parcel\n",
    "        # array([ nan,  66.])\n",
    " 'heatingorsystemtypeid',\t#  Type of home heating system\n",
    "        # array([ nan,   2.,   7.,  20.,   6.,  13.,  18.,  24.,  12.,  10.,   1.,\n",
    "        # 14.,  21.,  11.,  19.])\n",
    " 'propertycountylandusecode',\t#  County land use code i.e. it's zoning at the county level\n",
    "        #array([nan,'010D', '0109', '1200', '1210', '010V', '300V', '0100', '0200',\n",
    "        #'010C', '0300', '1204', '100V', '01HC', '120C', '040V', '1214', ... \n",
    "        # ], dtype=object)\n",
    " 'propertylandusetypeid',\t#  Type of land use the property is zoned for\n",
    "        # array([ 269.,  261.,   47.,   31.,  260.,  266.,  246.,  247.,  248.,\n",
    "        # 263.,  265.,  275.,  267.,  264.,  270.,   nan])\n",
    " 'propertyzoningdesc',\t#  Description of the allowed land uses (zoning) for that property   \n",
    "        # array([nan, 'LCA11*', 'LAC2', ..., 'WCR1400000', 'EMPYYY', 'RMM2*'], dtype=object)\n",
    " 'typeconstructiontypeid',\t#  What type of construction material was used to construct the home\n",
    "        # array([ nan,   6.,   4.,  10.,  13.,  11.])\n",
    " 'storytypeid',\t#  Type of floors in a multi-story house (i.e. basement and main level, split-level, attic, etc.).  See tab for details.\n",
    "        # array([ nan,   7.])\n",
    "\n",
    " ##########\n",
    " #  Misc\n",
    " ########## \n",
    " #'fips',\t#  Federal Information Processing Standard code -  see https://en.wikipedia.org/wiki/FIPS_county_code for more details\n",
    "        # array([ 6037.,  6059.,  6111.,    nan])\n",
    " #'parcelid',\t#  Unique identifier for parcels (lots)   \n",
    "])\n",
    "\n"
   ]
  },
  {
   "cell_type": "code",
   "execution_count": 180,
   "metadata": {
    "collapsed": false
   },
   "outputs": [],
   "source": [
    "features_to_keep = set()\n",
    "features_to_keep = features_to_keep.union(\n",
    "                            features_base,\n",
    "                            features_created_custom,\n",
    "                           # features_created_null\n",
    "                            )"
   ]
  },
  {
   "cell_type": "code",
   "execution_count": 531,
   "metadata": {
    "collapsed": true
   },
   "outputs": [],
   "source": [
    "# WINNER\n",
    "features_to_keep = set([\n",
    "        'logerror',\n",
    "        u'bathroomcnt', u'buildingqualitytypeid', \n",
    "        u'calculatedbathnbr',\n",
    "       u'calculatedfinishedsquarefeet', u'latitude',\n",
    "        u'longitude',\n",
    "       u'pooltypeid2', \n",
    "        u'pooltypeid7', \n",
    "        u'propertycountylandusecode',\n",
    "       u'propertylandusetypeid', \n",
    "        u'propertyzoningdesc', \n",
    "        u'taxdelinquencyflag',\n",
    "       u'taxrate', u'roomcntdiff'\n",
    "    ])"
   ]
  },
  {
   "cell_type": "raw",
   "metadata": {},
   "source": [
    "features_to_keep = set([\n",
    "        'logerror',\n",
    "        u'bathroomcnt', u'calculatedbathnbr',\n",
    "       u'calculatedfinishedsquarefeet', u'latitude', u'longitude',\n",
    "       u'pooltypeid2', u'pooltypeid7', u'propertycountylandusecode',\n",
    "       u'propertylandusetypeid', u'propertyzoningdesc', u'taxdelinquencyflag',\n",
    "       u'taxrate', u'roomcntdiff'\n",
    "    ])"
   ]
  },
  {
   "cell_type": "raw",
   "metadata": {},
   "source": [
    "features_to_keep= set([\n",
    "   'logerror',u'calculatedfinishedsquarefeet', u'finishedsquarefeet12',\n",
    "       u'propertyzoningdesc', u'taxvaluedollarcnt', u'taxamount', u'taxrate'\n",
    "#        ,'yearbuilt','structuretaxvaluedollarcnt','finishedsquarefeet50','regionidzip',\n",
    "#        u'censustractandblock'\n",
    "#u'landtaxvaluedollarcnt\n",
    "#u'yardbuildingsqft17\n",
    "#u'fullbathcnt\n",
    "#u'fireplacecnt\n",
    "    ])"
   ]
  },
  {
   "cell_type": "code",
   "execution_count": 532,
   "metadata": {
    "collapsed": true
   },
   "outputs": [],
   "source": [
    "train_filtered = train_full\n",
    "for column in train_full.columns:\n",
    "    if column not in features_to_keep:\n",
    "        train_filtered = train_filtered.drop(column, axis=1)"
   ]
  },
  {
   "cell_type": "code",
   "execution_count": 533,
   "metadata": {
    "collapsed": false
   },
   "outputs": [
    {
     "data": {
      "text/plain": [
       "Index([u'logerror', u'bathroomcnt', u'buildingqualitytypeid',\n",
       "       u'calculatedbathnbr', u'calculatedfinishedsquarefeet', u'latitude',\n",
       "       u'longitude', u'pooltypeid2', u'pooltypeid7',\n",
       "       u'propertycountylandusecode', u'propertylandusetypeid',\n",
       "       u'propertyzoningdesc', u'taxdelinquencyflag', u'taxrate',\n",
       "       u'roomcntdiff'],\n",
       "      dtype='object')"
      ]
     },
     "execution_count": 533,
     "metadata": {},
     "output_type": "execute_result"
    }
   ],
   "source": [
    "train_filtered.columns"
   ]
  },
  {
   "cell_type": "markdown",
   "metadata": {},
   "source": [
    "## Sample"
   ]
  },
  {
   "cell_type": "code",
   "execution_count": 534,
   "metadata": {
    "collapsed": true
   },
   "outputs": [],
   "source": [
    "def getsample(pcnt): \n",
    "    return train_filtered.sample(frac=pcnt)"
   ]
  },
  {
   "cell_type": "code",
   "execution_count": 535,
   "metadata": {
    "collapsed": false
   },
   "outputs": [],
   "source": [
    "train_sample = getsample(.1)\n",
    "Y = train_sample[['logerror']]\n",
    "X = train_sample.drop('logerror',axis=1)"
   ]
  },
  {
   "cell_type": "markdown",
   "metadata": {},
   "source": [
    "## Modeling"
   ]
  },
  {
   "cell_type": "code",
   "execution_count": 536,
   "metadata": {
    "collapsed": false
   },
   "outputs": [
    {
     "name": "stdout",
     "output_type": "stream",
     "text": [
      "('min_samples_split =', 1504)\n",
      "('min_samples_split =', 150)\n"
     ]
    }
   ],
   "source": [
    "max_depth = None\n",
    "min_samples_split = int(round(len(X)/6, 0))\n",
    "min_samples_leaf = int(round(len(X)/60, 0))\n",
    "\n",
    "print(\"min_samples_split =\", min_samples_split)\n",
    "print(\"min_samples_split =\", min_samples_leaf)\n",
    "\n",
    "model = DecisionTreeRegressor(max_depth=max_depth, \n",
    "                              min_samples_split = min_samples_split,\n",
    "                              min_samples_leaf = min_samples_leaf,\n",
    "                              criterion = \"mae\")"
   ]
  },
  {
   "cell_type": "code",
   "execution_count": 537,
   "metadata": {
    "collapsed": false
   },
   "outputs": [
    {
     "data": {
      "text/plain": [
       "Index([u'bathroomcnt', u'buildingqualitytypeid', u'calculatedbathnbr',\n",
       "       u'calculatedfinishedsquarefeet', u'latitude', u'longitude',\n",
       "       u'pooltypeid2', u'pooltypeid7', u'propertycountylandusecode',\n",
       "       u'propertylandusetypeid', u'propertyzoningdesc', u'taxdelinquencyflag',\n",
       "       u'taxrate', u'roomcntdiff'],\n",
       "      dtype='object')"
      ]
     },
     "execution_count": 537,
     "metadata": {},
     "output_type": "execute_result"
    }
   ],
   "source": [
    "X.columns"
   ]
  },
  {
   "cell_type": "code",
   "execution_count": 538,
   "metadata": {
    "collapsed": false
   },
   "outputs": [
    {
     "name": "stdout",
     "output_type": "stream",
     "text": [
      "(array([-0.06809446, -0.06416174, -0.06343045, -0.06681584, -0.07235385]), -0.06697127017666564)\n"
     ]
    }
   ],
   "source": [
    "# Model statistics\n",
    "from sklearn.model_selection import cross_val_score\n",
    "scores = cross_val_score(model, X, Y, cv=5, n_jobs = 5, scoring='neg_mean_absolute_error')\n",
    "print(scores, scores.mean())"
   ]
  },
  {
   "cell_type": "code",
   "execution_count": 539,
   "metadata": {
    "collapsed": false
   },
   "outputs": [
    {
     "data": {
      "text/plain": [
       "[('calculatedfinishedsquarefeet', 1513.5, array([[ 0.008]]), 3611, 1, 6),\n",
       " ('taxrate', 0.020354591310024261, array([[ 0.004]]), 1761, 2, 5),\n",
       " ('latitude', 34021232.0, array([[ 0.005]]), 1611, 3, 4),\n",
       " ('taxrate', -2.0, array([[ 0.002]]), 855, -1, -1),\n",
       " ('taxrate', -2.0, array([[ 0.009]]), 756, -1, -1),\n",
       " ('taxrate', -2.0, array([[-0.0156]]), 150, -1, -1),\n",
       " ('longitude', -118374384.0, array([[ 0.0119]]), 1850, 7, 8),\n",
       " ('taxrate', -2.0, array([[ 0.0188]]), 649, -1, -1),\n",
       " ('taxrate', -2.0, array([[ 0.009]]), 1201, -1, -1)]"
      ]
     },
     "execution_count": 539,
     "metadata": {},
     "output_type": "execute_result"
    }
   ],
   "source": [
    "# Fit regression model\n",
    "X_train, X_test, Y_train, Y_test = train_test_split(X, Y, train_size=.4)\n",
    "model.fit(X_train, Y_train)\n",
    "\n",
    "# Tree description\n",
    "zip(X.columns[model.tree_.feature], \n",
    "    model.tree_.threshold, \n",
    "    model.tree_.value, \n",
    "    model.tree_.n_node_samples,\n",
    "    model.tree_.children_left, \n",
    "    model.tree_.children_right)"
   ]
  },
  {
   "cell_type": "code",
   "execution_count": 540,
   "metadata": {
    "collapsed": false
   },
   "outputs": [
    {
     "data": {
      "text/plain": [
       "[(0.3939, 'calculatedfinishedsquarefeet'),\n",
       " (0.2743, 'longitude'),\n",
       " (0.2039, 'taxrate'),\n",
       " (0.1279, 'latitude'),\n",
       " (0.0, 'taxdelinquencyflag'),\n",
       " (0.0, 'roomcntdiff'),\n",
       " (0.0, 'propertyzoningdesc'),\n",
       " (0.0, 'propertylandusetypeid'),\n",
       " (0.0, 'propertycountylandusecode'),\n",
       " (0.0, 'pooltypeid7'),\n",
       " (0.0, 'pooltypeid2'),\n",
       " (0.0, 'calculatedbathnbr'),\n",
       " (0.0, 'buildingqualitytypeid'),\n",
       " (0.0, 'bathroomcnt')]"
      ]
     },
     "execution_count": 540,
     "metadata": {},
     "output_type": "execute_result"
    }
   ],
   "source": [
    "# Feature importance\n",
    "sorted(zip(map(lambda x: round(x, 4), model.feature_importances_), X_train.columns), \n",
    "             reverse=True)"
   ]
  },
  {
   "cell_type": "code",
   "execution_count": 541,
   "metadata": {
    "collapsed": false,
    "scrolled": true
   },
   "outputs": [
    {
     "name": "stdout",
     "output_type": "stream",
     "text": [
      "('MAE: ', 0.066928595163374557)\n"
     ]
    }
   ],
   "source": [
    "# Zillow MAE (test)\n",
    "Y_predict=model.predict(X_test)\n",
    "print(\"MAE: \",metrics.mean_absolute_error(Y_test['logerror'], Y_predict))"
   ]
  },
  {
   "cell_type": "markdown",
   "metadata": {},
   "source": [
    "##  Learning Curve"
   ]
  },
  {
   "cell_type": "code",
   "execution_count": 441,
   "metadata": {
    "collapsed": false
   },
   "outputs": [
    {
     "data": {
      "image/png": "[encoded data removed]",
      "text/plain": [
       "<matplotlib.figure.Figure at 0x7f423477ab90>"
      ]
     },
     "metadata": {},
     "output_type": "display_data"
    }
   ],
   "source": [
    "title = \"Learning Curves (DecisionTreeRegressor)\"\n",
    "# Cross validation with 5 iterations to get smoother mean test and train\n",
    "# score curves, each time with 20% data randomly selected as a validation set.\n",
    "cv = ShuffleSplit(n_splits=5, test_size=0.2, random_state=0)\n",
    "plot_learning_curve(model, title, X, Y, ylim=(0.0, 1.01), cv=cv, n_jobs=25)\n",
    "plt.show()"
   ]
  },
  {
   "cell_type": "markdown",
   "metadata": {},
   "source": [
    "##  Feature / parameter search"
   ]
  },
  {
   "cell_type": "raw",
   "metadata": {
    "collapsed": false
   },
   "source": [
    "# Feature search\n",
    "from sklearn.feature_selection import RFE\n",
    "rfe = RFE(model, 6)\n",
    "fit = rfe.fit(X_train, Y_train.values.ravel())\n",
    "print(\"Num Features: %d\") % fit.n_features_\n",
    "print(\"Selected Features: %s\") % fit.support_\n",
    "print(\"Feature Ranking: %s\") % fit.ranking_"
   ]
  },
  {
   "cell_type": "raw",
   "metadata": {},
   "source": [
    "Feature search results:\n",
    "\n",
    "Sample: 8125\n",
    "('min_samples_split =', 4062)\n",
    "('min_samples_split =', 232)\n",
    "6 features, out of created_custom and base:\n",
    "Index([u'calculatedfinishedsquarefeet', u'finishedsquarefeet12',\n",
    "       u'propertyzoningdesc', u'taxvaluedollarcnt', u'taxamount', u'taxrate'],\n",
    "      dtype='object')\n",
    "yearbuilt\n",
    "u'structuretaxvaluedollarcnt\n",
    "u'finishedsquarefeet50\n",
    "u'regionidzip\n",
    "u'censustractandblock\n",
    "u'landtaxvaluedollarcnt\n",
    "u'yardbuildingsqft17\n",
    "u'fullbathcnt\n",
    "u'fireplacecnt\n",
    "u'finishedsquarefeet6\n",
    "u'finishedsquarefeet15\n",
    "u'finishedsquarefeet13\n",
    "u'yardbuildingsqft26\n",
    "u'lotsizesquarefeet\n",
    "u'numberofstories"
   ]
  },
  {
   "cell_type": "code",
   "execution_count": 414,
   "metadata": {
    "collapsed": false
   },
   "outputs": [
    {
     "data": {
      "text/plain": [
       "[('mean_fit_time',\n",
       "  array([ 8.54101006,  8.22041893,  7.45506032,  8.2014637 ,  7.9700431 ,\n",
       "          7.32949098,  7.22526201,  6.77333744,  6.08810465])),\n",
       " ('mean_score_time',\n",
       "  array([ 0.00123072,  0.00136709,  0.00117199,  0.00130169,  0.00114028,\n",
       "          0.00107137,  0.00096138,  0.0010856 ,  0.00102401])),\n",
       " ('mean_test_score',\n",
       "  array([ 0.00122942,  0.00107268,  0.00105931,  0.00082099,  0.00096201,\n",
       "          0.00092878,  0.00081357,  0.00089703,  0.00074073])),\n",
       " ('mean_train_score',\n",
       "  array([ 0.00253102,  0.00228528,  0.00176478,  0.00231324,  0.00217302,\n",
       "          0.00172889,  0.0018033 ,  0.00149361,  0.00107885])),\n",
       " ('param_min_samples_leaf',\n",
       "  masked_array(data = [324 324 324 406 406 406 541 541 541],\n",
       "               mask = [False False False False False False False False False],\n",
       "         fill_value = ?)),\n",
       " ('param_min_samples_split',\n",
       "  masked_array(data = [2708 3249 5416 2708 3249 5416 2708 3249 5416],\n",
       "               mask = [False False False False False False False False False],\n",
       "         fill_value = ?)),\n",
       " ('params',\n",
       "  [{'min_samples_leaf': 324, 'min_samples_split': 2708},\n",
       "   {'min_samples_leaf': 324, 'min_samples_split': 3249},\n",
       "   {'min_samples_leaf': 324, 'min_samples_split': 5416},\n",
       "   {'min_samples_leaf': 406, 'min_samples_split': 2708},\n",
       "   {'min_samples_leaf': 406, 'min_samples_split': 3249},\n",
       "   {'min_samples_leaf': 406, 'min_samples_split': 5416},\n",
       "   {'min_samples_leaf': 541, 'min_samples_split': 2708},\n",
       "   {'min_samples_leaf': 541, 'min_samples_split': 3249},\n",
       "   {'min_samples_leaf': 541, 'min_samples_split': 5416}]),\n",
       " ('rank_test_score', array([1, 2, 3, 7, 4, 5, 8, 6, 9], dtype=int32)),\n",
       " ('split0_test_score',\n",
       "  array([ 0.00184724,  0.00102969,  0.00087124,  0.00069968,  0.00071047,\n",
       "          0.00049242,  0.00054615,  0.00058904,  0.00041328])),\n",
       " ('split0_train_score',\n",
       "  array([ 0.00299763,  0.00230516,  0.00101696,  0.00246941,  0.00197209,\n",
       "          0.00091298,  0.00172936,  0.00127079,  0.0003416 ])),\n",
       " ('split1_test_score',\n",
       "  array([-0.00031739, -0.0001585 , -0.0001585 , -0.00039497, -0.00017123,\n",
       "         -0.00017123, -0.00119125, -0.00079224, -0.00108541])),\n",
       " ('split1_train_score',\n",
       "  array([ 0.00265389,  0.00267649,  0.00267649,  0.00252878,  0.0026728 ,\n",
       "          0.0026728 ,  0.00253423,  0.00249183,  0.00217673])),\n",
       " ('split2_test_score',\n",
       "  array([ 0.00215829,  0.00234685,  0.00246525,  0.00215829,  0.00234685,\n",
       "          0.00246525,  0.00308586,  0.00289436,  0.00289436])),\n",
       " ('split2_train_score',\n",
       "  array([ 0.00194154,  0.00187419,  0.0016009 ,  0.00194154,  0.00187419,\n",
       "          0.0016009 ,  0.00114632,  0.00071821,  0.00071821])),\n",
       " ('std_fit_time',\n",
       "  array([ 1.28262301,  1.46875454,  2.13608091,  1.56365481,  1.57206655,\n",
       "          2.18574091,  1.06961634,  1.09709572,  1.37165364])),\n",
       " ('std_score_time',\n",
       "  array([  3.90312890e-05,   1.53479850e-04,   1.03180137e-05,\n",
       "           2.74809679e-04,   1.51999693e-04,   2.33085132e-04,\n",
       "           4.48300196e-06,   1.51327302e-04,   1.80231515e-04])),\n",
       " ('std_test_score',\n",
       "  array([ 0.00110105,  0.00102323,  0.00107933,  0.00104586,  0.00104325,\n",
       "          0.00111967,  0.00175628,  0.00152068,  0.0016411 ])),\n",
       " ('std_train_score',\n",
       "  array([ 0.00043982,  0.00032784,  0.00068734,  0.00026395,  0.00035564,\n",
       "          0.00072412,  0.00056902,  0.00074102,  0.0007914 ]))]"
      ]
     },
     "execution_count": 414,
     "metadata": {},
     "output_type": "execute_result"
    }
   ],
   "source": [
    "# Parameter search\n",
    "parameters = {#'max_depth':[], \n",
    "             'min_samples_leaf':[\n",
    "                                len(X_train)/50,\n",
    "                               # len(X_train)/40,\n",
    "                               # len(X_train)/30\n",
    "                                ],\n",
    "              'min_samples_split':[\n",
    "                                len(X_train)/6,\n",
    "                               # len(X_train)/5,\n",
    "                               # len(X_train)/3,\n",
    "                                ]}\n",
    "clf = GridSearchCV(model, parameters,n_jobs = 9)\n",
    "clf.fit(X_train,Y_train)\n",
    "sorted(clf.cv_results_.items())"
   ]
  },
  {
   "cell_type": "code",
   "execution_count": 177,
   "metadata": {
    "collapsed": false
   },
   "outputs": [],
   "source": [
    "#Decision_Tree_Image(model, X_train.columns)"
   ]
  },
  {
   "cell_type": "markdown",
   "metadata": {},
   "source": [
    "## Model evaluation"
   ]
  },
  {
   "cell_type": "code",
   "execution_count": 189,
   "metadata": {
    "collapsed": false
   },
   "outputs": [
    {
     "name": "stdout",
     "output_type": "stream",
     "text": [
      "('Features: ', Index([u'airconditioningtypeid', u'architecturalstyletypeid', u'basementsqft',\n",
      "       u'bathroomcnt', u'bedroomcnt', u'buildingclasstypeid',\n",
      "       u'buildingqualitytypeid', u'calculatedbathnbr', u'decktypeid',\n",
      "       u'finishedfloor1squarefeet', u'calculatedfinishedsquarefeet',\n",
      "       u'finishedsquarefeet12', u'finishedsquarefeet13',\n",
      "       u'finishedsquarefeet15', u'finishedsquarefeet50',\n",
      "       u'finishedsquarefeet6', u'fireplacecnt', u'fullbathcnt',\n",
      "       u'garagecarcnt', u'garagetotalsqft', u'hashottuborspa',\n",
      "       u'heatingorsystemtypeid', u'latitude', u'longitude',\n",
      "       u'lotsizesquarefeet', u'poolcnt', u'poolsizesum', u'pooltypeid10',\n",
      "       u'pooltypeid2', u'pooltypeid7', u'propertycountylandusecode',\n",
      "       u'propertylandusetypeid', u'propertyzoningdesc',\n",
      "       u'rawcensustractandblock', u'regionidcity', u'regionidcounty',\n",
      "       u'regionidneighborhood', u'regionidzip', u'roomcnt', u'storytypeid',\n",
      "       u'threequarterbathnbr', u'typeconstructiontypeid', u'unitcnt',\n",
      "       u'yardbuildingsqft17', u'yardbuildingsqft26', u'yearbuilt',\n",
      "       u'numberofstories', u'fireplaceflag', u'structuretaxvaluedollarcnt',\n",
      "       u'taxvaluedollarcnt', u'assessmentyear', u'landtaxvaluedollarcnt',\n",
      "       u'taxamount', u'taxdelinquencyflag', u'taxdelinquencyyear',\n",
      "       u'censustractandblock', u'taxrate', u'roomcntdiff', u'distanceavg'],\n",
      "      dtype='object'))\n",
      "Tree params: \n",
      "('   max_depth ', None)\n",
      "('   min_samples_split ', 5642)\n",
      "('   min_samples_leaf ', 1504)\n",
      "('Result: ', 0.067634426229508188)\n"
     ]
    }
   ],
   "source": [
    "print (\"Features: \", X.columns)\n",
    "print (\"Tree params: \")\n",
    "print (\"   max_depth \", max_depth)\n",
    "print (\"   min_samples_split \", min_samples_split)\n",
    "print (\"   min_samples_leaf \", min_samples_leaf)\n",
    "print (\"Result: \",metrics.mean_absolute_error(Y_test['logerror'], Y_predict))"
   ]
  },
  {
   "cell_type": "raw",
   "metadata": {},
   "source": [
    "Parameter best fits -\n",
    "For 18K (.2 of data):\n",
    "    250 / 1000 \n",
    " \n",
    " [{'min_samples_leaf': 250, 'min_samples_split': 1000},\n",
    "   {'min_samples_leaf': 250, 'min_samples_split': 5000},\n",
    "   {'min_samples_leaf': 500, 'min_samples_split': 1000},\n",
    "   {'min_samples_leaf': 500, 'min_samples_split': 5000}]),\n",
    " ('rank_test_score', array([3, 2, 4, 1], dtype=int32)),"
   ]
  },
  {
   "cell_type": "raw",
   "metadata": {},
   "source": [
    "('Features: ', Index([u'calculatedfinishedsquarefeet', u'finishedsquarefeet15',\n",
    "       u'pooltypeid7', u'propertycountylandusecode', u'propertyzoningdesc',\n",
    "       u'taxrate', u'roomcntdiff', u'transactioncnt', u'distanceavg',\n",
    "       u'distanceavgmi'],\n",
    "      dtype='object'))\n",
    "Tree params: \n",
    "('   max_depth ', 200)\n",
    "('   min_samples_split ', 5000)\n",
    "('   min_samples_leaf ', 1000)\n",
    "('Result: ', 0.06390647272727272)\n",
    "\n",
    "[('calculatedfinishedsquarefeet', 1658.5, array([[ 0.005]]), 10997, 1, 6),\n",
    " ('taxrate', 0.016156036406755447, array([[ 0.002]]), 6271, 2, 5),\n",
    " ('taxrate', 0.01291256956756115, array([[ 0.003]]), 5226, 3, 4),\n",
    " ('distanceavg', -2.0, array([[ 0.002]]), 3413, -1, -1),\n",
    " ('distanceavg', -2.0, array([[ 0.005]]), 1813, -1, -1),\n",
    " ('distanceavg', -2.0, array([[-0.006]]), 1045, -1, -1),\n",
    " ('distanceavg', -2.0, array([[ 0.01]]), 4726, -1, -1)]\n",
    " \n",
    " ---------------------\n",
    "\n",
    "('Features: ', Index([u'bathroomcnt', u'buildingqualitytypeid', u'calculatedbathnbr',\n",
    "       u'calculatedfinishedsquarefeet', u'latitude', u'longitude',\n",
    "       u'pooltypeid2', u'pooltypeid7', u'propertycountylandusecode',\n",
    "       u'propertylandusetypeid', u'propertyzoningdesc', u'taxdelinquencyflag',\n",
    "       u'taxrate', u'roomcntdiff'],\n",
    "      dtype='object'))\n",
    "Tree params: \n",
    "('   max_depth ', 200)\n",
    "('   min_samples_split ', 5000)\n",
    "('   min_samples_leaf ', 1000)\n",
    "('Result: ', 0.062007585825027689)\n",
    "\n",
    "Results:\n",
    "('Features: ', Index([u'bathroomcnt', u'buildingqualitytypeid', u'calculatedbathnbr',\n",
    "       u'calculatedfinishedsquarefeet', u'latitude', u'longitude',\n",
    "       u'pooltypeid2', u'pooltypeid7', u'propertycountylandusecode',\n",
    "       u'propertylandusetypeid', u'propertyzoningdesc', u'taxdelinquencyflag',\n",
    "       u'taxrate', u'roomcntdiff', u'finishedtolotsizeratio'],\n",
    "      dtype='object'))\n",
    "Tree params: \n",
    "('   max_depth ', 200)\n",
    "('   min_samples_split ', 5000)\n",
    "('   min_samples_leaf ', 100)\n",
    "('Result: ', 0.063681838316722042)\n",
    "\n",
    "Results:\n",
    "('Features: ', Index([u'bathroomcnt', u'buildingqualitytypeid', u'calculatedbathnbr',\n",
    "       u'calculatedfinishedsquarefeet', u'garagetotalsqft', u'latitude',\n",
    "       u'longitude', u'pooltypeid2', u'pooltypeid7',\n",
    "       u'propertycountylandusecode', u'propertylandusetypeid',\n",
    "       u'propertyzoningdesc', u'taxdelinquencyflag', u'taxrate',\n",
    "       u'roomcntdiff'],\n",
    "      dtype='object'))\n",
    "Tree params: \n",
    "('   max_depth ', 200)\n",
    "('   min_samples_split ', 500)\n",
    "('   min_samples_leaf ', 5)\n",
    "('Result: ', 0.064791029900332225)\n",
    "\n",
    "\n",
    "('Features: ', Index([u'bathroomcnt', u'buildingqualitytypeid', u'calculatedbathnbr',\n",
    "       u'calculatedfinishedsquarefeet', u'garagetotalsqft', u'latitude',\n",
    "       u'longitude', u'pooltypeid2', u'pooltypeid7',\n",
    "       u'propertycountylandusecode', u'propertylandusetypeid',\n",
    "       u'propertyzoningdesc', u'taxdelinquencyflag', u'taxrate',\n",
    "       u'roomcntdiff'],\n",
    "      dtype='object'))\n",
    "Tree params: \n",
    "('   max_depth ', 200)\n",
    "('   min_samples_split ', 500)\n",
    "('   min_samples_leaf ', 5)\n",
    "('Result: ', 0.068285991140642308)"
   ]
  },
  {
   "cell_type": "raw",
   "metadata": {},
   "source": [
    "Features: calculatedfinishedsquarefeet\n",
    "Tree params:\n",
    "    max_depth: 200\n",
    "    min_samples_split: 500\n",
    "    min_samples_leaf: 5\n",
    "Result: ('MAE: ', 0.067769827204253438)\n",
    "\n",
    "('Features: ', Index([u'bathroomcnt', u'bedroomcnt', u'calculatedfinishedsquarefeet',\n",
    "       u'roomcnt', u'taxrate'],\n",
    "      dtype='object'))\n",
    "Tree params: \n",
    "('   max_depth ', 200)\n",
    "('   min_samples_split ', 500)\n",
    "('   max_samples_leaf ', 5)\n",
    "('Result: ', 0.068984714222419155)\n",
    "\n",
    "*********************\n",
    "* WINNER\n",
    "*********************\n",
    "('Features: ', Index([u'calculatedfinishedsquarefeet', u'taxrate'], dtype='object'))\n",
    "Tree params: \n",
    "('   max_depth ', 200)\n",
    "('   min_samples_split ', 500)\n",
    "('   max_samples_leaf ', 5)\n",
    "('Result: ', 0.06646845923792645)\n",
    "\n",
    "('Features: ', Index([u'calculatedfinishedsquarefeet', u'taxrate'], dtype='object'))\n",
    "Tree params: \n",
    "('   max_depth ', 200)\n",
    "('   min_samples_split ', 500)\n",
    "('   min_samples_leaf ', 5)\n",
    "('Result: ', 0.070746339167035904)\n",
    "\n",
    "('Features: ', Index([u'calculatedfinishedsquarefeet', u'taxrate', u'roomcnt_offby'], dtype='object'))\n",
    "Tree params: \n",
    "('   max_depth ', 200)\n",
    "('   min_samples_split ', 500)\n",
    "('   max_samples_leaf ', 5)\n",
    "('Result: ', 0.068475326761187422)\n",
    "\n",
    "('Features: ', Index([u'calculatedfinishedsquarefeet', u'roomcnt', u'taxrate',\n",
    "       u'roomcnt_offby'],\n",
    "      dtype='object'))\n",
    "Tree params: \n",
    "('   max_depth ', 200)\n",
    "('   min_samples_split ', 500)\n",
    "('   max_samples_leaf ', 5)\n",
    "('Result: ', 0.06741981058927779)\n",
    "\n",
    "('Features: ', Index([u'calculatedfinishedsquarefeet', u'roomcnt', u'taxrate'], dtype='object'))\n",
    "Tree params: \n",
    "('   max_depth ', 200)\n",
    "('   min_samples_split ', 500)\n",
    "('   max_samples_leaf ', 5)\n",
    "('Result: ', 0.067915003322995146)\n",
    "\n",
    "('Features: ', Index([u'calculatedfinishedsquarefeet', u'roomcnt', u'taxrate',\n",
    "       u'logerroravg - zip'],\n",
    "      dtype='object'))\n",
    "Tree params: \n",
    "('   max_depth ', 200)\n",
    "('   min_samples_split ', 500)\n",
    "('   max_samples_leaf ', 5)\n",
    "('Result: ', 0.069011060035445271)\n",
    "\n",
    "('Features: ', Index([u'calculatedfinishedsquarefeet', u'roomcnt', u'taxrate',\n",
    "       u'logerroravg - neighborhood'],\n",
    "      dtype='object'))\n",
    "Tree params: \n",
    "('   max_depth ', 200)\n",
    "('   min_samples_split ', 500)\n",
    "('   max_samples_leaf ', 5)\n",
    "('Result: ', 0.068019217988480277)\n",
    "\n",
    "('Features: ', Index([u'calculatedfinishedsquarefeet', u'taxrate'], dtype='object'))\n",
    "Tree params: \n",
    "('   max_depth ', 200)\n",
    "('   min_samples_split ', 1000)\n",
    "('   max_samples_leaf ', 100)\n",
    "('Result: ', 0.067869511519716444)\n",
    "\n",
    "\n",
    "('Features: ', Index([u'calculatedfinishedsquarefeet', u'propertycountylandusecode', u'taxrate'],\n",
    "      dtype='object'))\n",
    "Tree params: \n",
    "('   max_depth ', 100)\n",
    "('   min_samples_split ', 1000)\n",
    "('   max_samples_leaf ', 100)\n",
    "('Result: ', 0.068272928666371302)\n",
    "\n",
    "('Features: ', Index([u'calculatedfinishedsquarefeet', u'propertycountylandusecode',u'taxdelinquencyflag', u'taxrate'],\n",
    "      dtype='object'))\n",
    "Tree params: \n",
    "('   max_depth ', 100)\n",
    "('   min_samples_split ', 1000)\n",
    "('   max_samples_leaf ', 100)\n",
    "('Result: ', 0.070624357554275596)\n",
    "\n",
    "('Features: ', Index([u'calculatedfinishedsquarefeet', u'propertycountylandusecode',\n",
    "       u'propertyzoningdesc', u'taxrate'],\n",
    "      dtype='object'))\n",
    "Tree params: \n",
    "('   max_depth ', 100)\n",
    "('   min_samples_split ', 1000)\n",
    "('   min_samples_leaf ', 100)\n",
    "('Result: ', 0.067999617855560482)\n",
    "\n",
    "('Features: ', Index([u'calculatedfinishedsquarefeet', u'propertycountylandusecode',\n",
    "       u'propertyzoningdesc', u'taxrate'],\n",
    "      dtype='object'))\n",
    "Tree params: \n",
    "('   max_depth ', 200)\n",
    "('   min_samples_split ', 1000)\n",
    "('   min_samples_leaf ', 100)\n",
    "('Result: ', 0.067998366194062909)\n",
    "\n",
    "('Features: ', Index([u'calculatedfinishedsquarefeet', u'propertycountylandusecode',\n",
    "       u'propertyzoningdesc', u'taxrate'],\n",
    "      dtype='object'))\n",
    "Tree params: \n",
    "('   max_depth ', 200)\n",
    "('   min_samples_split ', 1000)\n",
    "('   min_samples_leaf ', 100)\n",
    "('Result: ', 0.067998366194062909)"
   ]
  },
  {
   "cell_type": "raw",
   "metadata": {
    "collapsed": false
   },
   "source": [
    "Z = Y_test\n",
    "Z = Z.join(properties) \n",
    "\n",
    "Z['logerror_p'] = Y_predict\n",
    "Z['diff'] = Z['logerror'] - Z['logerror_p']\n",
    "Z['absdiff'] = abs(Z['logerror'] - Z['logerror_p'])\n",
    "\n",
    "columns = list(features_to_keep) + ['logerror', 'logerror_p', 'diff', 'absdiff']\n",
    "Z[columns].nlargest(10, columns='absdiff')\n",
    "#Z.nlargest(10, columns='absdiff')"
   ]
  },
  {
   "cell_type": "markdown",
   "metadata": {},
   "source": [
    "## Model Execution"
   ]
  },
  {
   "cell_type": "code",
   "execution_count": null,
   "metadata": {
    "collapsed": true
   },
   "outputs": [],
   "source": [
    "sample_submission_f = '/Users/Jose/Desktop/Zillow/sample_submission.csv'\n",
    "submission = pd.read_csv(sample_submission_f, index_col='ParcelId')"
   ]
  },
  {
   "cell_type": "code",
   "execution_count": null,
   "metadata": {
    "collapsed": true
   },
   "outputs": [],
   "source": [
    "#  ATTEMPT 2 - \n",
    "logerroravg = train['logerror'].mean()\n",
    "print(\"Using logerroravg = \", logerroravg)"
   ]
  },
  {
   "cell_type": "code",
   "execution_count": null,
   "metadata": {
    "collapsed": false
   },
   "outputs": [],
   "source": [
    "X_all = properties"
   ]
  },
  {
   "cell_type": "code",
   "execution_count": null,
   "metadata": {
    "collapsed": false
   },
   "outputs": [],
   "source": [
    "# Prediction transaction date\n",
    "def add_transactiondate(df):\n",
    "    df['transactiondate'] = pd.datetime(2016,10,1)\n",
    "    df['transactiondate'] = df['transactiondate'].astype(int)\n",
    "\n",
    "add_transactiondate(X_all)"
   ]
  },
  {
   "cell_type": "code",
   "execution_count": null,
   "metadata": {
    "collapsed": true
   },
   "outputs": [],
   "source": [
    "# Add features\n"
   ]
  },
  {
   "cell_type": "code",
   "execution_count": null,
   "metadata": {
    "collapsed": false
   },
   "outputs": [],
   "source": [
    "for column in X_all.columns:\n",
    "    if column not in features_to_keep:\n",
    "        X_all = X_all.drop(column, axis=1)"
   ]
  },
  {
   "cell_type": "code",
   "execution_count": null,
   "metadata": {
    "collapsed": true
   },
   "outputs": [],
   "source": [
    "#  Check for missing data\n",
    "print(\"Missing: \",X_test.columns.difference( X_all.columns))"
   ]
  },
  {
   "cell_type": "code",
   "execution_count": null,
   "metadata": {
    "collapsed": true
   },
   "outputs": [],
   "source": [
    "Y_all = model.predict(X_all)"
   ]
  },
  {
   "cell_type": "code",
   "execution_count": null,
   "metadata": {
    "collapsed": true
   },
   "outputs": [],
   "source": [
    "results = pd.DataFrame(index=X_all.index)\n",
    "results.index.names = ['ParcelId']\n",
    "results['201610'] = Y_all\n",
    "results['201611'] = Y_all\n",
    "results['201612'] = Y_all\n",
    "results['201710'] = Y_all\n",
    "results['201711'] = Y_all\n",
    "results['201712'] = Y_all"
   ]
  },
  {
   "cell_type": "code",
   "execution_count": null,
   "metadata": {
    "collapsed": true
   },
   "outputs": [],
   "source": [
    "submission = submission.drop(submission.columns[0:], axis=1)\n",
    "submission = submission.join(results)\n",
    "\n",
    "# Use average for properties with missing data\n",
    "submission.fillna(logerroravg, inplace=True)       \n",
    "submission.columns"
   ]
  },
  {
   "cell_type": "code",
   "execution_count": null,
   "metadata": {
    "collapsed": true
   },
   "outputs": [],
   "source": [
    "# Round as per rules\n",
    "submission = submission.round(4)"
   ]
  },
  {
   "cell_type": "markdown",
   "metadata": {},
   "source": [
    "## Sanity Checks"
   ]
  },
  {
   "cell_type": "code",
   "execution_count": null,
   "metadata": {
    "collapsed": true
   },
   "outputs": [],
   "source": [
    "# Average log error\n",
    "submission.describe().round(4)"
   ]
  },
  {
   "cell_type": "code",
   "execution_count": null,
   "metadata": {
    "collapsed": true
   },
   "outputs": [],
   "source": [
    "# Check for NaN\n",
    "submission.isnull().sum()"
   ]
  },
  {
   "cell_type": "code",
   "execution_count": null,
   "metadata": {
    "collapsed": true
   },
   "outputs": [],
   "source": [
    "# Check if any duplicates\n",
    "submission[submission.index.duplicated(keep=False)]"
   ]
  },
  {
   "cell_type": "code",
   "execution_count": null,
   "metadata": {
    "collapsed": true
   },
   "outputs": [],
   "source": [
    "# Check additional values in submission file\n",
    "submission[~submission.index.isin(properties.index)]"
   ]
  },
  {
   "cell_type": "code",
   "execution_count": null,
   "metadata": {
    "collapsed": true
   },
   "outputs": [],
   "source": [
    "# Check additional values in properties file\n",
    "properties[~properties.index.isin(submission.index)]"
   ]
  },
  {
   "cell_type": "markdown",
   "metadata": {},
   "source": [
    "## Dump File"
   ]
  },
  {
   "cell_type": "code",
   "execution_count": null,
   "metadata": {
    "collapsed": true
   },
   "outputs": [],
   "source": [
    "# Write file\n",
    "submission_f = '/Users/Jose/Desktop/Zillow/submission.csv'\n",
    "submission_fh = open(submission_f, 'wb')\n",
    "submission.to_csv(submission_fh, sep=',', header='true')\n",
    "submission_fh.close()"
   ]
  },
  {
   "cell_type": "markdown",
   "metadata": {},
   "source": [
    "## Historical Records"
   ]
  },
  {
   "cell_type": "raw",
   "metadata": {
    "collapsed": false
   },
   "source": [
    "RECORDS\n",
    "-------------------------------\n",
    "#  ATTEMPT 1 - 0.0651274\n",
    "#submission['201610']=0.0114\n",
    "#submission['201611']=0.0114\n",
    "#submission['201612']=0.0114\n",
    "#submission['201710']=0.0114\n",
    "#submission['201711']=0.0114\n",
    "#submission['201712']=0.0114\n",
    "\n",
    "# ATTEMPT 2 - 0.0661850\n",
    "('MAE: ', 0.0668810274162282)\n",
    " 'latitude',\t#  Latitude of the middle of the parcel multiplied by 10e6\n",
    " 'longitude',\t#  Longitude of the middle of the parcel multiplied by 10e6\n",
    " 'landtaxvaluedollarcnt',\t# The assessed value of the land area of the parcel\n",
    " 'taxamount'\n",
    "max_depth=30, \n",
    "min_samples_split = 100,\n",
    "min_samples_leaf = 80,\n",
    "criterion = \"mae\")\n",
    "\n",
    "# ATTEMPT 3 - \n",
    "Tree details\n",
    "[('finishedsquarefeet50_t', 0.013822920620441437, 1, 8),\n",
    " ('regionidcounty', -0.0011029399465769529, 2, 3),\n",
    " ('finishedsquarefeet6_t', -2.0, -1, -1),\n",
    " ('regionidzip_avg', 0.0082535082474350929, 4, 7),\n",
    " ('latitude', 0.0038456977345049381, 5, 6),\n",
    " ('finishedsquarefeet6_t', -2.0, -1, -1),\n",
    " ('finishedsquarefeet6_t', -2.0, -1, -1),\n",
    " ('finishedsquarefeet6_t', -2.0, -1, -1),\n",
    " ('longitude', 0.027296457439661026, 9, 12),\n",
    " ('latitude', 0.019690167158842087, 10, 11),\n",
    " ('finishedsquarefeet6_t', -2.0, -1, -1),\n",
    " ('finishedsquarefeet6_t', -2.0, -1, -1),\n",
    " ('finishedsquarefeet6_t', -2.0, -1, -1)]\n",
    " \n"
   ]
  },
  {
   "cell_type": "markdown",
   "metadata": {},
   "source": [
    "## Resources"
   ]
  },
  {
   "cell_type": "raw",
   "metadata": {},
   "source": [
    "train.groupby('distanceavgmilog')['logerror'].mean()\n",
    "    #[train['roomcnt']>-1]"
   ]
  },
  {
   "cell_type": "raw",
   "metadata": {},
   "source": [
    "#################\n",
    "#  finishedtolotsizeratio\n",
    "#################\n",
    "\n",
    "def add_finishedtolotsizeratio(df):\n",
    "    train['finishedtolotsizeratio'] = np.divide(train['calculatedfinishedsquarefeet'],\n",
    "                                                train['lotsizesquarefeet'])\n",
    "\n",
    "features_created.add('finishedtolotsizeratio')\n",
    "add_finishedtolotsizeratio(train)"
   ]
  },
  {
   "cell_type": "raw",
   "metadata": {},
   "source": [
    "#################\n",
    "#  calculatedfinishedsquarefeetdiff\n",
    "#################\n",
    "def add_calculatedfinishedsquarefeetdiff(df):\n",
    "    train['calculatedfinishedsquarefeetdiff'] = np.where((train['finishedsquarefeet15'].isnull()) &\n",
    "                                                        (~train['finishedsquarefeet12'].isnull()) &\n",
    "                                                        (~train['garagetotalsqft'].isnull()) , \n",
    "                                                np.negative(train['garagetotalsqft']), 0 )\n",
    "    \n",
    "features_created.add('calculatedfinishedsquarefeetdiff')\n",
    "add_calculatedfinishedsquarefeetdiff(train)"
   ]
  },
  {
   "cell_type": "raw",
   "metadata": {},
   "source": [
    "#################\n",
    "#  logerroravg\n",
    "#################\n",
    "def add_logerroravg(df):\n",
    "    df=df.join(df.groupby(['regionidcounty'])['logerror'].mean(),\n",
    "                 on='regionidzip', \n",
    "                 rsuffix='avg')\n",
    "    return df\n",
    "\n",
    "features_created.add('logerroravg')\n",
    "train = add_logerroravg(train)"
   ]
  },
  {
   "cell_type": "raw",
   "metadata": {
    "collapsed": false
   },
   "source": [
    "#################\n",
    "#  regionidzip_avg\n",
    "#################\n",
    "\n",
    "def add_logerror_byregionidzip(df, cache):\n",
    "    df = df.join(cache,on='regionidzip', rsuffix='_byregionidzip')\n",
    "\n",
    "# create during execution\n",
    "features_created.add('regionidzip_avg')\n",
    "features_created.add('regionidzip')"
   ]
  },
  {
   "cell_type": "raw",
   "metadata": {
    "collapsed": true
   },
   "source": [
    "#################\n",
    "#  finishedsquarefeet[n]_t\n",
    "#################\n",
    "\n",
    "def add_finishedsquarefeet(df, feature):\n",
    "    n = 100\n",
    "    df[feature+'_t'] = np.floor(np.divide(df[feature], n))\n",
    "    df[feature] = df[feature].fillna(-1)\n",
    "    df[feature+'_t'] = df[feature+'_t'].fillna(-1)\n",
    "    \n",
    "def add_finishedsquarefeet12_t(df):\n",
    "    add_finishedsquarefeet(df, 'finishedsquarefeet12')\n",
    "def add_finishedsquarefeet13_t(df):\n",
    "    add_finishedsquarefeet(df, 'finishedsquarefeet13')\n",
    "def add_finishedsquarefeet15_t(df):\n",
    "    add_finishedsquarefeet(df, 'finishedsquarefeet15')    \n",
    "def add_finishedsquarefeet50_t(df):\n",
    "    add_finishedsquarefeet(df, 'finishedsquarefeet50')\n",
    "def add_finishedsquarefeet6_t(df):\n",
    "    add_finishedsquarefeet(df, 'finishedsquarefeet6')\n",
    "\n",
    "features_created.add('finishedsquarefeet12_t')\n",
    "features_created.add('finishedsquarefeet13_t')\n",
    "features_created.add('finishedsquarefeet15_t')\n",
    "features_created.add('finishedsquarefeet50_t')\n",
    "features_created.add('finishedsquarefeet6_t')\n",
    "\n",
    "#Needed for future calculations, so keeping for now\n",
    "features_created.add('finishedsquarefeet12')\n",
    "features_created.add('finishedsquarefeet13')\n",
    "features_created.add('finishedsquarefeet15')\n",
    "features_created.add('finishedsquarefeet50')\n",
    "features_created.add('finishedsquarefeet6')"
   ]
  },
  {
   "cell_type": "raw",
   "metadata": {},
   "source": [
    "# propertylandusetypeid\n",
    "columns = set(train.columns.values)\n",
    "train = pd.get_dummies(train, columns=['architecturalstyletypeid'], dummy_na=True)\n",
    "columnsnew = set(train.columns.values)\n",
    "features_created = features_created.union(columnsnew - columns) \n",
    "print(\"Total features: \", len(features_created))"
   ]
  },
  {
   "cell_type": "raw",
   "metadata": {},
   "source": [
    "# architecturalstyletypeid\n",
    "columns = set(train.columns.values)\n",
    "train = pd.get_dummies(train, columns=['architecturalstyletypeid'], dummy_na=True)\n",
    "columnsnew = set(train.columns.values)\n",
    "features_created = features_created.union(columnsnew - columns) \n",
    "print(\"Total features: \", len(features_created))"
   ]
  },
  {
   "cell_type": "markdown",
   "metadata": {},
   "source": [
    "Conclusions:\n",
    "   * Average logerror = 0.011457219606756575\n",
    "   * In general, data usually underestimates, with the etrainception of fewer high overestimates.\n",
    "   * totalroomcnt:  ==0 is a mitrained bag.  != zero is overestimating"
   ]
  },
  {
   "cell_type": "raw",
   "metadata": {
    "collapsed": false
   },
   "source": [
    "# Remove outliers\n",
    "m = ((Y.logerror - train.logerror.mean()) / Y.logerror.std()).abs() < 3\n",
    "Y_train=Y_train[m]\n",
    "X_train=X_train[m]"
   ]
  },
  {
   "cell_type": "code",
   "execution_count": null,
   "metadata": {
    "collapsed": false
   },
   "outputs": [],
   "source": [
    "# bedroomcnt\n",
    "#plt.trainlabel('bedroomcnt')\n",
    "#plt.ylabel('logerror')\n",
    "#plt.scatter(train['bathroomcnt'], train['logerror'], \n",
    "#           alpha=1, s=2, color='r')\n",
    "#plt.atrainis([0, 10,-5, 5])\n",
    "#plt.show()\n",
    "\n",
    "#date\n",
    "#plt.trainlabel('transactiondate')\n",
    "#plt.ylabel('logerror')\n",
    "#plt.scatter(train['bedroomcnt'], train['logerror'], alpha=1, s=2, color='r')\n",
    "#plt.atrainis(['2016-01-01', '2017-01-01',-5, 5])\n",
    "#plt.gcf().autofmt_traindate()\n",
    "#plt.show()\n",
    "\n",
    "#import matplotlib as mpl\n",
    "#plt.trainlabel('longitude')\n",
    "#plt.ylabel('latitude')\n",
    "#plt.scatter(train['longitude'], train['latitude'], c=train['logerror'], s=20, lw=0, cmap='seismic')\n",
    "#plt.atrainis([min(train['longitude']), matrain(train['longitude']),min(train['latitude']), matrain(train['latitude'])])\n",
    "#plt.colorbar()\n",
    "#plt.show()\n",
    "\n",
    "#train2 = train.query('logerror < -2.')\n",
    "\n",
    "#train2 = train.query('roomcnt == 0 ')\n",
    "\n",
    "#train2 = train.query('bedroomcnt > 2')\n",
    "\n",
    "#train2 = train.sample(frac=.10)\n",
    "\n",
    "#plt.trainlabel('longitude')\n",
    "#plt.ylabel('latitude')\n",
    "#plt.scatter(train2['longitude'], train2['latitude'], c=train2['logerror'], s=20, lw=0, cmap='seismic')\n",
    "#plt.colorbar()\n",
    "#plt.show()"
   ]
  }
 ],
 "metadata": {
  "kernelspec": {
   "display_name": "Python [Root]",
   "language": "python",
   "name": "Python [Root]"
  },
  "language_info": {
   "codemirror_mode": {
    "name": "ipython",
    "version": 2
   },
   "file_extension": ".py",
   "mimetype": "text/x-python",
   "name": "python",
   "nbconvert_exporter": "python",
   "pygments_lexer": "ipython2",
   "version": "2.7.12"
  }
 },
 "nbformat": 4,
 "nbformat_minor": 0
}
