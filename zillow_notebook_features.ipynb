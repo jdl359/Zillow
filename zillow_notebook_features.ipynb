{
 "cells": [
  {
   "cell_type": "code",
   "execution_count": 3,
   "metadata": {
    "collapsed": false
   },
   "outputs": [],
   "source": [
    "r =[(0.1475, 'calculatedfinishedsquarefeet'),\n",
    " (0.1095, 'yearbuilt'),\n",
    " (0.1092, 'finishedsquarefeet12'),\n",
    " (0.0897, 'taxrate'),\n",
    " (0.0761, 'structuretaxvaluedollarcnt'),\n",
    " (0.0575, 'taxamount'),\n",
    " (0.0532, 'latitude'),\n",
    " (0.0505, 'longitude'),\n",
    " (0.0464, 'lotsizesquarefeet'),\n",
    " (0.0355, 'taxvaluedollarcnt'),\n",
    " (0.0338, 'transactioncnt3'),\n",
    " (0.0332, 'regionidzip'),\n",
    " (0.0277, 'regionidneighborhood'),\n",
    " (0.0262, 'landtaxvaluedollarcnt'),\n",
    " (0.0195, 'transactioncnt4'),\n",
    " (0.0111, 'propertyzoningdesc'),\n",
    " (0.0095, 'transactioncnt5'),\n",
    " (0.009, 'rawcensustractandblock'),\n",
    " (0.0088, 'poolcnt'),\n",
    " (0.0081, 'propertycountylandusecode'),\n",
    " (0.0075, 'censustractandblock'),\n",
    " (0.0061, 'regionidcity'),\n",
    " (0.0044, 'buildingqualitytypeid'),\n",
    " (0.0041, 'bedroomcnt'),\n",
    " (0.0038, 'garagetotalsqft'),\n",
    " (0.003, 'calculatedbathnbr'),\n",
    " (0.0021, 'finishedfloor1squarefeet'),\n",
    " (0.0016, 'heatingorsystemtypeid'),\n",
    " (0.0015, 'fullbathcnt'),\n",
    " (0.0011, 'propertylandusetypeid'),\n",
    " (0.001, 'garagecarcnt'),\n",
    " (0.0008, 'finishedsquarefeet50'),\n",
    " (0.0007, 'threequarterbathnbr')]"
   ]
  },
  {
   "cell_type": "code",
   "execution_count": 47,
   "metadata": {
    "collapsed": false
   },
   "outputs": [
    {
     "data": {
      "text/plain": [
       "['bedroomcnt',\n",
       " 'buildingqualitytypeid',\n",
       " 'calculatedbathnbr',\n",
       " 'calculatedfinishedsquarefeet',\n",
       " 'censustractandblock',\n",
       " 'finishedfloor1squarefeet',\n",
       " 'finishedsquarefeet12',\n",
       " 'finishedsquarefeet50',\n",
       " 'fullbathcnt',\n",
       " 'garagecarcnt',\n",
       " 'garagetotalsqft',\n",
       " 'heatingorsystemtypeid',\n",
       " 'landtaxvaluedollarcnt',\n",
       " 'latitude',\n",
       " 'longitude',\n",
       " 'lotsizesquarefeet',\n",
       " 'poolcnt',\n",
       " 'propertycountylandusecode',\n",
       " 'propertylandusetypeid',\n",
       " 'propertyzoningdesc',\n",
       " 'rawcensustractandblock',\n",
       " 'regionidcity',\n",
       " 'regionidneighborhood',\n",
       " 'regionidzip',\n",
       " 'structuretaxvaluedollarcnt',\n",
       " 'taxamount',\n",
       " 'taxrate',\n",
       " 'taxvaluedollarcnt',\n",
       " 'threequarterbathnbr',\n",
       " 'transactioncnt3',\n",
       " 'transactioncnt4',\n",
       " 'transactioncnt5',\n",
       " 'yearbuilt']"
      ]
     },
     "execution_count": 47,
     "metadata": {},
     "output_type": "execute_result"
    }
   ],
   "source": [
    "sorted([row[1] for row in r])"
   ]
  },
  {
   "cell_type": "code",
   "execution_count": null,
   "metadata": {
    "collapsed": true
   },
   "outputs": [],
   "source": [
    "# WINNER\n",
    "features_to_keep = set([\n",
    "        'logerror',\n",
    "        u'bathroomcnt', u'buildingqualitytypeid', \n",
    "        u'calculatedbathnbr',\n",
    "       u'calculatedfinishedsquarefeet', u'latitude',\n",
    "        u'longitude',\n",
    "       u'pooltypeid2', \n",
    "        u'pooltypeid7', \n",
    "        u'propertycountylandusecode',\n",
    "       u'propertylandusetypeid', \n",
    "        u'propertyzoningdesc', \n",
    "        u'taxdelinquencyflag',\n",
    "       u'taxrate', u'roomcntdiff'\n",
    "    ])"
   ]
  },
  {
   "cell_type": "code",
   "execution_count": null,
   "metadata": {
    "collapsed": true
   },
   "outputs": [],
   "source": [
    "# WINNER SECOND\n",
    "features_to_keep = set([\n",
    "        'logerror',\n",
    "        'taxrate', \n",
    "        'calculatedfinishedsquarefeet', \n",
    "        'taxamount',\n",
    "       'finishedsquarefeet12', \n",
    "        'yearbuilt', 'latitude',\n",
    "       'taxvaluedollarcnt', 'landtaxvaluedollarcnt',\n",
    "       'regionidneighborhood', 'censustractandblock',\n",
    "       'rawcensustractandblock', 'regionidzip', 'yearbuilt',\n",
    "       'regionidcity', 'structuretaxvaluedollarcnt', \n",
    "        'poolcnt_isnull',\n",
    "       'longitude', 'lotsizesquarefeet','distanceavg'\n",
    "        ])"
   ]
  },
  {
   "cell_type": "code",
   "execution_count": 46,
   "metadata": {
    "collapsed": true
   },
   "outputs": [],
   "source": [
    "# WINNER THIRD (FOREST)\n",
    "features_to_keep = set([\n",
    " 'bedroomcnt',\n",
    " 'buildingqualitytypeid',\n",
    " 'calculatedbathnbr',\n",
    " 'calculatedfinishedsquarefeet',\n",
    " 'censustractandblock',\n",
    " 'finishedfloor1squarefeet',\n",
    " 'finishedsquarefeet12',\n",
    " 'finishedsquarefeet50',\n",
    " 'fullbathcnt',\n",
    " 'garagecarcnt',\n",
    " 'garagetotalsqft',\n",
    " 'heatingorsystemtypeid',\n",
    " 'landtaxvaluedollarcnt',\n",
    " 'latitude',\n",
    " 'longitude',\n",
    " 'lotsizesquarefeet',\n",
    " 'poolcnt',\n",
    " 'propertycountylandusecode',\n",
    " 'propertylandusetypeid',\n",
    " 'propertyzoningdesc',\n",
    " 'rawcensustractandblock',\n",
    " 'regionidcity',\n",
    " 'regionidneighborhood',\n",
    " 'regionidzip',\n",
    " 'structuretaxvaluedollarcnt',\n",
    " 'taxamount',\n",
    " 'taxrate',\n",
    " 'taxvaluedollarcnt',\n",
    " 'threequarterbathnbr',\n",
    " 'transactioncnt3',\n",
    " 'transactioncnt4',\n",
    " 'transactioncnt5',\n",
    " 'yearbuilt'\n",
    "        ])"
   ]
  }
 ],
 "metadata": {
  "kernelspec": {
   "display_name": "Python [Root]",
   "language": "python",
   "name": "Python [Root]"
  },
  "language_info": {
   "codemirror_mode": {
    "name": "ipython",
    "version": 2
   },
   "file_extension": ".py",
   "mimetype": "text/x-python",
   "name": "python",
   "nbconvert_exporter": "python",
   "pygments_lexer": "ipython2",
   "version": "2.7.12"
  }
 },
 "nbformat": 4,
 "nbformat_minor": 0
}
