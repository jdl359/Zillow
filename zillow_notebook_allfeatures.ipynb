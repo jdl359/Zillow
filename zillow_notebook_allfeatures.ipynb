{
 "cells": [
  {
   "cell_type": "markdown",
   "metadata": {},
   "source": [
    "# Zillow Challenge"
   ]
  },
  {
   "cell_type": "markdown",
   "metadata": {},
   "source": [
    "##  Data input"
   ]
  },
  {
   "cell_type": "code",
   "execution_count": 39,
   "metadata": {
    "collapsed": true
   },
   "outputs": [],
   "source": [
    "import os\n",
    "import numpy as np\n",
    "import pandas as pd\n",
    "import matplotlib.pyplot as plt\n",
    "\n",
    "from numpy import seterr,isneginf,array\n",
    "from datetime import datetime\n",
    "from pandas import compat\n",
    "from operator import itemgetter\n",
    "from sklearn import tree\n",
    "from sklearn import metrics\n",
    "from sklearn.preprocessing import scale\n",
    "from sklearn.neighbors import KDTree\n",
    "from sklearn.tree import DecisionTreeRegressor\n",
    "from sklearn.tree import DecisionTreeClassifier\n",
    "from sklearn.tree import export_graphviz\n",
    "from sklearn.linear_model import LogisticRegression\n",
    "from sklearn.svm import SVC\n",
    "from sklearn import metrics\n",
    "from sklearn.model_selection import cross_val_score\n",
    "from sklearn.model_selection import train_test_split\n",
    "from sklearn.model_selection import GridSearchCV\n",
    "from sklearn.model_selection import learning_curve\n",
    "from IPython.display import Image\n",
    "%matplotlib inline\n",
    "\n",
    "pd.set_option('display.max_columns', None)\n",
    "pd.set_option('display.max_row', 200)\n",
    "pd.options.display.float_format = '{:20,.2f}'.format\n",
    "compat.PY3 = False\n",
    "\n",
    "def Decision_Tree_Image(decision_tree, feature_names, name=\"temp\"):\n",
    "    \n",
    "    # Etrainport our decision tree to graphviz format\n",
    "    dot_file = tree.export_graphviz(decision_tree, out_file='images/' + name + '.dot', feature_names=feature_names)\n",
    "    \n",
    "    # Call graphviz to make an image file from our decision tree\n",
    "    os.system(\"dot -T png images/\" + name + \".dot -o images/\" + name + \".png\")\n",
    "    \n",
    "    # Return the .png image so we can see it\n",
    "    return Image(filename='images/' + name + '.png')"
   ]
  },
  {
   "cell_type": "code",
   "execution_count": 40,
   "metadata": {
    "collapsed": false
   },
   "outputs": [],
   "source": [
    "train_f = \"train_2016_v2.csv\"\n",
    "train = pd.read_csv(train_f, index_col = 'parcelid', parse_dates=['transactiondate'])\n",
    "train['transactiondate'] = pd.to_datetime(train['transactiondate']).astype(int)\n",
    "\n",
    "properties_f = \"properties_2016.csv\"\n",
    "properties = pd.read_csv(properties_f, index_col = 'parcelid')\n",
    "\n",
    "\n",
    "train = train.join(properties) \n",
    "train_bak = train  # backup "
   ]
  },
  {
   "cell_type": "code",
   "execution_count": 42,
   "metadata": {
    "collapsed": true
   },
   "outputs": [],
   "source": [
    "#### TEST MODE  #####\n",
    "train = train_bak\n",
    "train = train.sample(frac=.01)"
   ]
  },
  {
   "cell_type": "code",
   "execution_count": 44,
   "metadata": {
    "collapsed": false
   },
   "outputs": [],
   "source": [
    "_byzipcache = train.groupby(['regionidzip'])['logerror'].mean()"
   ]
  },
  {
   "cell_type": "code",
   "execution_count": 45,
   "metadata": {
    "collapsed": false
   },
   "outputs": [
    {
     "data": {
      "text/plain": [
       "count                 317.00\n",
       "mean                    0.02\n",
       "std                     0.10\n",
       "min                    -0.38\n",
       "25%                    -0.02\n",
       "50%                     0.01\n",
       "75%                     0.04\n",
       "max                     0.69\n",
       "Name: logerror, dtype: float64"
      ]
     },
     "execution_count": 45,
     "metadata": {},
     "output_type": "execute_result"
    }
   ],
   "source": [
    "_byzipcache.describe()"
   ]
  },
  {
   "cell_type": "markdown",
   "metadata": {},
   "source": [
    "##  Feature Analysis"
   ]
  },
  {
   "cell_type": "code",
   "execution_count": 9,
   "metadata": {
    "collapsed": false
   },
   "outputs": [],
   "source": [
    "# Clean features\n",
    "for col in train:\n",
    "    dt = train[col].dtype\n",
    "    if dt == 'float64':\n",
    "        train[col].fillna(-1, inplace='True')  \n",
    "    elif dt == 'object':\n",
    "        train = train.drop(col, axis = 1)\n",
    "        #train = pd.get_dummies(train,columns=[col], dummy_na=True)"
   ]
  },
  {
   "cell_type": "markdown",
   "metadata": {},
   "source": [
    "##  Feature selection"
   ]
  },
  {
   "cell_type": "code",
   "execution_count": 34,
   "metadata": {
    "collapsed": false
   },
   "outputs": [],
   "source": [
    "Y = train[['logerror']]\n",
    "X = train.drop('logerror', axis=1)"
   ]
  },
  {
   "cell_type": "code",
   "execution_count": 36,
   "metadata": {
    "collapsed": false
   },
   "outputs": [
    {
     "data": {
      "text/plain": [
       "count              90,268.00\n",
       "mean                    0.02\n",
       "std                     0.44\n",
       "min                     0.00\n",
       "25%                     0.01\n",
       "50%                     0.01\n",
       "75%                     0.01\n",
       "max                   109.54\n",
       "Name: taxrate, dtype: float64"
      ]
     },
     "execution_count": 36,
     "metadata": {},
     "output_type": "execute_result"
    }
   ],
   "source": [
    "X.describe()"
   ]
  },
  {
   "cell_type": "code",
   "execution_count": 30,
   "metadata": {
    "collapsed": false
   },
   "outputs": [
    {
     "data": {
      "text/html": [
       "<div>\n",
       "<table border=\"1\" class=\"dataframe\">\n",
       "  <thead>\n",
       "    <tr style=\"text-align: right;\">\n",
       "      <th></th>\n",
       "      <th>logerror</th>\n",
       "    </tr>\n",
       "  </thead>\n",
       "  <tbody>\n",
       "    <tr>\n",
       "      <th>count</th>\n",
       "      <td>90,275.00</td>\n",
       "    </tr>\n",
       "    <tr>\n",
       "      <th>mean</th>\n",
       "      <td>0.01</td>\n",
       "    </tr>\n",
       "    <tr>\n",
       "      <th>std</th>\n",
       "      <td>0.16</td>\n",
       "    </tr>\n",
       "    <tr>\n",
       "      <th>min</th>\n",
       "      <td>-4.61</td>\n",
       "    </tr>\n",
       "    <tr>\n",
       "      <th>25%</th>\n",
       "      <td>-0.03</td>\n",
       "    </tr>\n",
       "    <tr>\n",
       "      <th>50%</th>\n",
       "      <td>0.01</td>\n",
       "    </tr>\n",
       "    <tr>\n",
       "      <th>75%</th>\n",
       "      <td>0.04</td>\n",
       "    </tr>\n",
       "    <tr>\n",
       "      <th>max</th>\n",
       "      <td>4.74</td>\n",
       "    </tr>\n",
       "  </tbody>\n",
       "</table>\n",
       "</div>"
      ],
      "text/plain": [
       "                  logerror\n",
       "count            90,275.00\n",
       "mean                  0.01\n",
       "std                   0.16\n",
       "min                  -4.61\n",
       "25%                  -0.03\n",
       "50%                   0.01\n",
       "75%                   0.04\n",
       "max                   4.74"
      ]
     },
     "execution_count": 30,
     "metadata": {},
     "output_type": "execute_result"
    }
   ],
   "source": [
    "Y.describe()"
   ]
  },
  {
   "cell_type": "markdown",
   "metadata": {},
   "source": [
    "## Modeling"
   ]
  },
  {
   "cell_type": "code",
   "execution_count": 26,
   "metadata": {
    "collapsed": false
   },
   "outputs": [],
   "source": [
    "X_train, X_test, Y_train, Y_test = train_test_split(X, Y, train_size=.2)"
   ]
  },
  {
   "cell_type": "code",
   "execution_count": 27,
   "metadata": {
    "collapsed": false
   },
   "outputs": [
    {
     "name": "stdout",
     "output_type": "stream",
     "text": [
      "('min_samples_split =', 361)\n",
      "('min_samples_split =', 902)\n"
     ]
    },
    {
     "data": {
      "text/plain": [
       "DecisionTreeRegressor(criterion='mae', max_depth=None, max_features=None,\n",
       "           max_leaf_nodes=None, min_impurity_decrease=0.0,\n",
       "           min_impurity_split=None, min_samples_leaf=1,\n",
       "           min_samples_split=361, min_weight_fraction_leaf=0.0,\n",
       "           presort=False, random_state=None, splitter='best')"
      ]
     },
     "execution_count": 27,
     "metadata": {},
     "output_type": "execute_result"
    }
   ],
   "source": [
    "# Fit regression model\n",
    "max_depth = None\n",
    "min_samples_split = int(round(len(X_train)/50, 0))\n",
    "min_samples_leaf = int(round(len(X_train)/20, 0))\n",
    "print(\"min_samples_split =\", min_samples_split)\n",
    "print(\"min_samples_split =\", min_samples_leaf)\n",
    "\n",
    "model = DecisionTreeRegressor(#max_depth=max_depth, \n",
    "                              min_samples_split = min_samples_split,\n",
    "                              #min_samples_leaf = min_samples_leaf,\n",
    "                              criterion = \"mae\")\n",
    "model.fit(X_train, Y_train)"
   ]
  },
  {
   "cell_type": "code",
   "execution_count": 28,
   "metadata": {
    "collapsed": false
   },
   "outputs": [],
   "source": [
    "Y_predict=model.predict(X_test)"
   ]
  },
  {
   "cell_type": "code",
   "execution_count": 29,
   "metadata": {
    "collapsed": false
   },
   "outputs": [
    {
     "data": {
      "text/plain": [
       "[('taxrate', 0.0271768718957901, 1, 618),\n",
       " ('calculatedfinishedsquarefeet', 2696.5, 2, 543),\n",
       " ('taxvaluedollarcnt', 9635.5, 3, 4),\n",
       " ('taxrate', -2.0, -1, -1),\n",
       " ('transactiondate', 1.4726447799960863e+18, 5, 436),\n",
       " ('taxvaluedollarcnt', 25694.0, 6, 7),\n",
       " ('taxrate', -2.0, -1, -1),\n",
       " ('finishedsquarefeet12', 1513.5, 8, 271),\n",
       " ('taxamount', 1592.2950439453125, 9, 34),\n",
       " ('finishedsquarefeet15', 1728.5, 10, 33),\n",
       " ('taxrate', 0.020684625953435898, 11, 32),\n",
       " ('taxrate', 0.020643617957830429, 12, 31),\n",
       " ('regionidzip', 96016.5, 13, 14),\n",
       " ('taxrate', -2.0, -1, -1),\n",
       " ('taxvaluedollarcnt', 26412.0, 15, 16),\n",
       " ('taxrate', -2.0, -1, -1),\n",
       " ('taxamount', 1354.375, 17, 30),\n",
       " ('calculatedfinishedsquarefeet', 869.5, 18, 19),\n",
       " ('taxrate', -2.0, -1, -1),\n",
       " ('yearbuilt', 1898.5, 20, 21),\n",
       " ('taxrate', -2.0, -1, -1),\n",
       " ('longitude', -119283328.0, 22, 23),\n",
       " ('taxrate', -2.0, -1, -1),\n",
       " ('latitude', 34644976.0, 24, 29),\n",
       " ('regionidcity', 396302.5, 25, 28),\n",
       " ('regionidcity', 41188.5, 26, 27),\n",
       " ('taxrate', -2.0, -1, -1),\n",
       " ('taxrate', -2.0, -1, -1),\n",
       " ('taxrate', -2.0, -1, -1),\n",
       " ('taxrate', -2.0, -1, -1),\n",
       " ('taxrate', -2.0, -1, -1),\n",
       " ('taxrate', -2.0, -1, -1),\n",
       " ('taxrate', -2.0, -1, -1),\n",
       " ('taxrate', -2.0, -1, -1),\n",
       " ('taxrate', 0.015060858801007271, 35, 228),\n",
       " ('lotsizesquarefeet', 1240653.5, 36, 227),\n",
       " ('latitude', 33347904.0, 37, 38),\n",
       " ('taxrate', -2.0, -1, -1),\n",
       " ('latitude', 33380298.0, 39, 40),\n",
       " ('taxrate', -2.0, -1, -1),\n",
       " ('censustractandblock', 60371016613888.0, 41, 42),\n",
       " ('taxrate', -2.0, -1, -1),\n",
       " ('transactiondate', 1.4561423474137498e+18, 43, 76),\n",
       " ('taxamount', 28590.3203125, 44, 75),\n",
       " ('taxamount', 15114.2001953125, 45, 74),\n",
       " ('structuretaxvaluedollarcnt', 40797.5, 46, 47),\n",
       " ('taxrate', -2.0, -1, -1),\n",
       " ('yearbuilt', 1957.5, 48, 49),\n",
       " ('taxrate', -2.0, -1, -1),\n",
       " ('garagetotalsqft', 684.0, 50, 73),\n",
       " ('latitude', 33440672.0, 51, 52),\n",
       " ('taxrate', -2.0, -1, -1),\n",
       " ('calculatedfinishedsquarefeet', 785.0, 53, 54),\n",
       " ('taxrate', -2.0, -1, -1),\n",
       " ('taxdelinquencyyear', 13.5, 55, 72),\n",
       " ('taxamount', 1633.6300048828125, 56, 57),\n",
       " ('taxrate', -2.0, -1, -1),\n",
       " ('taxvaluedollarcnt', 142490.0, 58, 59),\n",
       " ('taxrate', -2.0, -1, -1),\n",
       " ('taxvaluedollarcnt', 145507.5, 60, 61),\n",
       " ('taxrate', -2.0, -1, -1),\n",
       " ('yardbuildingsqft17', 330.0, 62, 71),\n",
       " ('regionidcity', 396553.5, 63, 70),\n",
       " ('lotsizesquarefeet', 588760.0, 64, 69),\n",
       " ('poolcnt', 0.0, 65, 68),\n",
       " ('fireplacecnt', 0.0, 66, 67),\n",
       " ('taxrate', -2.0, -1, -1),\n",
       " ('taxrate', -2.0, -1, -1),\n",
       " ('taxrate', -2.0, -1, -1),\n",
       " ('taxrate', -2.0, -1, -1),\n",
       " ('taxrate', -2.0, -1, -1),\n",
       " ('taxrate', -2.0, -1, -1),\n",
       " ('taxrate', -2.0, -1, -1),\n",
       " ('taxrate', -2.0, -1, -1),\n",
       " ('taxrate', -2.0, -1, -1),\n",
       " ('taxrate', -2.0, -1, -1),\n",
       " ('taxamount', 9416.2451171875, 77, 226),\n",
       " ('calculatedfinishedsquarefeet', 1537.0, 78, 225),\n",
       " ('landtaxvaluedollarcnt', 18231.5, 79, 80),\n",
       " ('taxrate', -2.0, -1, -1),\n",
       " ('structuretaxvaluedollarcnt', 44276.5, 81, 82),\n",
       " ('taxrate', -2.0, -1, -1),\n",
       " ('propertylandusetypeid', 138.5, 83, 84),\n",
       " ('taxrate', -2.0, -1, -1),\n",
       " ('structuretaxvaluedollarcnt', 568183.0, 85, 224),\n",
       " ('lotsizesquarefeet', 11989.5, 86, 203),\n",
       " ('landtaxvaluedollarcnt', 24310.0, 87, 88),\n",
       " ('taxrate', -2.0, -1, -1),\n",
       " ('structuretaxvaluedollarcnt', 46326.5, 89, 90),\n",
       " ('taxrate', -2.0, -1, -1),\n",
       " ('longitude', -117576784.0, 91, 202),\n",
       " ('regionidzip', 96199.0, 92, 117),\n",
       " ('taxrate', 0.00843821931630373, 93, 94),\n",
       " ('taxrate', -2.0, -1, -1),\n",
       " ('calculatedfinishedsquarefeet', 1355.5, 95, 116),\n",
       " ('latitude', 34128052.0, 96, 115),\n",
       " ('landtaxvaluedollarcnt', 633621.0, 97, 114),\n",
       " ('airconditioningtypeid', 9.0, 98, 113),\n",
       " ('censustractandblock', 60371880640512.0, 99, 100),\n",
       " ('taxrate', -2.0, -1, -1),\n",
       " ('taxvaluedollarcnt', 149645.5, 101, 102),\n",
       " ('taxrate', -2.0, -1, -1),\n",
       " ('landtaxvaluedollarcnt', 48159.0, 103, 104),\n",
       " ('taxrate', -2.0, -1, -1),\n",
       " ('buildingqualitytypeid', 8.5, 105, 112),\n",
       " ('structuretaxvaluedollarcnt', 308134.5, 106, 111),\n",
       " ('finishedsquarefeet12', 781.0, 107, 108),\n",
       " ('taxrate', -2.0, -1, -1),\n",
       " ('latitude', 34100128.0, 109, 110),\n",
       " ('taxrate', -2.0, -1, -1),\n",
       " ('taxrate', -2.0, -1, -1),\n",
       " ('taxrate', -2.0, -1, -1),\n",
       " ('taxrate', -2.0, -1, -1),\n",
       " ('taxrate', -2.0, -1, -1),\n",
       " ('taxrate', -2.0, -1, -1),\n",
       " ('taxrate', -2.0, -1, -1),\n",
       " ('taxrate', -2.0, -1, -1),\n",
       " ('structuretaxvaluedollarcnt', 49084.0, 118, 119),\n",
       " ('taxrate', -2.0, -1, -1),\n",
       " ('lotsizesquarefeet', 10858.0, 120, 201),\n",
       " ('finishedfloor1squarefeet', 1400.0, 121, 200),\n",
       " ('yardbuildingsqft17', 650.0, 122, 199),\n",
       " ('finishedsquarefeet50', 1171.0, 123, 198),\n",
       " ('latitude', 34654304.0, 124, 197),\n",
       " ('taxrate', 0.014951407909393311, 125, 196),\n",
       " ('latitude', 34453296.0, 126, 195),\n",
       " ('taxrate', 0.006352216936647892, 127, 128),\n",
       " ('taxrate', -2.0, -1, -1),\n",
       " ('taxvaluedollarcnt', 490367.5, 129, 194),\n",
       " ('structuretaxvaluedollarcnt', 314398.0, 130, 193),\n",
       " ('lotsizesquarefeet', 10809.5, 131, 192),\n",
       " ('taxamount', 6932.294921875, 132, 191),\n",
       " ('taxvaluedollarcnt', 485137.5, 133, 190),\n",
       " ('landtaxvaluedollarcnt', 130273.0, 134, 149),\n",
       " ('latitude', 33430038.0, 135, 136),\n",
       " ('taxrate', -2.0, -1, -1),\n",
       " ('transactiondate', 1.4718672878362952e+18, 137, 148),\n",
       " ('yearbuilt', 1990.5, 138, 147),\n",
       " ('censustractandblock', 60372941799424.0, 139, 140),\n",
       " ('taxrate', -2.0, -1, -1),\n",
       " ('structuretaxvaluedollarcnt', 50096.0, 141, 142),\n",
       " ('taxrate', -2.0, -1, -1),\n",
       " ('taxdelinquencyyear', 13.5, 143, 146),\n",
       " ('roomcnt_offby', -5.75, 144, 145),\n",
       " ('taxrate', -2.0, -1, -1),\n",
       " ('taxrate', -2.0, -1, -1),\n",
       " ('taxrate', -2.0, -1, -1),\n",
       " ('taxrate', -2.0, -1, -1),\n",
       " ('taxrate', -2.0, -1, -1),\n",
       " ('landtaxvaluedollarcnt', 134362.0, 150, 151),\n",
       " ('taxrate', -2.0, -1, -1),\n",
       " ('lotsizesquarefeet', 6099.5, 152, 171),\n",
       " ('taxamount', 5890.60009765625, 153, 170),\n",
       " ('bedroomcnt', 2.5, 154, 169),\n",
       " ('finishedsquarefeet15', 509.5, 155, 168),\n",
       " ('regionidcity', 13120.5, 156, 157),\n",
       " ('taxrate', -2.0, -1, -1),\n",
       " ('lotsizesquarefeet', 5794.5, 158, 167),\n",
       " ('landtaxvaluedollarcnt', 382177.5, 159, 166),\n",
       " ('regionidcity', 396302.5, 160, 165),\n",
       " ('censustractandblock', 60374606938112.0, 161, 162),\n",
       " ('taxrate', -2.0, -1, -1),\n",
       " ('transactiondate', 1.4715214914293596e+18, 163, 164),\n",
       " ('taxrate', -2.0, -1, -1),\n",
       " ('taxrate', -2.0, -1, -1),\n",
       " ('taxrate', -2.0, -1, -1),\n",
       " ('taxrate', -2.0, -1, -1),\n",
       " ('taxrate', -2.0, -1, -1),\n",
       " ('taxrate', -2.0, -1, -1),\n",
       " ('taxrate', -2.0, -1, -1),\n",
       " ('taxrate', -2.0, -1, -1),\n",
       " ('latitude', 33574240.0, 172, 173),\n",
       " ('taxrate', -2.0, -1, -1),\n",
       " ('bedroomcnt', 1.5, 174, 175),\n",
       " ('taxrate', -2.0, -1, -1),\n",
       " ('regionidzip', 96207.0, 176, 177),\n",
       " ('taxrate', -2.0, -1, -1),\n",
       " ('regionidzip', 96256.0, 178, 179),\n",
       " ('taxrate', -2.0, -1, -1),\n",
       " ('bedroomcnt', 4.5, 180, 189),\n",
       " ('taxamount', 6398.98486328125, 181, 188),\n",
       " ('taxvaluedollarcnt', 481857.5, 182, 187),\n",
       " ('taxrate', 0.0089083351194858551, 183, 184),\n",
       " ('taxrate', -2.0, -1, -1),\n",
       " ('garagetotalsqft', 490.0, 185, 186),\n",
       " ('taxrate', -2.0, -1, -1),\n",
       " ('taxrate', -2.0, -1, -1),\n",
       " ('taxrate', -2.0, -1, -1),\n",
       " ('taxrate', -2.0, -1, -1),\n",
       " ('taxrate', -2.0, -1, -1),\n",
       " ('taxrate', -2.0, -1, -1),\n",
       " ('taxrate', -2.0, -1, -1),\n",
       " ('taxrate', -2.0, -1, -1),\n",
       " ('taxrate', -2.0, -1, -1),\n",
       " ('taxrate', -2.0, -1, -1),\n",
       " ('taxrate', -2.0, -1, -1),\n",
       " ('taxrate', -2.0, -1, -1),\n",
       " ('taxrate', -2.0, -1, -1),\n",
       " ('taxrate', -2.0, -1, -1),\n",
       " ('taxrate', -2.0, -1, -1),\n",
       " ('taxrate', -2.0, -1, -1),\n",
       " ('taxrate', -2.0, -1, -1),\n",
       " ('taxrate', -2.0, -1, -1),\n",
       " ('latitude', 34166352.0, 204, 223),\n",
       " ('longitude', -118864360.0, 205, 206),\n",
       " ('taxrate', -2.0, -1, -1),\n",
       " ('structuretaxvaluedollarcnt', 45294.0, 207, 208),\n",
       " ('taxrate', -2.0, -1, -1),\n",
       " ('taxvaluedollarcnt', 124228.5, 209, 210),\n",
       " ('taxrate', -2.0, -1, -1),\n",
       " ('censustractandblock', 60371247300608.0, 211, 212),\n",
       " ('taxrate', -2.0, -1, -1),\n",
       " ('lotsizesquarefeet', 12056.0, 213, 214),\n",
       " ('taxrate', -2.0, -1, -1),\n",
       " ('rawcensustractandblock', 60372640.0, 215, 216),\n",
       " ('taxrate', -2.0, -1, -1),\n",
       " ('censustractandblock', 60372685946880.0, 217, 218),\n",
       " ('taxrate', -2.0, -1, -1),\n",
       " ('structuretaxvaluedollarcnt', 342884.0, 219, 222),\n",
       " ('poolcnt', 0.0, 220, 221),\n",
       " ('taxrate', -2.0, -1, -1),\n",
       " ('taxrate', -2.0, -1, -1),\n",
       " ('taxrate', -2.0, -1, -1),\n",
       " ('taxrate', -2.0, -1, -1),\n",
       " ('taxrate', -2.0, -1, -1),\n",
       " ('taxrate', -2.0, -1, -1),\n",
       " ('taxrate', -2.0, -1, -1),\n",
       " ('taxrate', -2.0, -1, -1),\n",
       " ('buildingqualitytypeid', 8.5, 229, 270),\n",
       " ('taxrate', 0.015063346363604069, 230, 231),\n",
       " ('taxrate', -2.0, -1, -1),\n",
       " ('landtaxvaluedollarcnt', 2327811.0, 232, 269),\n",
       " ('finishedsquarefeet15', 2621.0, 233, 268),\n",
       " ('finishedsquarefeet15', 1463.0, 234, 267),\n",
       " ('bedroomcnt', 5.5, 235, 266),\n",
       " ('taxrate', 0.025446727871894836, 236, 265),\n",
       " ('finishedsquarefeet6', 1153.0, 237, 264),\n",
       " ('regionidzip', 95988.0, 238, 239),\n",
       " ('taxrate', -2.0, -1, -1),\n",
       " ('yearbuilt', 1924.5, 240, 241),\n",
       " ('taxrate', -2.0, -1, -1),\n",
       " ('bathroomcnt', 0.5, 242, 243),\n",
       " ('taxrate', -2.0, -1, -1),\n",
       " ('fullbathcnt', 0.0, 244, 245),\n",
       " ('taxrate', -2.0, -1, -1),\n",
       " ('heatingorsystemtypeid', 21.0, 246, 263),\n",
       " ('taxamount', 1599.18505859375, 247, 248),\n",
       " ('taxrate', -2.0, -1, -1),\n",
       " ('regionidneighborhood', 416315.5, 249, 262),\n",
       " ('lotsizesquarefeet', 171467.5, 250, 261),\n",
       " ('finishedsquarefeet15', 1425.0, 251, 260),\n",
       " ('structuretaxvaluedollarcnt', 72890.5, 252, 253),\n",
       " ('taxrate', -2.0, -1, -1),\n",
       " ('structuretaxvaluedollarcnt', 80631.0, 254, 255),\n",
       " ('taxrate', -2.0, -1, -1),\n",
       " ('finishedsquarefeet12', 999.5, 256, 257),\n",
       " ('taxrate', -2.0, -1, -1),\n",
       " ('structuretaxvaluedollarcnt', 91382.5, 258, 259),\n",
       " ('taxrate', -2.0, -1, -1),\n",
       " ('taxrate', -2.0, -1, -1),\n",
       " ('taxrate', -2.0, -1, -1),\n",
       " ('taxrate', -2.0, -1, -1),\n",
       " ('taxrate', -2.0, -1, -1),\n",
       " ('taxrate', -2.0, -1, -1),\n",
       " ('taxrate', -2.0, -1, -1),\n",
       " ('taxrate', -2.0, -1, -1),\n",
       " ('taxrate', -2.0, -1, -1),\n",
       " ('taxrate', -2.0, -1, -1),\n",
       " ('taxrate', -2.0, -1, -1),\n",
       " ('taxrate', -2.0, -1, -1),\n",
       " ('taxrate', -2.0, -1, -1),\n",
       " ('taxamount', 95765.609375, 272, 435),\n",
       " ('latitude', 33373736.0, 273, 274),\n",
       " ('taxrate', -2.0, -1, -1),\n",
       " ('poolcnt', 0.0, 275, 384),\n",
       " ('landtaxvaluedollarcnt', 7326.5, 276, 277),\n",
       " ('taxrate', -2.0, -1, -1),\n",
       " ('taxvaluedollarcnt', 30905.5, 278, 279),\n",
       " ('taxrate', -2.0, -1, -1),\n",
       " ('transactiondate', 1.4550191962859766e+18, 280, 295),\n",
       " ('taxamount', 58804.5625, 281, 294),\n",
       " ('yearbuilt', 1910.5, 282, 283),\n",
       " ('taxrate', -2.0, -1, -1),\n",
       " ('taxvaluedollarcnt', 197068.0, 284, 285),\n",
       " ('taxrate', -2.0, -1, -1),\n",
       " ('taxdelinquencyyear', 14.5, 286, 293),\n",
       " ('rawcensustractandblock', 60371012.0, 287, 288),\n",
       " ('taxrate', -2.0, -1, -1),\n",
       " ('yardbuildingsqft17', 285.0, 289, 292),\n",
       " ('taxrate', 0.012678367085754871, 290, 291),\n",
       " ('taxrate', -2.0, -1, -1),\n",
       " ('taxrate', -2.0, -1, -1),\n",
       " ('taxrate', -2.0, -1, -1),\n",
       " ('taxrate', -2.0, -1, -1),\n",
       " ('taxrate', -2.0, -1, -1),\n",
       " ('structuretaxvaluedollarcnt', 56564.5, 296, 297),\n",
       " ('taxrate', -2.0, -1, -1),\n",
       " ('lotsizesquarefeet', 11368.5, 298, 367),\n",
       " ('taxrate', 0.017018992453813553, 299, 366),\n",
       " ('regionidcity', 396302.0, 300, 365),\n",
       " ('regionidzip', 96326.5, 301, 310),\n",
       " ('lotsizesquarefeet', 7501.5, 302, 309),\n",
       " ('finishedsquarefeet12', 1685.5, 303, 304),\n",
       " ('taxrate', -2.0, -1, -1),\n",
       " ('yearbuilt', 1896.5, 305, 306),\n",
       " ('taxrate', -2.0, -1, -1),\n",
       " ('landtaxvaluedollarcnt', 210009.5, 307, 308),\n",
       " ('taxrate', -2.0, -1, -1),\n",
       " ('taxrate', -2.0, -1, -1),\n",
       " ('taxrate', -2.0, -1, -1),\n",
       " ('finishedsquarefeet12', 2685.5, 311, 364),\n",
       " ('transactiondate', 1.4657328375870259e+18, 312, 349),\n",
       " ('bathroomcnt', 0.5, 313, 314),\n",
       " ('taxrate', -2.0, -1, -1),\n",
       " ('landtaxvaluedollarcnt', 1976456.5, 315, 348),\n",
       " ('rawcensustractandblock', 60590472.0, 316, 333),\n",
       " ('latitude', 34203144.0, 317, 332),\n",
       " ('latitude', 34202328.0, 318, 331),\n",
       " ('yearbuilt', 1928.5, 319, 320),\n",
       " ('taxrate', -2.0, -1, -1),\n",
       " ('bedroomcnt', 5.5, 321, 330),\n",
       " ('latitude', 34190300.0, 322, 329),\n",
       " ('regionidcity', 257474.5, 323, 328),\n",
       " ('regionidcity', 7930.5, 324, 325),\n",
       " ('taxrate', -2.0, -1, -1),\n",
       " ('regionidzip', 97026.5, 326, 327),\n",
       " ('taxrate', -2.0, -1, -1),\n",
       " ('taxrate', -2.0, -1, -1),\n",
       " ('taxrate', -2.0, -1, -1),\n",
       " ('taxrate', -2.0, -1, -1),\n",
       " ('taxrate', -2.0, -1, -1),\n",
       " ('taxrate', -2.0, -1, -1),\n",
       " ('taxrate', -2.0, -1, -1),\n",
       " ('regionidneighborhood', 762083.5, 334, 347),\n",
       " ('landtaxvaluedollarcnt', 1544584.5, 335, 346),\n",
       " ('garagetotalsqft', 627.5, 336, 345),\n",
       " ('garagetotalsqft', 611.0, 337, 344),\n",
       " ('structuretaxvaluedollarcnt', 74437.5, 338, 339),\n",
       " ('taxrate', -2.0, -1, -1),\n",
       " ('finishedsquarefeet50', 1507.0, 340, 343),\n",
       " ('transactiondate', 1.4583887871082496e+18, 341, 342),\n",
       " ('taxrate', -2.0, -1, -1),\n",
       " ('taxrate', -2.0, -1, -1),\n",
       " ('taxrate', -2.0, -1, -1),\n",
       " ('taxrate', -2.0, -1, -1),\n",
       " ('taxrate', -2.0, -1, -1),\n",
       " ('taxrate', -2.0, -1, -1),\n",
       " ('taxrate', -2.0, -1, -1),\n",
       " ('taxrate', -2.0, -1, -1),\n",
       " ('structuretaxvaluedollarcnt', 622173.0, 350, 363),\n",
       " ('taxamount', 25590.3203125, 351, 362),\n",
       " ('yearbuilt', 957.0, 352, 353),\n",
       " ('taxrate', -2.0, -1, -1),\n",
       " ('latitude', 34703808.0, 354, 361),\n",
       " ('structuretaxvaluedollarcnt', 334951.0, 355, 360),\n",
       " ('taxamount', 4203.52001953125, 356, 357),\n",
       " ('taxrate', -2.0, -1, -1),\n",
       " ('regionidzip', 96964.5, 358, 359),\n",
       " ('taxrate', -2.0, -1, -1),\n",
       " ('taxrate', -2.0, -1, -1),\n",
       " ('taxrate', -2.0, -1, -1),\n",
       " ('taxrate', -2.0, -1, -1),\n",
       " ('taxrate', -2.0, -1, -1),\n",
       " ('taxrate', -2.0, -1, -1),\n",
       " ('taxrate', -2.0, -1, -1),\n",
       " ('taxrate', -2.0, -1, -1),\n",
       " ('taxrate', -2.0, -1, -1),\n",
       " ('landtaxvaluedollarcnt', 15283.5, 368, 369),\n",
       " ('taxrate', -2.0, -1, -1),\n",
       " ('regionidzip', 97323.5, 370, 383),\n",
       " ('longitude', -117860912.0, 371, 382),\n",
       " ('landtaxvaluedollarcnt', 16475.0, 372, 373),\n",
       " ('taxrate', -2.0, -1, -1),\n",
       " ('latitude', 33757488.0, 374, 375),\n",
       " ('taxrate', -2.0, -1, -1),\n",
       " ('taxamount', 1341.1300048828125, 376, 377),\n",
       " ('taxrate', -2.0, -1, -1),\n",
       " ('longitude', -118863144.0, 378, 379),\n",
       " ('taxrate', -2.0, -1, -1),\n",
       " ('latitude', 34214800.0, 380, 381),\n",
       " ('taxrate', -2.0, -1, -1),\n",
       " ('taxrate', -2.0, -1, -1),\n",
       " ('taxrate', -2.0, -1, -1),\n",
       " ('taxrate', -2.0, -1, -1),\n",
       " ('latitude', 34667900.0, 385, 434),\n",
       " ('garagecarcnt', 4.0, 386, 433),\n",
       " ('pooltypeid7', 0.0, 387, 388),\n",
       " ('taxrate', -2.0, -1, -1),\n",
       " ('taxvaluedollarcnt', 809770.0, 389, 432),\n",
       " ('finishedsquarefeet50', 2609.5, 390, 431),\n",
       " ('structuretaxvaluedollarcnt', 525460.5, 391, 430),\n",
       " ('structuretaxvaluedollarcnt', 446506.5, 392, 429),\n",
       " ('landtaxvaluedollarcnt', 13515.5, 393, 394),\n",
       " ('taxrate', -2.0, -1, -1),\n",
       " ('latitude', 34226056.0, 395, 428),\n",
       " ('lotsizesquarefeet', 934526.0, 396, 427),\n",
       " ('finishedfloor1squarefeet', 2443.5, 397, 426),\n",
       " ('finishedfloor1squarefeet', 2375.5, 398, 425),\n",
       " ('structuretaxvaluedollarcnt', 59865.0, 399, 400),\n",
       " ('taxrate', -2.0, -1, -1),\n",
       " ('taxrate', 0.02494417130947113, 401, 424),\n",
       " ('taxrate', 0.0095783285796642303, 402, 403),\n",
       " ('taxrate', -2.0, -1, -1),\n",
       " ('finishedsquarefeet12', 2692.5, 404, 423),\n",
       " ('propertylandusetypeid', 263.5, 405, 422),\n",
       " ('censustractandblock', 60371075334144.0, 406, 407),\n",
       " ('taxrate', -2.0, -1, -1),\n",
       " ('regionidcity', 10040.5, 408, 409),\n",
       " ('taxrate', -2.0, -1, -1),\n",
       " ('finishedsquarefeet12', 1531.0, 410, 411),\n",
       " ('taxrate', -2.0, -1, -1),\n",
       " ('yearbuilt', 1949.5, 412, 413),\n",
       " ('taxrate', -2.0, -1, -1),\n",
       " ('yearbuilt', 1951.5, 414, 415),\n",
       " ('taxrate', -2.0, -1, -1),\n",
       " ('regionidcity', 255441.0, 416, 421),\n",
       " ('heatingorsystemtypeid', 13.5, 417, 420),\n",
       " ('taxrate', 0.012504668906331062, 418, 419),\n",
       " ('taxrate', -2.0, -1, -1),\n",
       " ('taxrate', -2.0, -1, -1),\n",
       " ('taxrate', -2.0, -1, -1),\n",
       " ('taxrate', -2.0, -1, -1),\n",
       " ('taxrate', -2.0, -1, -1),\n",
       " ('taxrate', -2.0, -1, -1),\n",
       " ('taxrate', -2.0, -1, -1),\n",
       " ('taxrate', -2.0, -1, -1),\n",
       " ('taxrate', -2.0, -1, -1),\n",
       " ('taxrate', -2.0, -1, -1),\n",
       " ('taxrate', -2.0, -1, -1),\n",
       " ('taxrate', -2.0, -1, -1),\n",
       " ('taxrate', -2.0, -1, -1),\n",
       " ('taxrate', -2.0, -1, -1),\n",
       " ('taxrate', -2.0, -1, -1),\n",
       " ('taxrate', -2.0, -1, -1),\n",
       " ('taxrate', -2.0, -1, -1),\n",
       " ('taxrate', -2.0, -1, -1),\n",
       " ('latitude', 34742684.0, 437, 542),\n",
       " ('unitcnt', 3.5, 438, 541),\n",
       " ('structuretaxvaluedollarcnt', 19352.5, 439, 440),\n",
       " ('taxrate', -2.0, -1, -1),\n",
       " ('latitude', 34724244.0, 441, 540),\n",
       " ('finishedsquarefeet6', 2609.5, 442, 539),\n",
       " ('taxamount', 2744.5, 443, 476),\n",
       " ('landtaxvaluedollarcnt', 261918.5, 444, 475),\n",
       " ('latitude', 34715824.0, 445, 474),\n",
       " ('yearbuilt', 2009.5, 446, 473),\n",
       " ('yardbuildingsqft17', 344.0, 447, 472),\n",
       " ('taxdelinquencyyear', 14.5, 448, 471),\n",
       " ('finishedsquarefeet15', 1987.5, 449, 470),\n",
       " ('taxvaluedollarcnt', 65329.0, 450, 451),\n",
       " ('taxrate', -2.0, -1, -1),\n",
       " ('taxvaluedollarcnt', 65434.0, 452, 453),\n",
       " ('taxrate', -2.0, -1, -1),\n",
       " ('taxrate', 0.024175196886062622, 454, 469),\n",
       " ('taxrate', 0.023630291223526001, 455, 468),\n",
       " ('longitude', -119261840.0, 456, 457),\n",
       " ('taxrate', -2.0, -1, -1),\n",
       " ('taxamount', 1375.669921875, 458, 459),\n",
       " ('taxrate', -2.0, -1, -1),\n",
       " ('yearbuilt', 1908.5, 460, 461),\n",
       " ('taxrate', -2.0, -1, -1),\n",
       " ('regionidzip', 97337.5, 462, 467),\n",
       " ('regionidcity', 118886.5, 463, 466),\n",
       " ('latitude', 34068836.0, 464, 465),\n",
       " ('taxrate', -2.0, -1, -1),\n",
       " ('taxrate', -2.0, -1, -1),\n",
       " ('taxrate', -2.0, -1, -1),\n",
       " ('taxrate', -2.0, -1, -1),\n",
       " ('taxrate', -2.0, -1, -1),\n",
       " ('taxrate', -2.0, -1, -1),\n",
       " ('taxrate', -2.0, -1, -1),\n",
       " ('taxrate', -2.0, -1, -1),\n",
       " ('taxrate', -2.0, -1, -1),\n",
       " ('taxrate', -2.0, -1, -1),\n",
       " ('taxrate', -2.0, -1, -1),\n",
       " ('taxrate', -2.0, -1, -1),\n",
       " ('yearbuilt', 1964.5, 477, 506),\n",
       " ('finishedsquarefeet6', 2148.5, 478, 505),\n",
       " ('longitude', -119303856.0, 479, 480),\n",
       " ('taxrate', -2.0, -1, -1),\n",
       " ('censustractandblock', 60372375568384.0, 481, 482),\n",
       " ('taxrate', -2.0, -1, -1),\n",
       " ('censustractandblock', 60374623715328.0, 483, 484),\n",
       " ('taxrate', -2.0, -1, -1),\n",
       " ('taxrate', 0.025724926963448524, 485, 504),\n",
       " ('taxamount', 31294.25, 486, 503),\n",
       " ('regionidneighborhood', 763090.0, 487, 502),\n",
       " ('rawcensustractandblock', 60374820.0, 488, 489),\n",
       " ('taxrate', -2.0, -1, -1),\n",
       " ('rawcensustractandblock', 60374912.0, 490, 491),\n",
       " ('taxrate', -2.0, -1, -1),\n",
       " ('taxrate', 0.025240637362003326, 492, 501),\n",
       " ('taxrate', 0.020317580550909042, 493, 500),\n",
       " ('yardbuildingsqft17', 563.5, 494, 499),\n",
       " ('latitude', 33341520.0, 495, 496),\n",
       " ('taxrate', -2.0, -1, -1),\n",
       " ('yearbuilt', 1949.5, 497, 498),\n",
       " ('taxrate', -2.0, -1, -1),\n",
       " ('taxrate', -2.0, -1, -1),\n",
       " ('taxrate', -2.0, -1, -1),\n",
       " ('taxrate', -2.0, -1, -1),\n",
       " ('taxrate', -2.0, -1, -1),\n",
       " ('taxrate', -2.0, -1, -1),\n",
       " ('taxrate', -2.0, -1, -1),\n",
       " ('taxrate', -2.0, -1, -1),\n",
       " ('taxrate', -2.0, -1, -1),\n",
       " ('regionidzip', 96014.0, 507, 508),\n",
       " ('taxrate', -2.0, -1, -1),\n",
       " ('calculatedbathnbr', 3.25, 509, 538),\n",
       " ('buildingqualitytypeid', 11.0, 510, 537),\n",
       " ('structuretaxvaluedollarcnt', 54969.0, 511, 512),\n",
       " ('taxrate', -2.0, -1, -1),\n",
       " ('structuretaxvaluedollarcnt', 60498.5, 513, 514),\n",
       " ('taxrate', -2.0, -1, -1),\n",
       " ('taxamount', 2755.7998046875, 515, 516),\n",
       " ('taxrate', -2.0, -1, -1),\n",
       " ('taxamount', 2830.64990234375, 517, 518),\n",
       " ('taxrate', -2.0, -1, -1),\n",
       " ('taxamount', 3341.9599609375, 519, 520),\n",
       " ('taxrate', -2.0, -1, -1),\n",
       " ('taxamount', 4603.990234375, 521, 522),\n",
       " ('taxrate', -2.0, -1, -1),\n",
       " ('regionidcity', 54537.0, 523, 536),\n",
       " ('latitude', 33428806.0, 524, 525),\n",
       " ('taxrate', -2.0, -1, -1),\n",
       " ('taxrate', 0.0075631039217114449, 526, 527),\n",
       " ('taxrate', -2.0, -1, -1),\n",
       " ('roomcnt_offby', -8.5, 528, 529),\n",
       " ('taxrate', -2.0, -1, -1),\n",
       " ('taxrate', 0.012092724442481995, 530, 531),\n",
       " ('taxrate', -2.0, -1, -1),\n",
       " ('landtaxvaluedollarcnt', 921729.0, 532, 535),\n",
       " ('regionidzip', 96368.5, 533, 534),\n",
       " ('taxrate', -2.0, -1, -1),\n",
       " ('taxrate', -2.0, -1, -1),\n",
       " ('taxrate', -2.0, -1, -1),\n",
       " ('taxrate', -2.0, -1, -1),\n",
       " ('taxrate', -2.0, -1, -1),\n",
       " ('taxrate', -2.0, -1, -1),\n",
       " ('taxrate', -2.0, -1, -1),\n",
       " ('taxrate', -2.0, -1, -1),\n",
       " ('taxrate', -2.0, -1, -1),\n",
       " ('taxrate', -2.0, -1, -1),\n",
       " ('calculatedfinishedsquarefeet', 5708.5, 544, 617),\n",
       " ('lotsizesquarefeet', 235313.5, 545, 616),\n",
       " ('structuretaxvaluedollarcnt', 110246.0, 546, 547),\n",
       " ('taxrate', -2.0, -1, -1),\n",
       " ('garagecarcnt', 7.5, 548, 615),\n",
       " ('bedroomcnt', 14.0, 549, 614),\n",
       " ('finishedsquarefeet6', 4196.5, 550, 613),\n",
       " ('structuretaxvaluedollarcnt', 110497.5, 551, 552),\n",
       " ('taxrate', -2.0, -1, -1),\n",
       " ('taxrate', 0.020618516951799393, 553, 612),\n",
       " ('poolcnt', 0.0, 554, 593),\n",
       " ('calculatedfinishedsquarefeet', 4609.5, 555, 592),\n",
       " ('yearbuilt', 1910.5, 556, 557),\n",
       " ('taxrate', -2.0, -1, -1),\n",
       " ('bedroomcnt', 11.0, 558, 591),\n",
       " ('propertylandusetypeid', 247.5, 559, 560),\n",
       " ('taxrate', -2.0, -1, -1),\n",
       " ('regionidzip', 95984.0, 561, 562),\n",
       " ('taxrate', -2.0, -1, -1),\n",
       " ('taxvaluedollarcnt', 1206000.0, 563, 590),\n",
       " ('taxvaluedollarcnt', 962686.5, 564, 589),\n",
       " ('pooltypeid10', 0.0, 565, 588),\n",
       " ('lotsizesquarefeet', 11784.0, 566, 587),\n",
       " ('finishedsquarefeet15', 3279.0, 567, 586),\n",
       " ('calculatedfinishedsquarefeet', 4030.5, 568, 585),\n",
       " ('yearbuilt', 1914.0, 569, 570),\n",
       " ('taxrate', -2.0, -1, -1),\n",
       " ('taxrate', 0.017875103279948235, 571, 584),\n",
       " ('censustractandblock', 60371020808192.0, 572, 573),\n",
       " ('taxrate', -2.0, -1, -1),\n",
       " ('regionidzip', 97323.5, 574, 583),\n",
       " ('roomcnt_offby', -9.75, 575, 576),\n",
       " ('taxrate', -2.0, -1, -1),\n",
       " ('calculatedfinishedsquarefeet', 2697.5, 577, 578),\n",
       " ('taxrate', -2.0, -1, -1),\n",
       " ('longitude', -119067136.0, 579, 580),\n",
       " ('taxrate', -2.0, -1, -1),\n",
       " ('yearbuilt', 1992.5, 581, 582),\n",
       " ('taxrate', -2.0, -1, -1),\n",
       " ('taxrate', -2.0, -1, -1),\n",
       " ('taxrate', -2.0, -1, -1),\n",
       " ('taxrate', -2.0, -1, -1),\n",
       " ('taxrate', -2.0, -1, -1),\n",
       " ('taxrate', -2.0, -1, -1),\n",
       " ('taxrate', -2.0, -1, -1),\n",
       " ('taxrate', -2.0, -1, -1),\n",
       " ('taxrate', -2.0, -1, -1),\n",
       " ('taxrate', -2.0, -1, -1),\n",
       " ('taxrate', -2.0, -1, -1),\n",
       " ('taxrate', -2.0, -1, -1),\n",
       " ('unitcnt', 3.0, 594, 611),\n",
       " ('structuretaxvaluedollarcnt', 116369.5, 595, 596),\n",
       " ('taxrate', -2.0, -1, -1),\n",
       " ('censustractandblock', 60371025002496.0, 597, 598),\n",
       " ('taxrate', -2.0, -1, -1),\n",
       " ('lotsizesquarefeet', 141060.5, 599, 610),\n",
       " ('structuretaxvaluedollarcnt', 179789.0, 600, 601),\n",
       " ('taxrate', -2.0, -1, -1),\n",
       " ('regionidzip', 95998.0, 602, 603),\n",
       " ('taxrate', -2.0, -1, -1),\n",
       " ('finishedsquarefeet12', 3341.5, 604, 605),\n",
       " ('taxrate', -2.0, -1, -1),\n",
       " ('bathroomcnt', 2.25, 606, 607),\n",
       " ('taxrate', -2.0, -1, -1),\n",
       " ('taxrate', 0.013944990001618862, 608, 609),\n",
       " ('taxrate', -2.0, -1, -1),\n",
       " ('taxrate', -2.0, -1, -1),\n",
       " ('taxrate', -2.0, -1, -1),\n",
       " ('taxrate', -2.0, -1, -1),\n",
       " ('taxrate', -2.0, -1, -1),\n",
       " ('taxrate', -2.0, -1, -1),\n",
       " ('taxrate', -2.0, -1, -1),\n",
       " ('taxrate', -2.0, -1, -1),\n",
       " ('taxrate', -2.0, -1, -1),\n",
       " ('taxrate', -2.0, -1, -1),\n",
       " ('taxamount', 101992.875, 619, 630),\n",
       " ('structuretaxvaluedollarcnt', 1116781.5, 620, 629),\n",
       " ('structuretaxvaluedollarcnt', 147202.0, 621, 628),\n",
       " ('transactiondate', 1.4576112949484585e+18, 622, 623),\n",
       " ('taxrate', -2.0, -1, -1),\n",
       " ('bedroomcnt', 9.5, 624, 627),\n",
       " ('transactiondate', 1.4707439992695685e+18, 625, 626),\n",
       " ('taxrate', -2.0, -1, -1),\n",
       " ('taxrate', -2.0, -1, -1),\n",
       " ('taxrate', -2.0, -1, -1),\n",
       " ('taxrate', -2.0, -1, -1),\n",
       " ('taxrate', -2.0, -1, -1),\n",
       " ('taxrate', -2.0, -1, -1)]"
      ]
     },
     "execution_count": 29,
     "metadata": {},
     "output_type": "execute_result"
    }
   ],
   "source": [
    "# (<= value) left = false, right = true\n",
    "zip(X.columns[model.tree_.feature], model.tree_.threshold, model.tree_.children_left, model.tree_.children_right)"
   ]
  },
  {
   "cell_type": "code",
   "execution_count": 30,
   "metadata": {
    "collapsed": false
   },
   "outputs": [],
   "source": [
    "#Decision_Tree_Image(model, X_train.columns)"
   ]
  },
  {
   "cell_type": "markdown",
   "metadata": {},
   "source": [
    "## Model evaluation"
   ]
  },
  {
   "cell_type": "code",
   "execution_count": 31,
   "metadata": {
    "collapsed": false
   },
   "outputs": [
    {
     "name": "stdout",
     "output_type": "stream",
     "text": [
      "('MAE: ', 0.072661837441152038)\n"
     ]
    }
   ],
   "source": [
    "# Zillow MAE (test)\n",
    "print(\"MAE: \",metrics.mean_absolute_error(Y_test['logerror'], Y_predict))"
   ]
  },
  {
   "cell_type": "raw",
   "metadata": {
    "collapsed": false
   },
   "source": [
    "Z = Y_test\n",
    "Z = Z.join(properties) \n",
    "\n",
    "Z['logerror_p'] = Y_predict\n",
    "Z['diff'] = Z['logerror'] - Z['logerror_p']\n",
    "Z['absdiff'] = abs(Z['logerror'] - Z['logerror_p'])\n",
    "\n",
    "columns = list(features_to_keep) + ['logerror', 'logerror_p', 'diff', 'absdiff']\n",
    "Z[columns].nlargest(10, columns='absdiff')\n",
    "#Z.nlargest(10, columns='absdiff')"
   ]
  },
  {
   "cell_type": "markdown",
   "metadata": {},
   "source": [
    "## Model Execution"
   ]
  },
  {
   "cell_type": "code",
   "execution_count": 469,
   "metadata": {
    "collapsed": false
   },
   "outputs": [],
   "source": [
    "sample_submission_f = '/Users/Jose/Desktop/Zillow/sample_submission.csv'\n",
    "submission = pd.read_csv(sample_submission_f, index_col='ParcelId')"
   ]
  },
  {
   "cell_type": "code",
   "execution_count": 470,
   "metadata": {
    "collapsed": false
   },
   "outputs": [
    {
     "name": "stdout",
     "output_type": "stream",
     "text": [
      "('Using logerroravg = ', 0.011457219606756525)\n"
     ]
    }
   ],
   "source": [
    "#  ATTEMPT 2 - \n",
    "logerroravg = train['logerror'].mean()\n",
    "print(\"Using logerroravg = \", logerroravg)"
   ]
  },
  {
   "cell_type": "code",
   "execution_count": 546,
   "metadata": {
    "collapsed": true
   },
   "outputs": [],
   "source": [
    "X_all = properties"
   ]
  },
  {
   "cell_type": "code",
   "execution_count": 5,
   "metadata": {
    "collapsed": false
   },
   "outputs": [],
   "source": [
    "# Add taxrate\n",
    "X_all['taxrate'] = np.divide(X_all['taxamount'],X_all['taxvaluedollarcnt'])"
   ]
  },
  {
   "cell_type": "code",
   "execution_count": 8,
   "metadata": {
    "collapsed": false
   },
   "outputs": [],
   "source": [
    "# Add roomcnt_offby\n",
    "X_all['roomcnt_offby'] = np.where(\n",
    "                                X_all['roomcnt']==0,\n",
    "                                0,\n",
    "                                X_all['roomcnt'].add(X_all['bathroomcnt'])\n",
    "                            )"
   ]
  },
  {
   "cell_type": "code",
   "execution_count": 9,
   "metadata": {
    "collapsed": false
   },
   "outputs": [],
   "source": [
    "# Clean features\n",
    "for col in train:\n",
    "    dt = X_all[col].dtype\n",
    "    if dt == 'float64':\n",
    "        X_all[col].fillna(-1, inplace='True')  \n",
    "    elif dt == 'object':\n",
    "        X_all = pd.get_dummies(X_all,columns=[col], dummy_na=True)"
   ]
  },
  {
   "cell_type": "code",
   "execution_count": 534,
   "metadata": {
    "collapsed": false
   },
   "outputs": [],
   "source": [
    "Y_all = model.predict(X_all)"
   ]
  },
  {
   "cell_type": "code",
   "execution_count": null,
   "metadata": {
    "collapsed": false
   },
   "outputs": [],
   "source": [
    "results = pd.DataFrame(index=X_all.index)\n",
    "results.index.names = ['ParcelId']\n",
    "results['201610'] = Y_all\n",
    "results['201611'] = Y_all\n",
    "results['201612'] = Y_all\n",
    "results['201710'] = Y_all\n",
    "results['201711'] = Y_all\n",
    "results['201712'] = Y_all"
   ]
  },
  {
   "cell_type": "code",
   "execution_count": null,
   "metadata": {
    "collapsed": false
   },
   "outputs": [],
   "source": [
    "submission = submission.drop(submission.columns[0:], axis=1)\n",
    "submission = submission.join(results)\n",
    "\n",
    "# Use average for properties with missing data\n",
    "submission.fillna(logerroravg, inplace=True)       \n",
    "submission.columns"
   ]
  },
  {
   "cell_type": "code",
   "execution_count": null,
   "metadata": {
    "collapsed": false
   },
   "outputs": [],
   "source": [
    "# Round as per rules\n",
    "submission = submission.round(4)"
   ]
  },
  {
   "cell_type": "markdown",
   "metadata": {},
   "source": [
    "## Sanity Checks"
   ]
  },
  {
   "cell_type": "code",
   "execution_count": null,
   "metadata": {
    "collapsed": false
   },
   "outputs": [],
   "source": [
    "# Average log error\n",
    "submission.describe().round(4)"
   ]
  },
  {
   "cell_type": "code",
   "execution_count": null,
   "metadata": {
    "collapsed": false
   },
   "outputs": [],
   "source": [
    "# Check for NaN\n",
    "submission.isnull().sum()"
   ]
  },
  {
   "cell_type": "code",
   "execution_count": null,
   "metadata": {
    "collapsed": false
   },
   "outputs": [],
   "source": [
    "# Check if any duplicates\n",
    "submission[submission.index.duplicated(keep=False)]"
   ]
  },
  {
   "cell_type": "code",
   "execution_count": null,
   "metadata": {
    "collapsed": false
   },
   "outputs": [],
   "source": [
    "# Check additional values in submission file\n",
    "submission[~submission.index.isin(properties.index)]"
   ]
  },
  {
   "cell_type": "code",
   "execution_count": null,
   "metadata": {
    "collapsed": false
   },
   "outputs": [],
   "source": [
    "# Check additional values in properties file\n",
    "properties[~properties.index.isin(submission.index)]"
   ]
  },
  {
   "cell_type": "markdown",
   "metadata": {},
   "source": [
    "## Dump File"
   ]
  },
  {
   "cell_type": "code",
   "execution_count": null,
   "metadata": {
    "collapsed": false
   },
   "outputs": [],
   "source": [
    "# Write file\n",
    "submission_f = '/Users/Jose/Desktop/Zillow/submission.csv'\n",
    "submission_fh = open(submission_f, 'wb')\n",
    "submission.to_csv(submission_fh, sep=',', header='true')\n",
    "submission_fh.close()"
   ]
  },
  {
   "cell_type": "markdown",
   "metadata": {},
   "source": [
    "## Historical Records"
   ]
  },
  {
   "cell_type": "raw",
   "metadata": {
    "collapsed": false
   },
   "source": [
    "RECORDS\n",
    "-------------------------------\n",
    "#  ATTEMPT 1 - 0.0651274\n",
    "#submission['201610']=0.0114\n",
    "#submission['201611']=0.0114\n",
    "#submission['201612']=0.0114\n",
    "#submission['201710']=0.0114\n",
    "#submission['201711']=0.0114\n",
    "#submission['201712']=0.0114\n",
    "\n",
    "# ATTEMPT 2 - 0.0661850\n",
    "('MAE: ', 0.0668810274162282)\n",
    " 'latitude',\t#  Latitude of the middle of the parcel multiplied by 10e6\n",
    " 'longitude',\t#  Longitude of the middle of the parcel multiplied by 10e6\n",
    " 'landtaxvaluedollarcnt',\t# The assessed value of the land area of the parcel\n",
    " 'taxamount'\n",
    "max_depth=30, \n",
    "min_samples_split = 100,\n",
    "min_samples_leaf = 80,\n",
    "criterion = \"mae\")\n",
    "\n",
    "# ATTEMPT 3 - \n",
    "Tree details\n",
    "[('finishedsquarefeet50_t', 0.013822920620441437, 1, 8),\n",
    " ('regionidcounty', -0.0011029399465769529, 2, 3),\n",
    " ('finishedsquarefeet6_t', -2.0, -1, -1),\n",
    " ('regionidzip_avg', 0.0082535082474350929, 4, 7),\n",
    " ('latitude', 0.0038456977345049381, 5, 6),\n",
    " ('finishedsquarefeet6_t', -2.0, -1, -1),\n",
    " ('finishedsquarefeet6_t', -2.0, -1, -1),\n",
    " ('finishedsquarefeet6_t', -2.0, -1, -1),\n",
    " ('longitude', 0.027296457439661026, 9, 12),\n",
    " ('latitude', 0.019690167158842087, 10, 11),\n",
    " ('finishedsquarefeet6_t', -2.0, -1, -1),\n",
    " ('finishedsquarefeet6_t', -2.0, -1, -1),\n",
    " ('finishedsquarefeet6_t', -2.0, -1, -1)]\n",
    " \n"
   ]
  },
  {
   "cell_type": "markdown",
   "metadata": {},
   "source": [
    "## Resources"
   ]
  },
  {
   "cell_type": "raw",
   "metadata": {
    "collapsed": true
   },
   "source": [
    "feature = 'structuretaxvaluedollarcnt'\n",
    "plt.xlabel(feature)\n",
    "plt.ylabel('logerror')\n",
    "plt.scatter(train[train['logerror']<-2][feature], \n",
    "            train[train['logerror']<-2]['logerror'],\n",
    "            c=train[train['logerror']<-2]['logerror'],\n",
    "            s=20, lw=0,vmin=-4, vmax=4,\n",
    "           cmap='seismic')\n",
    "plt.axis([ \n",
    "        #train[feature].min(), \n",
    "        #  train[feature].max(),\n",
    "        0, 1000000,\n",
    "          train['logerror'].min(), \n",
    "            train['logerror'].max()\n",
    "         ])    \n",
    "\n",
    "feature = 'structuretaxvaluedollarcnt'\n",
    "plt.xlabel(feature)\n",
    "plt.ylabel('logerror')\n",
    "plt.scatter(train[train['logerror']<-2][feature], \n",
    "            train[train['logerror']<-2]['logerror'],\n",
    "            c=train[train['logerror']<-2]['logerror'],\n",
    "            s=20, lw=0,vmin=-4, vmax=4,\n",
    "           cmap='seismic')\n",
    "plt.axis([ \n",
    "        #train[feature].min(), \n",
    "        #  train[feature].max(),\n",
    "        0, 1000000,\n",
    "          train['logerror'].min(), \n",
    "            train['logerror'].max()\n",
    "         ])    \n",
    "         \n",
    "\n",
    "# bedroomcnt\n",
    "#plt.trainlabel('bedroomcnt')\n",
    "#plt.ylabel('logerror')\n",
    "#plt.scatter(train['bathroomcnt'], train['logerror'], \n",
    "#           alpha=1, s=2, color='r')\n",
    "#plt.atrainis([0, 10,-5, 5])\n",
    "#plt.show()\n",
    "\n",
    "#date\n",
    "#plt.trainlabel('transactiondate')\n",
    "#plt.ylabel('logerror')\n",
    "#plt.scatter(train['bedroomcnt'], train['logerror'], alpha=1, s=2, color='r')\n",
    "#plt.atrainis(['2016-01-01', '2017-01-01',-5, 5])\n",
    "#plt.gcf().autofmt_traindate()\n",
    "#plt.show()\n",
    "\n",
    "#import matplotlib as mpl\n",
    "#plt.trainlabel('longitude')\n",
    "#plt.ylabel('latitude')\n",
    "#plt.scatter(train['longitude'], train['latitude'], c=train['logerror'], s=20, lw=0, cmap='seismic')\n",
    "#plt.atrainis([min(train['longitude']), matrain(train['longitude']),min(train['latitude']), matrain(train['latitude'])])\n",
    "#plt.colorbar()\n",
    "#plt.show()\n",
    "\n",
    "#train2 = train.query('logerror < -2.')\n",
    "\n",
    "#train2 = train.query('roomcnt == 0 ')\n",
    "\n",
    "#train2 = train.query('bedroomcnt > 2')\n",
    "\n",
    "#train2 = train.sample(frac=.10)\n",
    "\n",
    "#plt.trainlabel('longitude')\n",
    "#plt.ylabel('latitude')\n",
    "#plt.scatter(train2['longitude'], train2['latitude'], c=train2['logerror'], s=20, lw=0, cmap='seismic')\n",
    "#plt.colorbar()\n",
    "#plt.show()"
   ]
  }
 ],
 "metadata": {
  "kernelspec": {
   "display_name": "Python [Root]",
   "language": "python",
   "name": "Python [Root]"
  },
  "language_info": {
   "codemirror_mode": {
    "name": "ipython",
    "version": 2
   },
   "file_extension": ".py",
   "mimetype": "text/x-python",
   "name": "python",
   "nbconvert_exporter": "python",
   "pygments_lexer": "ipython2",
   "version": "2.7.12"
  }
 },
 "nbformat": 4,
 "nbformat_minor": 0
}
